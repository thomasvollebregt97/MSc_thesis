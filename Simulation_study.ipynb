{
 "cells": [
  {
   "cell_type": "markdown",
   "id": "7a465a09",
   "metadata": {},
   "source": [
    "# Univariate LSTM model for volatility forecasting"
   ]
  },
  {
   "cell_type": "markdown",
   "id": "ee19c21f",
   "metadata": {},
   "source": [
    "## 1. Importing packages "
   ]
  },
  {
   "cell_type": "code",
   "execution_count": 2,
   "id": "fec92db9",
   "metadata": {},
   "outputs": [
    {
     "name": "stderr",
     "output_type": "stream",
     "text": [
      "2023-06-08 15:22:34.867067: I tensorflow/core/platform/cpu_feature_guard.cc:193] This TensorFlow binary is optimized with oneAPI Deep Neural Network Library (oneDNN) to use the following CPU instructions in performance-critical operations:  AVX2 FMA\n",
      "To enable them in other operations, rebuild TensorFlow with the appropriate compiler flags.\n"
     ]
    }
   ],
   "source": [
    "import pandas as pd\n",
    "import numpy as np\n",
    "import math\n",
    "import matplotlib.pyplot as plt\n",
    "from sklearn.preprocessing import MinMaxScaler\n",
    "from sklearn.metrics import mean_squared_error\n",
    "from matplotlib import pyplot\n",
    "from keras.models import Sequential\n",
    "from keras.layers import Dense\n",
    "from keras.layers import Flatten\n",
    "from keras.layers import LSTM\n",
    "from keras.optimizers import Adam\n",
    "from sklearn.metrics import mean_absolute_error as mae\n",
    "from sklearn.metrics import mean_squared_error as mse\n",
    "from scipy.stats import t\n",
    "import collections"
   ]
  },
  {
   "cell_type": "markdown",
   "id": "8e769e51",
   "metadata": {},
   "source": [
    "## 1.1 Importing functions  "
   ]
  },
  {
   "cell_type": "code",
   "execution_count": 3,
   "id": "560ac3a7",
   "metadata": {},
   "outputs": [],
   "source": [
    "from Model_functions import scaled_data, make_supervised, test_batch, lstm_model, generate_2_forecasts, generate_2_forecasts_hybrid, generate_forecasts_hybrid_no_rf\n",
    "from Model_functions import calc_errors, calc_errors_ms, univariate_lstm_preds, dm_test_2, calc_errors_lstm, rv_calc\n",
    "from Model_functions import make_supervised_shift, univariate_lstm_preds_shift, generate_2_forecasts_hybrid_shift, create_h_step_forecasts, produce_h_step_forecasting_errors"
   ]
  },
  {
   "cell_type": "markdown",
   "id": "aaea941e",
   "metadata": {},
   "source": [
    "## 2. Unpacking simulated sequences "
   ]
  },
  {
   "cell_type": "code",
   "execution_count": 4,
   "id": "e6e97364",
   "metadata": {},
   "outputs": [],
   "source": [
    "sim_arch_draws = pd.read_csv('4. GARCH Modelling/2_Simulated_sequences/Simulated_sequences/sim_arch_draws.csv')\n",
    "sim_arch_condvol = pd.read_csv('4. GARCH Modelling/2_Simulated_sequences/Simulated_sequences/sim_arch_condvol.csv')\n",
    "sim_garch_draws = pd.read_csv('4. GARCH Modelling/2_Simulated_sequences/Simulated_sequences/sim_garch_draws.csv')\n",
    "sim_garch_condvol = pd.read_csv('4. GARCH Modelling/2_Simulated_sequences/Simulated_sequences/sim_garch_condvol.csv')\n",
    "sim_egarch_draws = pd.read_csv('4. GARCH Modelling/2_Simulated_sequences/Simulated_sequences/sim_egarch_draws.csv')\n",
    "sim_egarch_condvol = pd.read_csv('4. GARCH Modelling/2_Simulated_sequences/Simulated_sequences/sim_egarch_condvol.csv')\n",
    "sim_gjrgarch_draws = pd.read_csv('4. GARCH Modelling/2_Simulated_sequences/Simulated_sequences/sim_gjrgarch_draws.csv')\n",
    "sim_gjrgarch_condvol = pd.read_csv('4. GARCH Modelling/2_Simulated_sequences/Simulated_sequences/sim_gjrgarch_condvol.csv')\n",
    "sim_msgarch_draws = pd.read_csv('4. GARCH Modelling/2_Simulated_sequences/Simulated_sequences/sim_msgarch_draws.csv')\n",
    "sim_msgarch_condvol = pd.read_csv('4. GARCH Modelling/2_Simulated_sequences/Simulated_sequences/sim_msgarch_condvol.csv')"
   ]
  },
  {
   "cell_type": "markdown",
   "id": "162d1f72",
   "metadata": {},
   "source": [
    "## 2.1 Unpacking features of the simulated sequences (distr = \"std\")"
   ]
  },
  {
   "cell_type": "code",
   "execution_count": 5,
   "id": "c22afbb9",
   "metadata": {},
   "outputs": [],
   "source": [
    "p = 5 # Amount of models"
   ]
  },
  {
   "cell_type": "markdown",
   "id": "1431ffce",
   "metadata": {},
   "source": [
    "### 2.1.1 ARCH sequence"
   ]
  },
  {
   "cell_type": "code",
   "execution_count": 6,
   "id": "83940d43",
   "metadata": {},
   "outputs": [],
   "source": [
    "# 1-step ahead features\n",
    "arch_1_arch = pd.read_csv('4. GARCH Modelling/2_Simulated_sequences/Features_simulations/ARCH sequence/ARCH_1_ARCH.csv')\n",
    "arch_1_garch = pd.read_csv('4. GARCH Modelling/2_Simulated_sequences/Features_simulations/ARCH sequence/ARCH_1_GARCH.csv')\n",
    "arch_1_egarch = pd.read_csv('4. GARCH Modelling/2_Simulated_sequences/Features_simulations/ARCH sequence/ARCH_1_EGARCH.csv')\n",
    "arch_1_gjrgarch = pd.read_csv('4. GARCH Modelling/2_Simulated_sequences/Features_simulations/ARCH sequence/ARCH_1_GJRGARCH.csv')\n",
    "arch_1_msgarch = pd.read_csv('4. GARCH Modelling/2_Simulated_sequences/Features_simulations/ARCH sequence/ARCH_1_MSGARCH.csv')\n",
    "\n",
    "# MS-GARCH feature is longer\n",
    "diff = len(arch_1_msgarch) - len(arch_1_gjrgarch)\n",
    "\n",
    "pred_matrix_arch_1 = np.hstack((arch_1_arch, arch_1_garch, arch_1_egarch, arch_1_gjrgarch, arch_1_msgarch[diff:]))\n",
    "\n",
    "# 12-step ahead features\n",
    "arch_12_arch = pd.read_csv('4. GARCH Modelling/2_Simulated_sequences/Features_simulations/ARCH sequence/ARCH_12_ARCH.csv')\n",
    "arch_12_garch = pd.read_csv('4. GARCH Modelling/2_Simulated_sequences/Features_simulations/ARCH sequence/ARCH_12_GARCH.csv')\n",
    "arch_12_egarch = pd.read_csv('4. GARCH Modelling/2_Simulated_sequences/Features_simulations/ARCH sequence/ARCH_12_EGARCH.csv')\n",
    "arch_12_gjrgarch = pd.read_csv('4. GARCH Modelling/2_Simulated_sequences/Features_simulations/ARCH sequence/ARCH_12_GJRGARCH.csv')\n",
    "arch_12_msgarch = pd.read_csv('4. GARCH Modelling/2_Simulated_sequences/Features_simulations/ARCH sequence/ARCH_12_MSGARCH.csv')\n",
    "pred_matrix_arch_12 = np.hstack((arch_12_arch, arch_12_garch, arch_12_egarch, arch_12_gjrgarch, arch_12_msgarch))\n",
    "\n",
    "# 24-step ahead features\n",
    "arch_24_arch = pd.read_csv('4. GARCH Modelling/2_Simulated_sequences/Features_simulations/ARCH sequence/ARCH_24_ARCH.csv')\n",
    "arch_24_garch = pd.read_csv('4. GARCH Modelling/2_Simulated_sequences/Features_simulations/ARCH sequence/ARCH_24_GARCH.csv')\n",
    "arch_24_egarch = pd.read_csv('4. GARCH Modelling/2_Simulated_sequences/Features_simulations/ARCH sequence/ARCH_24_EGARCH.csv')\n",
    "arch_24_gjrgarch = pd.read_csv('4. GARCH Modelling/2_Simulated_sequences/Features_simulations/ARCH sequence/ARCH_24_GJRGARCH.csv')\n",
    "arch_24_msgarch = pd.read_csv('4. GARCH Modelling/2_Simulated_sequences/Features_simulations/ARCH sequence/ARCH_24_MSGARCH.csv')\n",
    "pred_matrix_arch_24 = np.hstack((arch_24_arch, arch_24_garch, arch_24_egarch, arch_24_gjrgarch, arch_24_msgarch))"
   ]
  },
  {
   "cell_type": "markdown",
   "id": "34dcbcce",
   "metadata": {},
   "source": [
    "### 2.1.2 GARCH sequence"
   ]
  },
  {
   "cell_type": "code",
   "execution_count": 7,
   "id": "33ec4473",
   "metadata": {},
   "outputs": [],
   "source": [
    "# 1-step ahead features\n",
    "garch_1_arch = pd.read_csv('4. GARCH Modelling/2_Simulated_sequences/Features_simulations/GARCH sequence/GARCH_1_ARCH.csv')\n",
    "garch_1_garch = pd.read_csv('4. GARCH Modelling/2_Simulated_sequences/Features_simulations/GARCH sequence/GARCH_1_GARCH.csv')\n",
    "garch_1_egarch = pd.read_csv('4. GARCH Modelling/2_Simulated_sequences/Features_simulations/GARCH sequence/GARCH_1_EGARCH.csv')\n",
    "garch_1_gjrgarch = pd.read_csv('4. GARCH Modelling/2_Simulated_sequences/Features_simulations/GARCH sequence/GARCH_1_GJRGARCH.csv')\n",
    "garch_1_msgarch = pd.read_csv('4. GARCH Modelling/2_Simulated_sequences/Features_simulations/GARCH sequence/GARCH_1_MSGARCH.csv')\n",
    "\n",
    "# MS-GARCH feature is longer\n",
    "diff = len(garch_1_msgarch) - len(garch_1_gjrgarch)\n",
    "\n",
    "pred_matrix_garch_1 = np.hstack((garch_1_arch, garch_1_garch, garch_1_egarch, garch_1_gjrgarch, garch_1_msgarch[diff:]))\n",
    "\n",
    "# 12-step ahead features\n",
    "garch_12_arch = pd.read_csv('4. GARCH Modelling/2_Simulated_sequences/Features_simulations/GARCH sequence/GARCH_12_ARCH.csv')\n",
    "garch_12_garch = pd.read_csv('4. GARCH Modelling/2_Simulated_sequences/Features_simulations/GARCH sequence/GARCH_12_GARCH.csv')\n",
    "garch_12_egarch = pd.read_csv('4. GARCH Modelling/2_Simulated_sequences/Features_simulations/GARCH sequence/GARCH_12_EGARCH.csv')\n",
    "garch_12_gjrgarch = pd.read_csv('4. GARCH Modelling/2_Simulated_sequences/Features_simulations/GARCH sequence/GARCH_12_GJRGARCH.csv')\n",
    "garch_12_msgarch = pd.read_csv('4. GARCH Modelling/2_Simulated_sequences/Features_simulations/GARCH sequence/GARCH_12_MSGARCH.csv')\n",
    "pred_matrix_garch_12 = np.hstack((garch_12_arch, garch_12_garch, garch_12_egarch, garch_12_gjrgarch, garch_12_msgarch))\n",
    "\n",
    "# 24-step ahead features\n",
    "garch_24_arch = pd.read_csv('4. GARCH Modelling/2_Simulated_sequences/Features_simulations/GARCH sequence/GARCH_24_ARCH.csv')\n",
    "garch_24_garch = pd.read_csv('4. GARCH Modelling/2_Simulated_sequences/Features_simulations/GARCH sequence/GARCH_24_GARCH.csv')\n",
    "garch_24_egarch = pd.read_csv('4. GARCH Modelling/2_Simulated_sequences/Features_simulations/GARCH sequence/GARCH_24_EGARCH.csv')\n",
    "garch_24_gjrgarch = pd.read_csv('4. GARCH Modelling/2_Simulated_sequences/Features_simulations/GARCH sequence/GARCH_24_GJRGARCH.csv')\n",
    "garch_24_msgarch = pd.read_csv('4. GARCH Modelling/2_Simulated_sequences/Features_simulations/GARCH sequence/GARCH_24_MSGARCH.csv')\n",
    "pred_matrix_garch_24 = np.hstack((garch_24_arch, garch_24_garch, garch_24_egarch, garch_24_gjrgarch, garch_24_msgarch))"
   ]
  },
  {
   "cell_type": "markdown",
   "id": "890e79df",
   "metadata": {},
   "source": [
    "### 2.1.3 E-GARCH sequence "
   ]
  },
  {
   "cell_type": "code",
   "execution_count": 8,
   "id": "630b5bbc",
   "metadata": {},
   "outputs": [],
   "source": [
    "# 1-step ahead features\n",
    "egarch_1_arch = pd.read_csv('4. GARCH Modelling/2_Simulated_sequences/Features_simulations/E-GARCH sequence/EGARCH_1_ARCH.csv')\n",
    "egarch_1_garch = pd.read_csv('4. GARCH Modelling/2_Simulated_sequences/Features_simulations/E-GARCH sequence/EGARCH_1_GARCH.csv')\n",
    "egarch_1_egarch = pd.read_csv('4. GARCH Modelling/2_Simulated_sequences/Features_simulations/E-GARCH sequence/EGARCH_1_EGARCH.csv')\n",
    "egarch_1_gjrgarch = pd.read_csv('4. GARCH Modelling/2_Simulated_sequences/Features_simulations/E-GARCH sequence/EGARCH_1_GJRGARCH.csv')\n",
    "egarch_1_msgarch = pd.read_csv('4. GARCH Modelling/2_Simulated_sequences/Features_simulations/E-GARCH sequence/EGARCH_1_MSGARCH.csv')\n",
    "\n",
    "# MS-GARCH feature is longer\n",
    "diff = len(egarch_1_msgarch) - len(egarch_1_gjrgarch)\n",
    "\n",
    "pred_matrix_egarch_1 = np.hstack((egarch_1_arch, egarch_1_garch, egarch_1_egarch, egarch_1_gjrgarch, egarch_1_msgarch[diff:]))\n",
    "\n",
    "# 12-step ahead features\n",
    "egarch_12_arch = pd.read_csv('4. GARCH Modelling/2_Simulated_sequences/Features_simulations/E-GARCH sequence/EGARCH_12_ARCH.csv')\n",
    "egarch_12_garch = pd.read_csv('4. GARCH Modelling/2_Simulated_sequences/Features_simulations/E-GARCH sequence/EGARCH_12_GARCH.csv')\n",
    "egarch_12_egarch = pd.read_csv('4. GARCH Modelling/2_Simulated_sequences/Features_simulations/E-GARCH sequence/EGARCH_12_EGARCH.csv')\n",
    "egarch_12_gjrgarch = pd.read_csv('4. GARCH Modelling/2_Simulated_sequences/Features_simulations/E-GARCH sequence/EGARCH_12_GJRGARCH.csv')\n",
    "egarch_12_msgarch = pd.read_csv('4. GARCH Modelling/2_Simulated_sequences/Features_simulations/E-GARCH sequence/EGARCH_12_MSGARCH.csv')\n",
    "pred_matrix_egarch_12 = np.hstack((egarch_12_arch, egarch_12_garch, egarch_12_egarch, egarch_12_gjrgarch, egarch_12_msgarch))\n",
    "\n",
    "# 24-step ahead features\n",
    "egarch_24_arch = pd.read_csv('4. GARCH Modelling/2_Simulated_sequences/Features_simulations/E-GARCH sequence/EGARCH_24_ARCH.csv')\n",
    "egarch_24_garch = pd.read_csv('4. GARCH Modelling/2_Simulated_sequences/Features_simulations/E-GARCH sequence/EGARCH_24_GARCH.csv')\n",
    "egarch_24_egarch = pd.read_csv('4. GARCH Modelling/2_Simulated_sequences/Features_simulations/E-GARCH sequence/EGARCH_24_EGARCH.csv')\n",
    "egarch_24_gjrgarch = pd.read_csv('4. GARCH Modelling/2_Simulated_sequences/Features_simulations/E-GARCH sequence/EGARCH_24_GJRGARCH.csv')\n",
    "egarch_24_msgarch = pd.read_csv('4. GARCH Modelling/2_Simulated_sequences/Features_simulations/E-GARCH sequence/EGARCH_24_MSGARCH.csv')\n",
    "pred_matrix_egarch_24 = np.hstack((egarch_24_arch, egarch_24_garch, egarch_24_egarch, egarch_24_gjrgarch, egarch_24_msgarch))"
   ]
  },
  {
   "cell_type": "markdown",
   "id": "4bea631c",
   "metadata": {},
   "source": [
    "### 2.1.4 GJR-GARCH sequence"
   ]
  },
  {
   "cell_type": "code",
   "execution_count": 9,
   "id": "3dc575d6",
   "metadata": {},
   "outputs": [],
   "source": [
    "# 1-step ahead features\n",
    "gjrgarch_1_arch = pd.read_csv('4. GARCH Modelling/2_Simulated_sequences/Features_simulations/GJR-GARCH sequence/GJRGARCH_1_ARCH.csv')\n",
    "gjrgarch_1_garch = pd.read_csv('4. GARCH Modelling/2_Simulated_sequences/Features_simulations/GJR-GARCH sequence/GJRGARCH_1_GARCH.csv')\n",
    "gjrgarch_1_egarch = pd.read_csv('4. GARCH Modelling/2_Simulated_sequences/Features_simulations/GJR-GARCH sequence/GJRGARCH_1_EGARCH.csv')\n",
    "gjrgarch_1_gjrgarch = pd.read_csv('4. GARCH Modelling/2_Simulated_sequences/Features_simulations/GJR-GARCH sequence/GJRGARCH_1_GJRGARCH.csv')\n",
    "gjrgarch_1_msgarch = pd.read_csv('4. GARCH Modelling/2_Simulated_sequences/Features_simulations/GJR-GARCH sequence/GJRGARCH_1_MSGARCH.csv')\n",
    "\n",
    "# MS-GARCH feature is longer\n",
    "diff = len(gjrgarch_1_msgarch) - len(gjrgarch_1_gjrgarch)\n",
    "\n",
    "pred_matrix_egarch_1 = np.hstack((gjrgarch_1_arch, gjrgarch_1_garch, gjrgarch_1_egarch, gjrgarch_1_gjrgarch, gjrgarch_1_msgarch[diff:]))\n",
    "\n",
    "# 12-step ahead features\n",
    "gjrgarch_12_arch = pd.read_csv('4. GARCH Modelling/2_Simulated_sequences/Features_simulations/GJR-GARCH sequence/GJRGARCH_12_ARCH.csv')\n",
    "gjrgarch_12_garch = pd.read_csv('4. GARCH Modelling/2_Simulated_sequences/Features_simulations/GJR-GARCH sequence/GJRGARCH_12_GARCH.csv')\n",
    "gjrgarch_12_egarch = pd.read_csv('4. GARCH Modelling/2_Simulated_sequences/Features_simulations/GJR-GARCH sequence/GJRGARCH_12_EGARCH.csv')\n",
    "gjrgarch_12_gjrgarch = pd.read_csv('4. GARCH Modelling/2_Simulated_sequences/Features_simulations/GJR-GARCH sequence/GJRGARCH_12_GJRGARCH.csv')\n",
    "gjrgarch_12_msgarch = pd.read_csv('4. GARCH Modelling/2_Simulated_sequences/Features_simulations/GJR-GARCH sequence/GJRGARCH_12_MSGARCH.csv')\n",
    "pred_matrix_gjrgarch_12 = np.hstack((gjrgarch_12_arch, gjrgarch_12_garch, gjrgarch_12_egarch, gjrgarch_12_gjrgarch, gjrgarch_12_msgarch))\n",
    "\n",
    "# 24-step ahead features\n",
    "gjrgarch_24_arch = pd.read_csv('4. GARCH Modelling/2_Simulated_sequences/Features_simulations/GJR-GARCH sequence/GJRGARCH_24_ARCH.csv')\n",
    "gjrgarch_24_garch = pd.read_csv('4. GARCH Modelling/2_Simulated_sequences/Features_simulations/GJR-GARCH sequence/GJRGARCH_24_GARCH.csv')\n",
    "gjrgarch_24_egarch = pd.read_csv('4. GARCH Modelling/2_Simulated_sequences/Features_simulations/GJR-GARCH sequence/GJRGARCH_24_EGARCH.csv')\n",
    "gjrgarch_24_gjrgarch = pd.read_csv('4. GARCH Modelling/2_Simulated_sequences/Features_simulations/GJR-GARCH sequence/GJRGARCH_24_GJRGARCH.csv')\n",
    "gjrgarch_24_msgarch = pd.read_csv('4. GARCH Modelling/2_Simulated_sequences/Features_simulations/GJR-GARCH sequence/GJRGARCH_24_MSGARCH.csv')\n",
    "pred_matrix_gjrgarch_24 = np.hstack((gjrgarch_24_arch, gjrgarch_24_garch, gjrgarch_24_egarch, gjrgarch_24_gjrgarch, gjrgarch_24_msgarch))"
   ]
  },
  {
   "cell_type": "markdown",
   "id": "12f64755",
   "metadata": {},
   "source": [
    "### 2.1.5 MS-GARCH sequence"
   ]
  },
  {
   "cell_type": "code",
   "execution_count": 10,
   "id": "f777c5c7",
   "metadata": {},
   "outputs": [],
   "source": [
    "# 1-step ahead features\n",
    "msgarch_1_arch = pd.read_csv('4. GARCH Modelling/2_Simulated_sequences/Features_simulations/MS-GARCH sequence/MSGARCH_1_ARCH.csv')\n",
    "msgarch_1_garch = pd.read_csv('4. GARCH Modelling/2_Simulated_sequences/Features_simulations/MS-GARCH sequence/MSGARCH_1_GARCH.csv')\n",
    "msgarch_1_egarch = pd.read_csv('4. GARCH Modelling/2_Simulated_sequences/Features_simulations/MS-GARCH sequence/MSGARCH_1_EGARCH.csv')\n",
    "msgarch_1_gjrgarch = pd.read_csv('4. GARCH Modelling/2_Simulated_sequences/Features_simulations/MS-GARCH sequence/MSGARCH_1_GJRGARCH.csv')\n",
    "msgarch_1_msgarch = pd.read_csv('4. GARCH Modelling/2_Simulated_sequences/Features_simulations/MS-GARCH sequence/MSGARCH_1_MSGARCH.csv')\n",
    "\n",
    "# MS-GARCH feature is longer\n",
    "diff = len(msgarch_1_msgarch) - len(msgarch_1_gjrgarch)\n",
    "\n",
    "pred_matrix_egarch_1 = np.hstack((msgarch_1_arch, msgarch_1_garch, msgarch_1_egarch, msgarch_1_gjrgarch, msgarch_1_msgarch[diff:]))\n",
    "\n",
    "# 12-step ahead features\n",
    "msgarch_12_arch = pd.read_csv('4. GARCH Modelling/2_Simulated_sequences/Features_simulations/MS-GARCH sequence/MSGARCH_1_ARCH.csv')\n",
    "msgarch_12_garch = pd.read_csv('4. GARCH Modelling/2_Simulated_sequences/Features_simulations/MS-GARCH sequence/MSGARCH_1_GARCH.csv')\n",
    "msgarch_12_egarch = pd.read_csv('4. GARCH Modelling/2_Simulated_sequences/Features_simulations/MS-GARCH sequence/MSGARCH_1_EGARCH.csv')\n",
    "msgarch_12_gjrgarch = pd.read_csv('4. GARCH Modelling/2_Simulated_sequences/Features_simulations/MS-GARCH sequence/MSGARCH_1_GJRGARCH.csv')\n",
    "msgarch_12_msgarch = pd.read_csv('4. GARCH Modelling/2_Simulated_sequences/Features_simulations/MS-GARCH sequence/MSGARCH_1_MSGARCH.csv')\n",
    "pred_matrix_msgarch_12 = np.hstack((msgarch_12_arch, msgarch_12_garch, msgarch_12_egarch, msgarch_12_gjrgarch, msgarch_12_msgarch[diff:]))\n",
    "\n",
    "# 24-step ahead features\n",
    "msgarch_24_arch = pd.read_csv('4. GARCH Modelling/2_Simulated_sequences/Features_simulations/MS-GARCH sequence/MSGARCH_1_ARCH.csv')\n",
    "msgarch_24_garch = pd.read_csv('4. GARCH Modelling/2_Simulated_sequences/Features_simulations/MS-GARCH sequence/MSGARCH_1_GARCH.csv')\n",
    "msgarch_24_egarch = pd.read_csv('4. GARCH Modelling/2_Simulated_sequences/Features_simulations/MS-GARCH sequence/MSGARCH_1_EGARCH.csv')\n",
    "msgarch_24_gjrgarch = pd.read_csv('4. GARCH Modelling/2_Simulated_sequences/Features_simulations/MS-GARCH sequence/MSGARCH_1_GJRGARCH.csv')\n",
    "msgarch_24_msgarch = pd.read_csv('4. GARCH Modelling/2_Simulated_sequences/Features_simulations/MS-GARCH sequence/MSGARCH_1_MSGARCH.csv')\n",
    "pred_matrix_msgarch_24 = np.hstack((msgarch_24_arch, msgarch_24_garch, msgarch_24_egarch, msgarch_24_gjrgarch, msgarch_24_msgarch[diff:]))"
   ]
  },
  {
   "cell_type": "markdown",
   "id": "d09fa851",
   "metadata": {},
   "source": [
    "# 4. LSTM model "
   ]
  },
  {
   "cell_type": "markdown",
   "id": "bdbd509e",
   "metadata": {},
   "source": [
    "## 4.1 ARCH data"
   ]
  },
  {
   "cell_type": "code",
   "execution_count": 11,
   "id": "1e7bfefd",
   "metadata": {},
   "outputs": [],
   "source": [
    "# Calculate realized volatility based on simulated log-returns\n",
    "p = 50 # Window size\n",
    "rv_arch = rv_calc(sim_arch_draws, p)\n",
    "\n",
    "# Realized volatility data\n",
    "scaled_rv_arch = scaled_data(rv_arch)\n",
    "scaled_rv_arch = scaled_rv_arch.flatten()\n",
    "\n",
    "# Conditional volatility benchmark\n",
    "benchmark_vol = sim_arch_condvol"
   ]
  },
  {
   "cell_type": "code",
   "execution_count": 14,
   "id": "6ffdf8d5",
   "metadata": {},
   "outputs": [],
   "source": [
    "# Realized volatilit benchmark\n",
    "benchmark_rv = rv_arch[(len(rv_arch)-20000):]"
   ]
  },
  {
   "cell_type": "markdown",
   "id": "10594e25",
   "metadata": {},
   "source": [
    "## 4.1.1 ARCH sequence: 1-step ahead forecasting"
   ]
  },
  {
   "cell_type": "code",
   "execution_count": 16,
   "id": "dea94630",
   "metadata": {},
   "outputs": [],
   "source": [
    "# Model parameters\n",
    "obs_test = 20000\n",
    "start = 10000\n",
    "d = 50\n",
    "epochs = 75\n",
    "units = 100\n",
    "nodes = 150\n",
    "verbose = 0\n",
    "LR = 0.0001\n",
    "activation_lstm = 'tanh'\n",
    "shift = 25"
   ]
  },
  {
   "cell_type": "code",
   "execution_count": 18,
   "id": "eccad519",
   "metadata": {},
   "outputs": [
    {
     "name": "stdout",
     "output_type": "stream",
     "text": [
      "313/313 [==============================] - 5s 14ms/step\n",
      "313/313 [==============================] - 5s 13ms/step\n",
      "313/313 [==============================] - 5s 15ms/step\n",
      "313/313 [==============================] - 5s 15ms/step\n",
      "313/313 [==============================] - 5s 14ms/step\n",
      "313/313 [==============================] - 5s 14ms/step\n",
      "313/313 [==============================] - 18s 58ms/step\n",
      "313/313 [==============================] - 5s 13ms/step\n",
      "313/313 [==============================] - 7s 19ms/step\n",
      "313/313 [==============================] - 7s 19ms/step\n",
      "313/313 [==============================] - 5s 14ms/step\n",
      "313/313 [==============================] - 5s 16ms/step\n",
      "MSE: LSTM & hybrid models 1-step ahead forecast\n",
      "2.1731045108145035e-06\n",
      "2.857102220552215e-06\n",
      "2.2544931799405955e-06\n",
      "2.059830483795419e-06\n",
      "2.604219021157532e-06\n",
      "2.3317375328802166e-06\n",
      "MAE: LSTM & hybrid models 1-step ahead forecast\n",
      "0.0007348593348332858\n",
      "0.0010328636772684893\n",
      "0.0007604019667966373\n",
      "0.0005724949228745718\n",
      "0.000850688603302902\n",
      "0.0006796434443191216\n",
      "MSE & MAE: realized volatility 1-step ahead forecast\n",
      "1.8834623837809293e-06\n",
      "0.0003125666128975547\n"
     ]
    }
   ],
   "source": [
    "# 1-step ahead forecasts\n",
    "h = 1\n",
    "prediction_matrix_lstm_a1 = produce_h_step_forecasting_errors(scaled_rv_arch, pred_matrix_arch_1, obs_test, start, d, p, h, epochs, units, nodes, verbose, LR, activation_lstm, rv_arch, shift, benchmark_rv)"
   ]
  },
  {
   "cell_type": "markdown",
   "id": "a6f6b850",
   "metadata": {},
   "source": [
    "## 4.1.2 ARCH sequence: 12-step ahead forecasting"
   ]
  },
  {
   "cell_type": "code",
   "execution_count": 20,
   "id": "0986dd77",
   "metadata": {},
   "outputs": [
    {
     "name": "stdout",
     "output_type": "stream",
     "text": [
      "313/313 [==============================] - 23s 70ms/step\n",
      "313/313 [==============================] - 23s 71ms/step\n",
      "313/313 [==============================] - 32s 99ms/step\n",
      "313/313 [==============================] - 31s 96ms/step\n",
      "313/313 [==============================] - 35s 110ms/step\n",
      "313/313 [==============================] - 35s 110ms/step\n",
      "313/313 [==============================] - 44s 137ms/step\n",
      "313/313 [==============================] - 44s 137ms/step\n",
      "313/313 [==============================] - 40s 124ms/step\n",
      "313/313 [==============================] - 41s 125ms/step\n",
      "313/313 [==============================] - 41s 127ms/step\n",
      "313/313 [==============================] - 42s 127ms/step\n",
      "MSE: LSTM & hybrid models 12-step ahead forecast\n",
      "0.00025270670090795966\n",
      "0.0002554637581581183\n",
      "0.0002500932752121629\n",
      "0.0002515771630363898\n",
      "0.0002501456077773355\n",
      "0.00025345065394293036\n",
      "MAE: LSTM & hybrid models 12-step ahead forecast\n",
      "0.007595095089215945\n",
      "0.007757021588580639\n",
      "0.007522505431328606\n",
      "0.007700473982975502\n",
      "0.00738395233415878\n",
      "0.00748932453968607\n",
      "MSE & MAE: realized volatility 12-step ahead forecast\n",
      "0.0002801909544288314\n",
      "0.008297771760459234\n"
     ]
    }
   ],
   "source": [
    "# Model parameters\n",
    "obs_test = 20000\n",
    "start = 10000\n",
    "d = 200\n",
    "epochs = 75\n",
    "units = 100\n",
    "nodes = 150\n",
    "verbose = 0\n",
    "LR = 0.0001\n",
    "activation_lstm = 'tanh'\n",
    "shift = 25\n",
    "\n",
    "# 12-step ahead forecasts\n",
    "h = 12\n",
    "prediction_matrix_lstm_a12 = produce_h_step_forecasting_errors(scaled_rv_arch, pred_matrix_arch_12, obs_test, start, d, p, h, epochs, units, nodes, verbose, LR, activation_lstm, rv_arch, shift, benchmark_vol)"
   ]
  },
  {
   "cell_type": "code",
   "execution_count": 21,
   "id": "8d677311",
   "metadata": {},
   "outputs": [
    {
     "name": "stdout",
     "output_type": "stream",
     "text": [
      "(120024,)\n"
     ]
    }
   ],
   "source": [
    "print(np.shape(prediction_matrix_lstm_a12))"
   ]
  },
  {
   "cell_type": "markdown",
   "id": "c4bb28bc",
   "metadata": {},
   "source": [
    "## 4.1.3 24-step ahead forecasts "
   ]
  },
  {
   "cell_type": "code",
   "execution_count": 22,
   "id": "3d1230e7",
   "metadata": {},
   "outputs": [
    {
     "name": "stdout",
     "output_type": "stream",
     "text": [
      "313/313 [==============================] - 37s 118ms/step\n",
      "313/313 [==============================] - 33s 103ms/step\n",
      "313/313 [==============================] - 31s 93ms/step\n",
      "313/313 [==============================] - 29s 93ms/step\n",
      "313/313 [==============================] - 44s 139ms/step\n",
      "313/313 [==============================] - 46s 146ms/step\n",
      "313/313 [==============================] - 50s 154ms/step\n",
      "313/313 [==============================] - 49s 154ms/step\n",
      "313/313 [==============================] - 30s 95ms/step\n",
      "313/313 [==============================] - 30s 94ms/step\n",
      "313/313 [==============================] - 34s 105ms/step\n",
      "313/313 [==============================] - 33s 101ms/step\n",
      "MSE: LSTM & hybrid models 24-step ahead forecast\n",
      "0.00024769141498975363\n",
      "0.00023329626348757526\n",
      "0.0002488821852310164\n",
      "0.0002439877815385745\n",
      "0.00024792138217890914\n",
      "0.00025535359397194015\n",
      "MAE: LSTM & hybrid models 24-step ahead forecast\n",
      "0.007557551148222523\n",
      "0.006836918930361233\n",
      "0.007732080872464542\n",
      "0.0070395205618879\n",
      "0.007276331922199134\n",
      "0.00818344925602692\n",
      "MSE & MAE: realized volatility 24-step ahead forecast\n",
      "0.0002807182026868349\n",
      "0.00831158842685687\n"
     ]
    }
   ],
   "source": [
    "# Model parameters\n",
    "obs_test = 20000\n",
    "start = 10000\n",
    "d = 300\n",
    "epochs = 75\n",
    "units = 100\n",
    "nodes = 150\n",
    "verbose = 0\n",
    "LR = 0.0001\n",
    "activation_lstm = 'tanh'\n",
    "shift = 25\n",
    "\n",
    "# 24-step ahead forecasts\n",
    "h = 24\n",
    "prediction_matrix_lstm_a24 = produce_h_step_forecasting_errors(scaled_rv_arch, pred_matrix_arch_24, obs_test, start, d, p, h, epochs, units, nodes, verbose, LR, activation_lstm, rv_arch, shift, benchmark_vol)"
   ]
  },
  {
   "cell_type": "markdown",
   "id": "05ee1198",
   "metadata": {},
   "source": [
    "## 4.2 GARCH sequence"
   ]
  },
  {
   "cell_type": "code",
   "execution_count": 21,
   "id": "19ebb5fc",
   "metadata": {},
   "outputs": [],
   "source": [
    "# Calculate realized volatility based on simulated log-returns\n",
    "p = 50\n",
    "rv_garch = rv_calc(sim_garch_draws, p)\n",
    "\n",
    "# Realized volatility data\n",
    "scaled_rv_garch = scaled_data(rv_garch)\n",
    "scaled_rv_garch = scaled_rv_garch.flatten()\n",
    "\n",
    "# Conditional volatility benchmark\n",
    "benchmark_vol = sim_garch_condvol"
   ]
  },
  {
   "cell_type": "markdown",
   "id": "4f03f01e",
   "metadata": {},
   "source": [
    "## 4.2.1 1-step ahead forecasts"
   ]
  },
  {
   "cell_type": "code",
   "execution_count": 22,
   "id": "a424eecd",
   "metadata": {},
   "outputs": [
    {
     "name": "stdout",
     "output_type": "stream",
     "text": [
      "313/313 [==============================] - 5s 15ms/step\n",
      "313/313 [==============================] - 5s 14ms/step\n",
      "313/313 [==============================] - 9s 24ms/step\n",
      "313/313 [==============================] - 9s 25ms/step\n",
      "313/313 [==============================] - 7s 23ms/step\n",
      "313/313 [==============================] - 7s 21ms/step\n",
      "313/313 [==============================] - 8s 21ms/step\n",
      "313/313 [==============================] - 7s 20ms/step\n",
      "313/313 [==============================] - 6s 17ms/step\n",
      "313/313 [==============================] - 5s 14ms/step\n",
      "313/313 [==============================] - 5s 14ms/step\n",
      "313/313 [==============================] - 5s 15ms/step\n",
      "MSE: LSTM & hybrid models 1-step ahead forecast\n",
      "0.0011943873396769822\n",
      "0.0011419301273255507\n",
      "0.001125374610548383\n",
      "0.0011263174226431522\n",
      "0.0011330354681243014\n",
      "0.0011174387452976729\n",
      "MAE: LSTM & hybrid models 1-step ahead forecast\n",
      "0.026334354622384256\n",
      "0.025510707928953543\n",
      "0.025324541297091416\n",
      "0.02524181744480277\n",
      "0.025504268545355452\n",
      "0.025172085530821987\n",
      "MSE & MAE: realized volatility 1-step ahead forecast\n",
      "0.00118345876034133\n",
      "0.025929801609727382\n"
     ]
    }
   ],
   "source": [
    "obs_test = 20000\n",
    "start = 10000\n",
    "d = 50\n",
    "epochs = 75\n",
    "units = 100\n",
    "nodes = 150\n",
    "verbose = 0\n",
    "LR = 0.0001\n",
    "activation_lstm = 'tanh'\n",
    "shift = 25\n",
    "\n",
    "# Producing 1-step ahead forecasts using LSTM\n",
    "h = 1\n",
    "prediction_matrix_lstm_g1 = produce_h_step_forecasting_errors(scaled_rv_garch, pred_matrix_garch_1, obs_test, start, d, p, h, epochs, units, nodes, verbose, LR, activation_lstm, rv_garch, shift, benchmark_rv)"
   ]
  },
  {
   "cell_type": "markdown",
   "id": "44b20d64",
   "metadata": {},
   "source": [
    "## 4.2.2 12-step ahead forecasts "
   ]
  },
  {
   "cell_type": "code",
   "execution_count": 26,
   "id": "cf76a23e",
   "metadata": {},
   "outputs": [
    {
     "name": "stdout",
     "output_type": "stream",
     "text": [
      "313/313 [==============================] - 19s 60ms/step\n",
      "313/313 [==============================] - 20s 59ms/step\n",
      "313/313 [==============================] - 25s 72ms/step\n",
      "313/313 [==============================] - 20s 60ms/step\n",
      "313/313 [==============================] - 12s 37ms/step\n",
      "313/313 [==============================] - 12s 36ms/step\n",
      "313/313 [==============================] - 11s 36ms/step\n",
      "313/313 [==============================] - 11s 34ms/step\n",
      "313/313 [==============================] - 11s 34ms/step\n",
      "313/313 [==============================] - 11s 34ms/step\n",
      "313/313 [==============================] - 11s 35ms/step\n",
      "313/313 [==============================] - 11s 33ms/step\n",
      "MSE: LSTM & hybrid models 12-step ahead forecast\n",
      "0.0002270329039443998\n",
      "0.0002229489280347488\n",
      "0.00024249458396723652\n",
      "0.0002585782550063766\n",
      "0.00023947720249999058\n",
      "0.00022051829377371876\n",
      "MAE: LSTM & hybrid models 12-step ahead forecast\n",
      "0.008782544494855918\n",
      "0.008906249618953019\n",
      "0.009543768537254487\n",
      "0.009962986742340578\n",
      "0.009324533573805546\n",
      "0.009487866918108873\n",
      "MSE & MAE: realized volatility 12-step ahead forecast\n",
      "0.0004005976895277957\n",
      "0.011695176120330377\n"
     ]
    }
   ],
   "source": [
    "obs_test = 20000\n",
    "start = 10000\n",
    "d = 100\n",
    "epochs = 75\n",
    "units = 100\n",
    "nodes = 150\n",
    "verbose = 0\n",
    "LR = 0.0001\n",
    "activation_lstm = 'tanh'\n",
    "shift = 25\n",
    "\n",
    "# Producing 12-step ahead forecasts using LSTM\n",
    "h = 12\n",
    "prediction_matrix_lstm_g12 = produce_h_step_forecasting_errors(scaled_rv_garch, pred_matrix_garch_12, obs_test, start, d, p, h, epochs, units, nodes, verbose, LR, activation_lstm, rv_garch, shift, benchmark_vol)"
   ]
  },
  {
   "cell_type": "markdown",
   "id": "4ad7d28d",
   "metadata": {},
   "source": [
    "## 4.2.3 24-step ahead forecasts"
   ]
  },
  {
   "cell_type": "code",
   "execution_count": 27,
   "id": "0df75349",
   "metadata": {},
   "outputs": [
    {
     "name": "stdout",
     "output_type": "stream",
     "text": [
      "313/313 [==============================] - 22s 68ms/step\n",
      "313/313 [==============================] - 24s 73ms/step\n",
      "313/313 [==============================] - 30s 93ms/step\n",
      "313/313 [==============================] - 30s 94ms/step\n",
      "313/313 [==============================] - 34s 106ms/step\n",
      "313/313 [==============================] - 27s 86ms/step\n",
      "313/313 [==============================] - 32s 100ms/step\n",
      "313/313 [==============================] - 31s 98ms/step\n",
      "313/313 [==============================] - 30s 96ms/step\n",
      "313/313 [==============================] - 26s 83ms/step\n",
      "313/313 [==============================] - 26s 82ms/step\n",
      "313/313 [==============================] - 27s 82ms/step\n",
      "MSE: LSTM & hybrid models 24-step ahead forecast\n",
      "0.0002734446915533655\n",
      "0.0002663576756569243\n",
      "0.00028961382492394185\n",
      "0.00027707132223657997\n",
      "0.00028159924433013674\n",
      "0.00027922802625811246\n",
      "MAE: LSTM & hybrid models 24-step ahead forecast\n",
      "0.009846336800413214\n",
      "0.00966418269245034\n",
      "0.010129889045876752\n",
      "0.009729092464440836\n",
      "0.00991066619487484\n",
      "0.00981576124539992\n",
      "MSE & MAE: realized volatility 24-step ahead forecast\n",
      "0.0005472673261666776\n",
      "0.013473071454425724\n"
     ]
    }
   ],
   "source": [
    "obs_test = 20000\n",
    "start = 10000\n",
    "d = 200\n",
    "epochs = 75\n",
    "units = 100\n",
    "nodes = 150\n",
    "verbose = 0\n",
    "LR = 0.0001\n",
    "activation_lstm = 'tanh'\n",
    "shift = 25\n",
    "\n",
    "# Producing 24-step ahead forecasts using LSTM\n",
    "h = 24\n",
    "prediction_matrix_lstm_g24 = produce_h_step_forecasting_errors(scaled_rv_garch, pred_matrix_garch_24, obs_test, start, d, p, h, epochs, units, nodes, verbose, LR, activation_lstm, rv_garch, shift, benchmark_vol)"
   ]
  },
  {
   "cell_type": "markdown",
   "id": "caab27d2",
   "metadata": {},
   "source": [
    "# 4.3 E-GARCH"
   ]
  },
  {
   "cell_type": "code",
   "execution_count": 24,
   "id": "ca14b623",
   "metadata": {},
   "outputs": [],
   "source": [
    "# Calculate realized volatility based on simulated log-returns\n",
    "p = 50\n",
    "rv_egarch = rv_calc(sim_egarch_draws, p)\n",
    "\n",
    "# Realized volatility data\n",
    "scaled_rv_egarch = scaled_data(rv_egarch)\n",
    "scaled_rv_egarch = scaled_rv_egarch.flatten()\n",
    "\n",
    "# Conditional volatility benchmark\n",
    "benchmark_vol = sim_egarch_condvol"
   ]
  },
  {
   "cell_type": "markdown",
   "id": "ed3a8414",
   "metadata": {},
   "source": [
    "## 4.3.1 1-step ahead forecasts"
   ]
  },
  {
   "cell_type": "code",
   "execution_count": 25,
   "id": "0bf943ca",
   "metadata": {},
   "outputs": [
    {
     "name": "stdout",
     "output_type": "stream",
     "text": [
      "313/313 [==============================] - 5s 14ms/step\n",
      "313/313 [==============================] - 4s 13ms/step\n",
      "313/313 [==============================] - 6s 19ms/step\n",
      "313/313 [==============================] - 7s 20ms/step\n",
      "313/313 [==============================] - 5s 13ms/step\n",
      "313/313 [==============================] - 8s 23ms/step\n",
      "313/313 [==============================] - 6s 18ms/step\n",
      "313/313 [==============================] - 6s 19ms/step\n",
      "313/313 [==============================] - 4s 13ms/step\n",
      "313/313 [==============================] - 4s 13ms/step\n",
      "313/313 [==============================] - 5s 15ms/step\n",
      "313/313 [==============================] - 5s 14ms/step\n",
      "MSE: LSTM & hybrid models 1-step ahead forecast\n",
      "0.9665350931011987\n",
      "0.9592536255136719\n",
      "0.9573564907269486\n",
      "0.9586057596913747\n",
      "0.971240569158763\n",
      "0.9708108866338879\n",
      "MAE: LSTM & hybrid models 1-step ahead forecast\n",
      "0.976359285469525\n",
      "0.972467919376429\n",
      "0.9716456718323511\n",
      "0.9721649596403147\n",
      "0.9785366566688165\n",
      "0.9781052538977162\n",
      "MSE & MAE: realized volatility 1-step ahead forecast\n",
      "0.9635448711035295\n",
      "0.9744831479149083\n"
     ]
    }
   ],
   "source": [
    "obs_test = 20000\n",
    "start = 10000\n",
    "d = 50\n",
    "epochs = 75\n",
    "units = 100\n",
    "nodes = 150\n",
    "verbose = 0\n",
    "LR = 0.0001\n",
    "activation_lstm = 'tanh'\n",
    "shift = 25\n",
    "\n",
    "# Producing 1-step ahead forecasts using LSTM\n",
    "h = 1\n",
    "prediction_matrix_lstm_e1 = produce_h_step_forecasting_errors(scaled_rv_egarch, pred_matrix_garch_1, obs_test, start, d, p, h, epochs, units, nodes, verbose, LR, activation_lstm, rv_egarch, shift, benchmark_rv)"
   ]
  },
  {
   "cell_type": "markdown",
   "id": "e5ad82d2",
   "metadata": {},
   "source": [
    "## 4.3.2 12-step ahead forecasts"
   ]
  },
  {
   "cell_type": "code",
   "execution_count": 31,
   "id": "9626e236",
   "metadata": {},
   "outputs": [
    {
     "name": "stdout",
     "output_type": "stream",
     "text": [
      "313/313 [==============================] - 11s 33ms/step\n",
      "313/313 [==============================] - 10s 31ms/step\n",
      "313/313 [==============================] - 10s 31ms/step\n",
      "313/313 [==============================] - 10s 32ms/step\n",
      "313/313 [==============================] - 10s 32ms/step\n",
      "313/313 [==============================] - 10s 31ms/step\n",
      "313/313 [==============================] - 14s 45ms/step\n",
      "313/313 [==============================] - 14s 43ms/step\n",
      "313/313 [==============================] - 13s 41ms/step\n",
      "313/313 [==============================] - 15s 47ms/step\n",
      "313/313 [==============================] - 14s 42ms/step\n",
      "313/313 [==============================] - 13s 42ms/step\n",
      "MSE: LSTM & hybrid models 12-step ahead forecast\n",
      "0.013305858890388213\n",
      "0.01264515921418612\n",
      "0.012815785743780155\n",
      "0.012680008154156165\n",
      "0.012836522230022428\n",
      "0.012409843645260201\n",
      "MAE: LSTM & hybrid models 12-step ahead forecast\n",
      "0.09302435131590822\n",
      "0.09045063108586403\n",
      "0.0910156213354964\n",
      "0.09013237516673278\n",
      "0.09118071891517733\n",
      "0.08981366284802669\n",
      "MSE & MAE: realized volatility 12-step ahead forecast\n",
      "0.015104236426558474\n",
      "0.09859234937300014\n"
     ]
    }
   ],
   "source": [
    "obs_test = 20000\n",
    "start = 10000\n",
    "d = 100\n",
    "epochs = 75\n",
    "units = 100\n",
    "nodes = 150\n",
    "verbose = 0\n",
    "LR = 0.0001\n",
    "activation_lstm = 'tanh'\n",
    "shift = 25\n",
    "\n",
    "# Producing 1-step ahead forecasts using LSTM\n",
    "h = 12\n",
    "prediction_matrix_lstm_e12 = produce_h_step_forecasting_errors(scaled_rv_egarch, pred_matrix_garch_12, obs_test, start, d, p, h, epochs, units, nodes, verbose, LR, activation_lstm, rv_egarch, shift, benchmark_vol)"
   ]
  },
  {
   "cell_type": "markdown",
   "id": "87fe49f6",
   "metadata": {},
   "source": [
    "## 4.3.3 24-step ahead forecasts"
   ]
  },
  {
   "cell_type": "code",
   "execution_count": 32,
   "id": "7579a626",
   "metadata": {},
   "outputs": [
    {
     "name": "stdout",
     "output_type": "stream",
     "text": [
      "157/157 [==============================] - 13s 78ms/step\n",
      "157/157 [==============================] - 13s 76ms/step\n",
      "157/157 [==============================] - 9s 52ms/step\n",
      "157/157 [==============================] - 8s 46ms/step\n",
      "157/157 [==============================] - 15s 90ms/step\n",
      "157/157 [==============================] - 13s 78ms/step\n",
      "157/157 [==============================] - 12s 73ms/step\n",
      "157/157 [==============================] - 11s 70ms/step\n",
      "157/157 [==============================] - 11s 69ms/step\n",
      "157/157 [==============================] - 12s 75ms/step\n",
      "157/157 [==============================] - 12s 76ms/step\n",
      "157/157 [==============================] - 12s 73ms/step\n",
      "MSE: LSTM & hybrid models 24-step ahead forecast\n",
      "0.009863435287439314\n",
      "0.010304975485335445\n",
      "0.009564446257292298\n",
      "0.010862404925743288\n",
      "0.010569135858370323\n",
      "0.010086054304371204\n",
      "MAE: LSTM & hybrid models 24-step ahead forecast\n",
      "0.07903831764818121\n",
      "0.08008399311020321\n",
      "0.07697044865519997\n",
      "0.08362864433582258\n",
      "0.08165217323547498\n",
      "0.07952579065370959\n",
      "MSE & MAE: realized volatility 24-step ahead forecast\n",
      "0.013898972476662738\n",
      "0.09376322662966977\n"
     ]
    }
   ],
   "source": [
    "obs_test = 20000\n",
    "start = 10000\n",
    "d = 200\n",
    "epochs = 75\n",
    "units = 100\n",
    "nodes = 150\n",
    "verbose = 0\n",
    "LR = 0.0001\n",
    "activation_lstm = 'tanh'\n",
    "shift = 25\n",
    "\n",
    "# Producing 24-step ahead forecasts using LSTM\n",
    "h = 24\n",
    "prediction_matrix_lstm_e24 = produce_h_step_forecasting_errors(scaled_rv_egarch, pred_matrix_garch_24, start, obs_test, d, p, h, epochs, units, nodes, verbose, LR, activation_lstm, rv_egarch, shift, benchmark_vol)"
   ]
  },
  {
   "cell_type": "markdown",
   "id": "554e3361",
   "metadata": {},
   "source": [
    "# 4.4 GJR-GARCH data "
   ]
  },
  {
   "cell_type": "code",
   "execution_count": 186,
   "id": "34a1981f",
   "metadata": {},
   "outputs": [],
   "source": [
    "# Calculate realized volatility based on simulated log-returns\n",
    "p = 50\n",
    "rv_gjrgarch = rv_calc(sim_gjrgarch_draws, p)\n",
    "\n",
    "# Realized volatility data\n",
    "scaled_rv_gjrgarch = scaled_data(rv_gjrgarch)\n",
    "scaled_rv_gjrgarch = scaled_rv_gjrgarch.flatten()\n",
    "\n",
    "# Conditional volatility benchmark\n",
    "benchmark_vol = sim_gjrgarch_condvol"
   ]
  },
  {
   "cell_type": "markdown",
   "id": "a4462cc9",
   "metadata": {},
   "source": [
    "## 4.4.1 1-step ahead forecasts"
   ]
  },
  {
   "cell_type": "code",
   "execution_count": 187,
   "id": "ddc8ef39",
   "metadata": {},
   "outputs": [
    {
     "name": "stdout",
     "output_type": "stream",
     "text": [
      "313/313 [==============================] - 8s 24ms/step\n",
      "313/313 [==============================] - 8s 23ms/step\n",
      "313/313 [==============================] - 10s 30ms/step\n",
      "313/313 [==============================] - 14s 37ms/step\n",
      "313/313 [==============================] - 8s 24ms/step\n",
      "313/313 [==============================] - 9s 27ms/step\n",
      "313/313 [==============================] - 9s 28ms/step\n",
      "313/313 [==============================] - 12s 31ms/step\n",
      "313/313 [==============================] - 8s 22ms/step\n",
      "313/313 [==============================] - 8s 21ms/step\n",
      "313/313 [==============================] - 7s 22ms/step\n",
      "313/313 [==============================] - 7s 21ms/step\n",
      "MSE: LSTM & hybrid models 1-step ahead forecast\n",
      "0.0008510110052683864\n",
      "0.000766680078264896\n",
      "0.0008940522017543964\n",
      "0.0009747299437629154\n",
      "0.0007004051473597653\n",
      "0.000695378528647613\n",
      "MAE: LSTM & hybrid models 1-step ahead forecast\n",
      "0.015456708346578578\n",
      "0.014507898759430949\n",
      "0.01896919289035249\n",
      "0.020461791459352355\n",
      "0.012789555353578798\n",
      "0.01388827847680162\n",
      "MSE & MAE: realized volatility 1-step ahead forecast\n",
      "0.0007906618097120884\n",
      "0.014420564284997571\n"
     ]
    }
   ],
   "source": [
    "obs_test = 20000\n",
    "start = 10000\n",
    "d = 50\n",
    "epochs = 75\n",
    "units = 100\n",
    "nodes = 150\n",
    "verbose = 0\n",
    "LR = 0.0001\n",
    "activation_lstm = 'tanh'\n",
    "shift = 25\n",
    "\n",
    "# Producing 1-step ahead forecasts using LSTM\n",
    "h = 1\n",
    "prediction_matrix_lstm_r1 = produce_h_step_forecasting_errors(scaled_rv_gjrgarch, pred_matrix_gjrgarch_1, start, obs_test, d, p, h, epochs, units, nodes, verbose, LR, activation_lstm, rv_gjrgarch, shift, benchmark_vol)"
   ]
  },
  {
   "cell_type": "markdown",
   "id": "c5222c48",
   "metadata": {},
   "source": [
    "## 4.4.2 12-step ahead forecasts "
   ]
  },
  {
   "cell_type": "code",
   "execution_count": 188,
   "id": "3762ed6f",
   "metadata": {},
   "outputs": [
    {
     "name": "stdout",
     "output_type": "stream",
     "text": [
      "313/313 [==============================] - 19s 57ms/step\n",
      "313/313 [==============================] - 20s 59ms/step\n",
      "313/313 [==============================] - 31s 67ms/step\n",
      "313/313 [==============================] - 23s 69ms/step\n",
      "313/313 [==============================] - 22s 66ms/step\n",
      "313/313 [==============================] - 23s 67ms/step\n",
      "313/313 [==============================] - 21s 65ms/step\n",
      "313/313 [==============================] - 21s 65ms/step\n",
      "313/313 [==============================] - 20s 63ms/step\n",
      "313/313 [==============================] - 22s 65ms/step\n",
      "313/313 [==============================] - 13s 39ms/step\n",
      "313/313 [==============================] - 13s 41ms/step\n",
      "MSE: LSTM & hybrid models 12-step ahead forecast\n",
      "0.0011389952238127865\n",
      "0.001157873451795153\n",
      "0.0008432931059182566\n",
      "0.0008560720296687262\n",
      "0.0009820425484266828\n",
      "0.0008730136181233633\n",
      "MAE: LSTM & hybrid models 12-step ahead forecast\n",
      "0.019458586583858684\n",
      "0.022764029069583882\n",
      "0.015171567991933255\n",
      "0.016369039320354942\n",
      "0.020202760631373946\n",
      "0.014892220037731118\n",
      "MSE & MAE: realized volatility 12-step ahead forecast\n",
      "0.0012777964770205295\n",
      "0.017995410326928647\n"
     ]
    }
   ],
   "source": [
    "obs_test = 20000\n",
    "start = 10000\n",
    "d = 100\n",
    "epochs = 75\n",
    "units = 100\n",
    "nodes = 150\n",
    "verbose = 0\n",
    "LR = 0.0001\n",
    "activation_lstm = 'tanh'\n",
    "shift = 25\n",
    "\n",
    "# Producing 1-step ahead forecasts using LSTM\n",
    "h = 12\n",
    "prediction_matrix_lstm_r12 = produce_h_step_forecasting_errors(scaled_rv_gjrgarch, pred_matrix_gjrgarch_12, start, obs_test, d, p, h, epochs, units, nodes, verbose, LR, activation_lstm, rv_gjrgarch, shift, benchmark_vol)"
   ]
  },
  {
   "cell_type": "markdown",
   "id": "0e039afc",
   "metadata": {},
   "source": [
    "## 4.4.3 24-step ahead forecasts"
   ]
  },
  {
   "cell_type": "code",
   "execution_count": 189,
   "id": "864bb84b",
   "metadata": {},
   "outputs": [
    {
     "name": "stdout",
     "output_type": "stream",
     "text": [
      "313/313 [==============================] - 37s 112ms/step\n",
      "313/313 [==============================] - 34s 105ms/step\n",
      "313/313 [==============================] - 32s 101ms/step\n",
      "313/313 [==============================] - 32s 99ms/step\n",
      "313/313 [==============================] - 32s 99ms/step\n",
      "313/313 [==============================] - 31s 98ms/step\n",
      "313/313 [==============================] - 31s 97ms/step\n",
      "313/313 [==============================] - 30s 95ms/step\n",
      "313/313 [==============================] - 27s 86ms/step\n",
      "313/313 [==============================] - 26s 81ms/step\n",
      "313/313 [==============================] - 27s 85ms/step\n",
      "313/313 [==============================] - 27s 85ms/step\n",
      "MSE: LSTM & hybrid models 24-step ahead forecast\n",
      "0.001124256512012846\n",
      "0.0008524767024243834\n",
      "0.0009547752934914336\n",
      "0.0008045731285482227\n",
      "0.0010853780901918149\n",
      "0.0008764541580185431\n",
      "MAE: LSTM & hybrid models 24-step ahead forecast\n",
      "0.021373747030777726\n",
      "0.015290843589405188\n",
      "0.01727883203667553\n",
      "0.01337805411039366\n",
      "0.021522221272234136\n",
      "0.01598249464180834\n",
      "MSE & MAE: realized volatility 24-step ahead forecast\n",
      "0.0015596194157176276\n",
      "0.019901079862948184\n"
     ]
    }
   ],
   "source": [
    "obs_test = 20000\n",
    "start = 10000\n",
    "d = 200\n",
    "epochs = 75\n",
    "units = 100\n",
    "nodes = 150\n",
    "verbose = 0\n",
    "LR = 0.0001\n",
    "activation_lstm = 'tanh'\n",
    "shift = 25\n",
    "\n",
    "# Producing 1-step ahead forecasts using LSTM\n",
    "h = 24\n",
    "prediction_matrix_lstm_r24 = produce_h_step_forecasting_errors(scaled_rv_gjrgarch, pred_matrix_gjrgarch_24, obs_test, start, d, p, h, epochs, units, nodes, verbose, LR, activation_lstm, rv_gjrgarch, shift, benchmark_vol)"
   ]
  },
  {
   "cell_type": "markdown",
   "id": "67076151",
   "metadata": {},
   "source": [
    "# 4.5 MS-GARCH data"
   ]
  },
  {
   "cell_type": "code",
   "execution_count": 190,
   "id": "171dc877",
   "metadata": {},
   "outputs": [],
   "source": [
    "# Calculate realized volatility based on simulated log-returns\n",
    "p = 50\n",
    "rv_msgarch = rv_calc(sim_msgarch_draws, p)\n",
    "\n",
    "# Realized volatility data\n",
    "scaled_rv_msgarch = scaled_data(rv_msgarch)\n",
    "scaled_rv_msgarch = scaled_rv_msgarch.flatten()\n",
    "\n",
    "# Conditional volatility benchmark\n",
    "benchmark_vol = sim_msgarch_condvol"
   ]
  },
  {
   "cell_type": "markdown",
   "id": "25e5bf36",
   "metadata": {},
   "source": [
    "## 4.5.1 1-step ahead forecasts"
   ]
  },
  {
   "cell_type": "code",
   "execution_count": 191,
   "id": "062edcf6",
   "metadata": {},
   "outputs": [
    {
     "name": "stdout",
     "output_type": "stream",
     "text": [
      "313/313 [==============================] - 9s 26ms/step\n",
      "313/313 [==============================] - 8s 23ms/step\n",
      "313/313 [==============================] - 8s 25ms/step\n",
      "313/313 [==============================] - 9s 26ms/step\n",
      "313/313 [==============================] - 9s 26ms/step\n",
      "313/313 [==============================] - 8s 25ms/step\n",
      "313/313 [==============================] - 8s 23ms/step\n",
      "313/313 [==============================] - 8s 25ms/step\n",
      "313/313 [==============================] - 9s 28ms/step\n",
      "313/313 [==============================] - 8s 24ms/step\n",
      "313/313 [==============================] - 8s 25ms/step\n",
      "313/313 [==============================] - 8s 25ms/step\n",
      "MSE: LSTM & hybrid models 1-step ahead forecast\n",
      "0.0004394842514381726\n",
      "0.0004119409309997381\n",
      "0.00041516141379166656\n",
      "0.00039970932490167\n",
      "0.00044723253337095834\n",
      "0.00045367139108778184\n",
      "MAE: LSTM & hybrid models 1-step ahead forecast\n",
      "0.014099242398702647\n",
      "0.013145249223892383\n",
      "0.013370419377347939\n",
      "0.013310340240928411\n",
      "0.014287815031789866\n",
      "0.01441643763693671\n",
      "MSE & MAE: realized volatility 1-step ahead forecast\n",
      "0.0004273050034877354\n",
      "0.013866317269716174\n"
     ]
    }
   ],
   "source": [
    "obs_test = 20000\n",
    "start = 10000\n",
    "d = 50\n",
    "epochs = 75\n",
    "units = 100\n",
    "nodes = 150\n",
    "verbose = 0\n",
    "LR = 0.0001\n",
    "activation_lstm = 'tanh'\n",
    "shift = 25\n",
    "\n",
    "# Producing 1-step ahead forecasts using LSTM\n",
    "h = 1\n",
    "prediction_matrix_lstm_m1 = produce_h_step_forecasting_errors(scaled_rv_msgarch, pred_matrix_msgarch_1, obs_test, start, d, p, h, epochs, units, nodes, verbose, LR, activation_lstm, rv_msgarch, shift, benchmark_vol)"
   ]
  },
  {
   "cell_type": "markdown",
   "id": "20ffbc92",
   "metadata": {},
   "source": [
    "## 4.5.2 12-step ahead forecasts"
   ]
  },
  {
   "cell_type": "code",
   "execution_count": 192,
   "id": "68f594ef",
   "metadata": {},
   "outputs": [
    {
     "name": "stdout",
     "output_type": "stream",
     "text": [
      "313/313 [==============================] - 15s 45ms/step\n",
      "313/313 [==============================] - 15s 48ms/step\n",
      "313/313 [==============================] - 14s 44ms/step\n",
      "313/313 [==============================] - 14s 43ms/step\n",
      "313/313 [==============================] - 14s 41ms/step\n",
      "313/313 [==============================] - 13s 40ms/step\n",
      "313/313 [==============================] - 15s 46ms/step\n",
      "313/313 [==============================] - 15s 48ms/step\n",
      "313/313 [==============================] - 13s 41ms/step\n",
      "313/313 [==============================] - 15s 45ms/step\n",
      "313/313 [==============================] - 14s 43ms/step\n",
      "313/313 [==============================] - 13s 40ms/step\n",
      "MSE: LSTM & hybrid models 12-step ahead forecast\n",
      "0.00044234232518376997\n",
      "0.0004252648812223827\n",
      "0.0004043958005976944\n",
      "0.000396458622948111\n",
      "0.0003721526713369417\n",
      "0.00042652817679615586\n",
      "MAE: LSTM & hybrid models 12-step ahead forecast\n",
      "0.013566539053179753\n",
      "0.012944674501074945\n",
      "0.012525105614245547\n",
      "0.012363149509267705\n",
      "0.012290901098092912\n",
      "0.012994452503302681\n",
      "MSE & MAE: realized volatility 12-step ahead forecast\n",
      "0.0004684172768278799\n",
      "0.01404873139773857\n"
     ]
    }
   ],
   "source": [
    "obs_test = 20000\n",
    "start = 10000\n",
    "d = 100\n",
    "epochs = 75\n",
    "units = 100\n",
    "nodes = 150\n",
    "verbose = 0\n",
    "LR = 0.0001\n",
    "activation_lstm = 'tanh'\n",
    "shift = 25\n",
    "\n",
    "# Producing 12-step ahead forecasts using LSTM\n",
    "h = 12\n",
    "prediction_matrix_lstm_m12 = produce_h_step_forecasting_errors(scaled_rv_msgarch, pred_matrix_msgarch_12, obs_test, start, d, p, h, epochs, units, nodes, verbose, LR, activation_lstm, rv_msgarch, shift, benchmark_vol)"
   ]
  },
  {
   "cell_type": "markdown",
   "id": "764223d3",
   "metadata": {},
   "source": [
    "## 4.5.3 24-step ahead forecasts"
   ]
  },
  {
   "cell_type": "code",
   "execution_count": 203,
   "id": "fa5e44d3",
   "metadata": {},
   "outputs": [
    {
     "name": "stdout",
     "output_type": "stream",
     "text": [
      "313/313 [==============================] - 21s 66ms/step\n",
      "313/313 [==============================] - 22s 68ms/step\n",
      "313/313 [==============================] - 30s 95ms/step\n",
      "313/313 [==============================] - 29s 91ms/step\n",
      "313/313 [==============================] - 21s 67ms/step\n",
      "313/313 [==============================] - 24s 74ms/step\n",
      "313/313 [==============================] - 20s 61ms/step\n",
      "313/313 [==============================] - 21s 65ms/step\n",
      "313/313 [==============================] - 20s 61ms/step\n",
      "313/313 [==============================] - 17s 54ms/step\n",
      "313/313 [==============================] - 27s 79ms/step\n",
      "313/313 [==============================] - 27s 83ms/step\n",
      "MSE: LSTM & hybrid models 24-step ahead forecast\n",
      "0.00026328760808492515\n",
      "0.0002449895711335309\n",
      "0.000257866191043404\n",
      "0.000263369741961411\n",
      "0.0002461222096886691\n",
      "0.00024379766549017363\n",
      "MAE: LSTM & hybrid models 24-step ahead forecast\n",
      "0.009822702376902961\n",
      "0.008865368581689279\n",
      "0.008652707218055326\n",
      "0.01009547494179272\n",
      "0.008087861562661426\n",
      "0.007988702637095979\n",
      "MSE & MAE: realized volatility 24-step ahead forecast\n",
      "0.00029154263013214356\n",
      "0.008818468020810735\n"
     ]
    }
   ],
   "source": [
    "obs_test = 20000\n",
    "start = 10000\n",
    "d = 200\n",
    "epochs = 75\n",
    "units = 100\n",
    "nodes = 150\n",
    "verbose = 0\n",
    "LR = 0.0001\n",
    "activation_lstm = 'tanh'\n",
    "shift = 25\n",
    "\n",
    "# Producing 1-step ahead forecasts using LSTM\n",
    "h = 24\n",
    "prediction_matrix_lstm_m24 = produce_h_step_forecasting_errors(scaled_rv_msgarch, pred_matrix_msgarch_24, obs_test, start, d, p, h, epochs, units, nodes, verbose, LR, activation_lstm, rv_msgarch, shift, benchmark_vol)"
   ]
  },
  {
   "cell_type": "markdown",
   "id": "b001dad2",
   "metadata": {},
   "source": [
    "# Test all predictions with plots"
   ]
  },
  {
   "cell_type": "code",
   "execution_count": 33,
   "id": "c4b352e0",
   "metadata": {},
   "outputs": [
    {
     "ename": "NameError",
     "evalue": "name 'prediction_matrix_lstm_m1' is not defined",
     "output_type": "error",
     "traceback": [
      "\u001b[0;31m---------------------------------------------------------------------------\u001b[0m",
      "\u001b[0;31mNameError\u001b[0m                                 Traceback (most recent call last)",
      "\u001b[0;32m/var/folders/f4/r997w8nx5v5022dy1nxllgk00000gn/T/ipykernel_25447/1726633769.py\u001b[0m in \u001b[0;36m<module>\u001b[0;34m\u001b[0m\n\u001b[0;32m----> 1\u001b[0;31m \u001b[0mplt\u001b[0m\u001b[0;34m.\u001b[0m\u001b[0mplot\u001b[0m\u001b[0;34m(\u001b[0m\u001b[0mprediction_matrix_lstm_m1\u001b[0m\u001b[0;34m[\u001b[0m\u001b[0;34m:\u001b[0m\u001b[0;34m,\u001b[0m\u001b[0;36m0\u001b[0m\u001b[0;34m]\u001b[0m\u001b[0;34m)\u001b[0m\u001b[0;34m\u001b[0m\u001b[0;34m\u001b[0m\u001b[0m\n\u001b[0m\u001b[1;32m      2\u001b[0m \u001b[0mplt\u001b[0m\u001b[0;34m.\u001b[0m\u001b[0mplot\u001b[0m\u001b[0;34m(\u001b[0m\u001b[0mprediction_matrix_lstm_m12\u001b[0m\u001b[0;34m[\u001b[0m\u001b[0;34m:\u001b[0m\u001b[0;34m,\u001b[0m\u001b[0;36m0\u001b[0m\u001b[0;34m]\u001b[0m\u001b[0;34m)\u001b[0m\u001b[0;34m\u001b[0m\u001b[0;34m\u001b[0m\u001b[0m\n\u001b[1;32m      3\u001b[0m \u001b[0mplt\u001b[0m\u001b[0;34m.\u001b[0m\u001b[0mplot\u001b[0m\u001b[0;34m(\u001b[0m\u001b[0mprediction_matrix_lstm_m24\u001b[0m\u001b[0;34m[\u001b[0m\u001b[0;34m:\u001b[0m\u001b[0;34m,\u001b[0m\u001b[0;36m0\u001b[0m\u001b[0;34m]\u001b[0m\u001b[0;34m)\u001b[0m\u001b[0;34m\u001b[0m\u001b[0;34m\u001b[0m\u001b[0m\n",
      "\u001b[0;31mNameError\u001b[0m: name 'prediction_matrix_lstm_m1' is not defined"
     ]
    }
   ],
   "source": [
    "plt.plot(prediction_matrix_lstm_m1[:,0])\n",
    "plt.plot(prediction_matrix_lstm_m12[:,0])\n",
    "plt.plot(prediction_matrix_lstm_m24[:,0])"
   ]
  },
  {
   "cell_type": "code",
   "execution_count": 202,
   "id": "fb76691b",
   "metadata": {},
   "outputs": [],
   "source": [
    "# Function h-step ahead\n",
    "\n",
    "def produce_h_step_forecasting_errors(scaled_rv, pred_matrix, obs_test, d, p, h, epochs, units, nodes, verbose, LR, activation_lstm, rv, shift, benchmark_vol):\n",
    "    \n",
    "    # Unpack prediction matrix\n",
    "    scaled_pred_arch = scaled_data(pred_matrix[:, 0]).flatten()\n",
    "    scaled_pred_garch = scaled_data(pred_matrix[:, 1]).flatten()\n",
    "    scaled_pred_egarch = scaled_data(pred_matrix[:, 2]).flatten()\n",
    "    scaled_pred_gjrgarch = scaled_data(pred_matrix[:, 3]).flatten()\n",
    "    \n",
    "    if np.shape(pred_matrix)[1]==5:\n",
    "        scaled_pred_msgarch = scaled_data(pred_matrix[:, 4]).flatten()\n",
    "\n",
    "    # Generate predictions (p = window size realized volatility) (Might remove (p-1)!)\n",
    "    lstm_preds = univariate_lstm_preds_shift(scaled_rv, obs_test, d, h, epochs, units, nodes, verbose, LR, activation_lstm, rv, shift)\n",
    "    lstm_preds_arch = generate_2_forecasts_hybrid_shift(scaled_rv, scaled_pred_arch[(p-1):], obs_test, start, d, epochs, units, nodes, LR, activation_lstm, rv, h, shift)\n",
    "    lstm_preds_garch = generate_2_forecasts_hybrid_shift(scaled_rv, scaled_pred_garch[(p-1):], obs_test, start, d, epochs, units, nodes, LR, activation_lstm, rv, h, shift)\n",
    "    lstm_preds_egarch = generate_2_forecasts_hybrid_shift(scaled_rv, scaled_pred_egarch[(p-1):], obs_test, start, d, epochs, units, nodes, LR, activation_lstm, rv, h, shift)\n",
    "    lstm_preds_gjrgarch = generate_2_forecasts_hybrid_shift(scaled_rv, scaled_pred_gjrgarch[(p-1):], obs_test, start, d, epochs, units, nodes, LR, activation_lstm, rv, h, shift)\n",
    "    lstm_preds_msgarch = generate_2_forecasts_hybrid_shift(scaled_rv, scaled_pred_msgarch[(p-1):], obs_test, start, d, epochs, units, nodes, LR, activation_lstm, rv, h, shift)\n",
    "\n",
    "    # Execute if h>1: Retrieving every h-th sequence, for h-th step ahead prediction evaluation\n",
    "    if h!=1:        \n",
    "        lstm_preds = create_h_step_forecasts(lstm_preds, h, obs_test)\n",
    "        lstm_preds_arch = create_h_step_forecasts(lstm_preds_arch, h, obs_test)\n",
    "        lstm_preds_garch = create_h_step_forecasts(lstm_preds_garch, h, obs_test)\n",
    "        lstm_preds_egarch = create_h_step_forecasts(lstm_preds_egarch, h, obs_test)\n",
    "        lstm_preds_gjrgarch = create_h_step_forecasts(lstm_preds_gjrgarch, h, obs_test)\n",
    "        lstm_preds_msgarch = create_h_step_forecasts(lstm_preds_msgarch, h, obs_test)\n",
    "\n",
    "    # Error calculations (MSE)\n",
    "    print(f\"MSE: LSTM & hybrid models {h}-step ahead forecast\")\n",
    "    print(mse(lstm_preds[:obs_test-(h+1)], benchmark_vol[(len(benchmark_vol) - obs_test):(len(benchmark_vol)-(h+1))])) # -(h+1) to ensure same length outputs\n",
    "    print(mse(lstm_preds_arch[:obs_test-(h+1)], benchmark_vol[(len(benchmark_vol) - obs_test):(len(benchmark_vol)-(h+1))]))\n",
    "    print(mse(lstm_preds_garch[:obs_test-(h+1)], benchmark_vol[(len(benchmark_vol) - obs_test):(len(benchmark_vol)-(h+1))]))\n",
    "    print(mse(lstm_preds_egarch[:obs_test-(h+1)], benchmark_vol[(len(benchmark_vol) - obs_test):(len(benchmark_vol)-(h+1))]))\n",
    "    print(mse(lstm_preds_gjrgarch[:obs_test-(h+1)], benchmark_vol[(len(benchmark_vol) - obs_test):(len(benchmark_vol)-(h+1))]))\n",
    "    print(mse(lstm_preds_msgarch[:obs_test-(h+1)], benchmark_vol[(len(benchmark_vol) - obs_test):(len(benchmark_vol)-(h+1))]))\n",
    "\n",
    "    # Error calculations (MAE)\n",
    "    print(f\"MAE: LSTM & hybrid models {h}-step ahead forecast\")\n",
    "    print(mae(lstm_preds[:obs_test-(h+1)], benchmark_vol[(len(benchmark_vol) - obs_test):(len(benchmark_vol)-(h+1))])) # -(h+1) to ensure same length outputs\n",
    "    print(mae(lstm_preds_arch[:obs_test-(h+1)], benchmark_vol[(len(benchmark_vol) - obs_test):(len(benchmark_vol)-(h+1))]))\n",
    "    print(mae(lstm_preds_garch[:obs_test-(h+1)], benchmark_vol[(len(benchmark_vol) - obs_test):(len(benchmark_vol)-(h+1))]))\n",
    "    print(mae(lstm_preds_egarch[:obs_test-(h+1)], benchmark_vol[(len(benchmark_vol) - obs_test):(len(benchmark_vol)-(h+1))]))\n",
    "    print(mae(lstm_preds_gjrgarch[:obs_test-(h+1)], benchmark_vol[(len(benchmark_vol) - obs_test):(len(benchmark_vol)-(h+1))]))\n",
    "    print(mae(lstm_preds_msgarch[:obs_test-(h+1)], benchmark_vol[(len(benchmark_vol) - obs_test):(len(benchmark_vol)-(h+1))]))\n",
    "\n",
    "    # Realized variance errors (MSE & MAE)\n",
    "    print(f\"MSE & MAE: realized volatility {h}-step ahead forecast\")\n",
    "    print(mse(rv[(len(rv) - obs_test - h):(len(rv) - h)], benchmark_vol[(len(benchmark_vol)-obs_test):len(benchmark_vol)]))\n",
    "    print(mae(rv[(len(rv) - obs_test - h):(len(rv) - h)], benchmark_vol[(len(benchmark_vol)-obs_test):len(benchmark_vol)]))\n",
    "    \n",
    "    # Flatten predictions to put them into 1 matrix\n",
    "    lstm_preds_arch = lstm_preds_arch.flatten()\n",
    "    lstm_preds_garch = lstm_preds_garch.flatten()\n",
    "    lstm_preds_egarch = lstm_preds_egarch.flatten()\n",
    "    lstm_preds_gjrgarch = lstm_preds_gjrgarch.flatten()\n",
    "    lstm_preds_msgarch = lstm_preds_msgarch.flatten()\n",
    "    \n",
    "    prediction_matrix_lstm = np.vstack((lstm_preds, lstm_preds_arch, lstm_preds_garch, lstm_preds_egarch, lstm_preds_gjrgarch, lstm_preds_msgarch))\n",
    "    \n",
    "    return prediction_matrix_lstm"
   ]
  },
  {
   "cell_type": "markdown",
   "id": "e19b8a2d",
   "metadata": {},
   "source": [
    "## Without functions "
   ]
  },
  {
   "cell_type": "code",
   "execution_count": 18,
   "id": "446d6d31",
   "metadata": {},
   "outputs": [
    {
     "name": "stdout",
     "output_type": "stream",
     "text": [
      "313/313 [==============================] - 5s 15ms/step\n",
      "313/313 [==============================] - 5s 15ms/step\n",
      "313/313 [==============================] - 5s 13ms/step\n",
      "313/313 [==============================] - 4s 13ms/step\n",
      "313/313 [==============================] - 4s 13ms/step\n",
      "313/313 [==============================] - 5s 14ms/step\n",
      "313/313 [==============================] - 5s 14ms/step\n",
      "313/313 [==============================] - 4s 13ms/step\n",
      "313/313 [==============================] - 5s 15ms/step\n",
      "313/313 [==============================] - 5s 16ms/step\n",
      "313/313 [==============================] - 4s 12ms/step\n",
      "313/313 [==============================] - 4s 12ms/step\n"
     ]
    }
   ],
   "source": [
    "arch_lstm_preds = univariate_lstm_preds_shift(scaled_rv_arch, obs_test, d, h, epochs, units, nodes, verbose, LR, activation_lstm, rv_arch, shift)\n",
    "arch_lstm_preds_arch = generate_2_forecasts_hybrid_shift(scaled_rv_arch, scaled_filt_arch[49:], obs_test, start, d, epochs, units, nodes, LR, activation_lstm, rv_arch, h, shift)\n",
    "arch_lstm_preds_garch = generate_2_forecasts_hybrid_shift(scaled_rv_arch, scaled_filt_garch[49:], obs_test, start, d, epochs, units, nodes, LR, activation_lstm, rv_arch, h, shift)\n",
    "arch_lstm_preds_egarch = generate_2_forecasts_hybrid_shift(scaled_rv_arch, scaled_filt_egarch[49:], obs_test, start, d, epochs, units, nodes, LR, activation_lstm, rv_arch, h, shift)\n",
    "arch_lstm_preds_gjrgarch = generate_2_forecasts_hybrid_shift(scaled_rv_arch, scaled_filt_gjrgarch[49:], obs_test, start, d, epochs, units, nodes, LR, activation_lstm, rv_arch, h, shift)\n",
    "arch_lstm_preds_msgarch = generate_2_forecasts_hybrid_shift(scaled_rv_arch, scaled_filt_msgarch[49:], obs_test, start, d, epochs, units, nodes, LR, activation_lstm,rv_arch, h, shift)"
   ]
  },
  {
   "cell_type": "code",
   "execution_count": 19,
   "id": "76d5ec8a",
   "metadata": {},
   "outputs": [
    {
     "name": "stdout",
     "output_type": "stream",
     "text": [
      "MSE: LSTM & hybrid models\n",
      "0.0002312610690765773\n",
      "0.00023489433166557278\n",
      "0.0002306550269078805\n",
      "0.0002323863690279035\n",
      "0.00022784876781001585\n",
      "0.00022852642132672066\n",
      "MAE: LSTM & hybrid models\n",
      "0.007763846140148484\n",
      "0.007827603711220375\n",
      "0.007718975930620201\n",
      "0.0077279989426974225\n",
      "0.0076028710590690055\n",
      "0.00767753812635609\n",
      "MSE & MAE: realized volatility forecasts\n",
      "0.00023362855856521016\n",
      "0.007807885435692457\n"
     ]
    }
   ],
   "source": [
    "# Error calculations\n",
    "print('MSE: LSTM & hybrid models (1 step ahead)')\n",
    "print(mse(arch_lstm_preds, sim_arch_condvol[(len(sim_msgarch_condvol) - obs_test):len(sim_msgarch_condvol)]))\n",
    "print(mse(arch_lstm_preds_arch, sim_arch_condvol[(len(sim_msgarch_condvol) - obs_test):len(sim_msgarch_condvol)]))\n",
    "print(mse(arch_lstm_preds_garch, sim_arch_condvol[(len(sim_msgarch_condvol) - obs_test):len(sim_msgarch_condvol)]))\n",
    "print(mse(arch_lstm_preds_egarch, sim_arch_condvol[(len(sim_msgarch_condvol) - obs_test):len(sim_msgarch_condvol)]))\n",
    "print(mse(arch_lstm_preds_gjrgarch, sim_arch_condvol[(len(sim_msgarch_condvol) - obs_test):len(sim_msgarch_condvol)]))\n",
    "print(mse(arch_lstm_preds_msgarch, sim_arch_condvol[(len(sim_msgarch_condvol) - obs_test):len(sim_msgarch_condvol)]))\n",
    "\n",
    "# Error calculations\n",
    "print('MAE: LSTM & hybrid models (1 step ahead)')\n",
    "print(mae(arch_lstm_preds, sim_arch_condvol[(len(sim_msgarch_condvol) - obs_test):len(sim_msgarch_condvol)]))\n",
    "print(mae(arch_lstm_preds_arch, sim_arch_condvol[(len(sim_msgarch_condvol) - obs_test):len(sim_msgarch_condvol)]))\n",
    "print(mae(arch_lstm_preds_garch, sim_arch_condvol[(len(sim_msgarch_condvol) - obs_test):len(sim_msgarch_condvol)]))\n",
    "print(mae(arch_lstm_preds_egarch, sim_arch_condvol[(len(sim_msgarch_condvol) - obs_test):len(sim_msgarch_condvol)]))\n",
    "print(mae(arch_lstm_preds_gjrgarch, sim_arch_condvol[(len(sim_msgarch_condvol) - obs_test):len(sim_msgarch_condvol)]))\n",
    "print(mae(arch_lstm_preds_msgarch, sim_arch_condvol[(len(sim_msgarch_condvol) - obs_test):len(sim_msgarch_condvol)]))\n",
    "\n",
    "# Realized variance errors\n",
    "print('MSE & MAE: realized volatility forecasts (1 step ahead)')\n",
    "print(mse(rv_arch[(len(rv_garch)-obs_test-1):(len(rv_garch)-1)],sim_arch_condvol[(len(sim_msgarch_condvol)-obs_test):len(sim_msgarch_condvol)]))\n",
    "print(mae(rv_arch[(len(rv_garch)-obs_test-1):(len(rv_garch)-1)],sim_arch_condvol[(len(sim_msgarch_condvol)-obs_test):len(sim_msgarch_condvol)]))"
   ]
  },
  {
   "cell_type": "markdown",
   "id": "c403e265",
   "metadata": {},
   "source": [
    "## 4.1.2 ARCH sequence: 12-step ahead forecasting"
   ]
  },
  {
   "cell_type": "code",
   "execution_count": 20,
   "id": "2219e409",
   "metadata": {},
   "outputs": [],
   "source": [
    "obs_test = 20000\n",
    "start = 10000\n",
    "d = 100\n",
    "epochs = 75\n",
    "units = 100\n",
    "nodes = 150\n",
    "verbose = 0\n",
    "LR = 0.0001\n",
    "activation_lstm = 'tanh'\n",
    "shift = 25"
   ]
  },
  {
   "cell_type": "code",
   "execution_count": 21,
   "id": "b6ea3aa0",
   "metadata": {},
   "outputs": [],
   "source": [
    "h = 12"
   ]
  },
  {
   "cell_type": "code",
   "execution_count": 22,
   "id": "8715a8c0",
   "metadata": {},
   "outputs": [
    {
     "name": "stdout",
     "output_type": "stream",
     "text": [
      "313/313 [==============================] - 8s 25ms/step\n",
      "313/313 [==============================] - 8s 24ms/step\n",
      "313/313 [==============================] - 8s 23ms/step\n",
      "313/313 [==============================] - 8s 23ms/step\n",
      "313/313 [==============================] - 9s 29ms/step\n",
      "313/313 [==============================] - 7s 21ms/step\n",
      "313/313 [==============================] - 10s 31ms/step\n",
      "313/313 [==============================] - 10s 31ms/step\n",
      "313/313 [==============================] - 8s 23ms/step\n",
      "313/313 [==============================] - 8s 24ms/step\n",
      "313/313 [==============================] - 8s 25ms/step\n",
      "313/313 [==============================] - 7s 23ms/step\n"
     ]
    }
   ],
   "source": [
    "# Calculating prediction matrices\n",
    "arch_lstm_preds = univariate_lstm_preds_shift(scaled_rv_arch, obs_test, d, h, epochs, units, nodes, verbose, LR, activation_lstm, rv_arch, shift)\n",
    "arch_lstm_preds_arch = generate_2_forecasts_hybrid_shift(scaled_rv_arch, scaled_filt_arch[49:], obs_test, start, d, epochs, units, nodes, LR, activation_lstm, rv_arch, h, shift)\n",
    "arch_lstm_preds_garch = generate_2_forecasts_hybrid_shift(scaled_rv_arch, scaled_filt_garch[49:], obs_test, start, d, epochs, units, nodes, LR, activation_lstm, rv_arch, h, shift)\n",
    "arch_lstm_preds_egarch = generate_2_forecasts_hybrid_shift(scaled_rv_arch, scaled_filt_egarch[49:], obs_test, start, d, epochs, units, nodes, LR, activation_lstm, rv_arch, h, shift)\n",
    "arch_lstm_preds_gjrgarch = generate_2_forecasts_hybrid_shift(scaled_rv_arch, scaled_filt_gjrgarch[49:], obs_test, start, d, epochs, units, nodes, LR, activation_lstm, rv_arch, h, shift)\n",
    "arch_lstm_preds_msgarch = generate_2_forecasts_hybrid_shift(scaled_rv_arch, scaled_filt_msgarch[49:], obs_test, start, d, epochs, units, nodes, LR, activation_lstm, rv_arch, h, shift)\n",
    "\n",
    "# Retrieving every h-th sequence, for h-th step ahead prediction evaluation\n",
    "arch_lstm_preds_h = create_h_step_forecasts(arch_lstm_preds, h, obs_test)\n",
    "arch_lstm_preds_arch_h = create_h_step_forecasts(arch_lstm_preds_arch, h, obs_test)\n",
    "arch_lstm_preds_garch_h = create_h_step_forecasts(arch_lstm_preds_garch, h, obs_test)\n",
    "arch_lstm_preds_egarch_h = create_h_step_forecasts(arch_lstm_preds_egarch, h, obs_test)\n",
    "arch_lstm_preds_gjrgarch_h = create_h_step_forecasts(arch_lstm_preds_gjrgarch, h, obs_test)\n",
    "arch_lstm_preds_msgarch_h = create_h_step_forecasts(arch_lstm_preds_msgarch, h, obs_test)"
   ]
  },
  {
   "cell_type": "code",
   "execution_count": 24,
   "id": "d85e5938",
   "metadata": {},
   "outputs": [
    {
     "name": "stdout",
     "output_type": "stream",
     "text": [
      "MSE: LSTM & hybrid models (12 step ahead)\n",
      "0.0002604288680254772\n",
      "0.0002588069289715121\n",
      "0.00026638696461895824\n",
      "0.0002495256314017465\n",
      "0.0002613394340692686\n",
      "0.00024723957486378647\n",
      "MAE: LSTM & hybrid models (12 step ahead)\n",
      "0.007905820185271754\n",
      "0.007906815782157392\n",
      "0.008009426338845608\n",
      "0.007330936525021002\n",
      "0.0077629151840993135\n",
      "0.007199769634746777\n",
      "MSE & MAE: realized volatility forecasts (12 step ahead)\n",
      "0.0002801909544288314\n",
      "0.008297771760459234\n"
     ]
    }
   ],
   "source": [
    "# Error calculations\n",
    "print('MSE: LSTM & hybrid models (12 step ahead)')\n",
    "print(mse(arch_lstm_preds_h[:-4], sim_arch_condvol[(len(sim_msgarch_condvol) - obs_test):len(sim_msgarch_condvol)]))\n",
    "print(mse(arch_lstm_preds_arch_h[:-4], sim_arch_condvol[(len(sim_msgarch_condvol) - obs_test):len(sim_msgarch_condvol)]))\n",
    "print(mse(arch_lstm_preds_garch_h[:-4], sim_arch_condvol[(len(sim_msgarch_condvol) - obs_test):len(sim_msgarch_condvol)]))\n",
    "print(mse(arch_lstm_preds_egarch_h[:-4], sim_arch_condvol[(len(sim_msgarch_condvol) - obs_test):len(sim_msgarch_condvol)]))\n",
    "print(mse(arch_lstm_preds_gjrgarch_h[:-4], sim_arch_condvol[(len(sim_msgarch_condvol) - obs_test):len(sim_msgarch_condvol)]))\n",
    "print(mse(arch_lstm_preds_msgarch_h[:-4], sim_arch_condvol[(len(sim_msgarch_condvol) - obs_test):len(sim_msgarch_condvol)]))\n",
    "\n",
    "# Error calculations\n",
    "print('MAE: LSTM & hybrid models (12 step ahead)')\n",
    "print(mae(arch_lstm_preds_h[:-4], sim_arch_condvol[(len(sim_msgarch_condvol) - obs_test):len(sim_msgarch_condvol)]))\n",
    "print(mae(arch_lstm_preds_arch_h[:-4], sim_arch_condvol[(len(sim_msgarch_condvol) - obs_test):len(sim_msgarch_condvol)]))\n",
    "print(mae(arch_lstm_preds_garch_h[:-4], sim_arch_condvol[(len(sim_msgarch_condvol) - obs_test):len(sim_msgarch_condvol)]))\n",
    "print(mae(arch_lstm_preds_egarch_h[:-4], sim_arch_condvol[(len(sim_msgarch_condvol) - obs_test):len(sim_msgarch_condvol)]))\n",
    "print(mae(arch_lstm_preds_gjrgarch_h[:-4], sim_arch_condvol[(len(sim_msgarch_condvol) - obs_test):len(sim_msgarch_condvol)]))\n",
    "print(mae(arch_lstm_preds_msgarch_h[:-4], sim_arch_condvol[(len(sim_msgarch_condvol) - obs_test):len(sim_msgarch_condvol)]))\n",
    "\n",
    "# Realized variance errors\n",
    "print('MSE & MAE: realized volatility forecasts (12 step ahead)')\n",
    "print(mse(rv_arch[(len(rv_garch)-obs_test-12):(len(rv_garch)-12)],sim_arch_condvol[(len(sim_msgarch_condvol)-obs_test):len(sim_msgarch_condvol)]))\n",
    "print(mae(rv_arch[(len(rv_garch)-obs_test-12):(len(rv_garch)-12)],sim_arch_condvol[(len(sim_msgarch_condvol)-obs_test):len(sim_msgarch_condvol)]))"
   ]
  },
  {
   "cell_type": "markdown",
   "id": "11e03868",
   "metadata": {},
   "source": [
    "## 4.1.3 ARCH sequence: 24-step ahead forecasting"
   ]
  },
  {
   "cell_type": "code",
   "execution_count": 53,
   "id": "96fb1f0b",
   "metadata": {},
   "outputs": [],
   "source": [
    "obs_test = 20000\n",
    "start = 10000\n",
    "d = 200\n",
    "epochs = 75\n",
    "units = 50\n",
    "nodes = 75\n",
    "verbose = 0\n",
    "LR = 0.0001\n",
    "activation_lstm = 'tanh'\n",
    "shift = 25"
   ]
  },
  {
   "cell_type": "code",
   "execution_count": 54,
   "id": "10281ae7",
   "metadata": {},
   "outputs": [],
   "source": [
    "h = 24"
   ]
  },
  {
   "cell_type": "code",
   "execution_count": 55,
   "id": "6313cefa",
   "metadata": {},
   "outputs": [
    {
     "name": "stdout",
     "output_type": "stream",
     "text": [
      "313/313 [==============================] - 6s 18ms/step\n",
      "313/313 [==============================] - 5s 16ms/step\n",
      "313/313 [==============================] - 6s 17ms/step\n",
      "313/313 [==============================] - 7s 20ms/step\n",
      "313/313 [==============================] - 5s 15ms/step\n",
      "313/313 [==============================] - 5s 16ms/step\n",
      "313/313 [==============================] - 5s 16ms/step\n",
      "313/313 [==============================] - 5s 16ms/step\n",
      "313/313 [==============================] - 5s 16ms/step\n",
      "313/313 [==============================] - 5s 16ms/step\n",
      "313/313 [==============================] - 5s 16ms/step\n",
      "313/313 [==============================] - 5s 16ms/step\n"
     ]
    }
   ],
   "source": [
    "# Calculating prediction matrices\n",
    "arch_lstm_preds = univariate_lstm_preds_shift(scaled_rv_arch, obs_test, d, h, epochs, units, nodes, verbose, LR, activation_lstm, rv_arch, shift)\n",
    "arch_lstm_preds_arch = generate_2_forecasts_hybrid_shift(scaled_rv_arch, scaled_filt_arch[49:], obs_test, start, d, epochs, units, nodes, LR, activation_lstm, rv_arch, h, shift)\n",
    "arch_lstm_preds_garch = generate_2_forecasts_hybrid_shift(scaled_rv_arch, scaled_filt_garch[49:], obs_test, start, d, epochs, units, nodes, LR, activation_lstm, rv_arch, h, shift)\n",
    "arch_lstm_preds_egarch = generate_2_forecasts_hybrid_shift(scaled_rv_arch, scaled_filt_egarch[49:], obs_test, start, d, epochs, units, nodes, LR, activation_lstm, rv_arch, h, shift)\n",
    "arch_lstm_preds_gjrgarch = generate_2_forecasts_hybrid_shift(scaled_rv_arch, scaled_filt_gjrgarch[49:], obs_test, start, d, epochs, units, nodes, LR, activation_lstm, rv_arch, h, shift)\n",
    "arch_lstm_preds_msgarch = generate_2_forecasts_hybrid_shift(scaled_rv_arch, scaled_filt_msgarch[49:], obs_test, start, d, epochs, units, nodes, LR, activation_lstm, rv_arch, h, shift)\n",
    "\n",
    "# Retrieving every h-th sequence, for h-th step ahead prediction evaluation\n",
    "arch_lstm_preds_h = create_h_step_forecasts(arch_lstm_preds, h, obs_test)\n",
    "arch_lstm_preds_arch_h = create_h_step_forecasts(arch_lstm_preds_arch, h, obs_test)\n",
    "arch_lstm_preds_garch_h = create_h_step_forecasts(arch_lstm_preds_garch, h, obs_test)\n",
    "arch_lstm_preds_egarch_h = create_h_step_forecasts(arch_lstm_preds_egarch, h, obs_test)\n",
    "arch_lstm_preds_gjrgarch_h = create_h_step_forecasts(arch_lstm_preds_gjrgarch, h, obs_test)\n",
    "arch_lstm_preds_msgarch_h = create_h_step_forecasts(arch_lstm_preds_msgarch, h, obs_test)"
   ]
  },
  {
   "cell_type": "code",
   "execution_count": 56,
   "id": "a953bfbb",
   "metadata": {},
   "outputs": [
    {
     "name": "stdout",
     "output_type": "stream",
     "text": [
      "MSE: LSTM & hybrid models (24 step ahead)\n"
     ]
    },
    {
     "ename": "ValueError",
     "evalue": "Found input variables with inconsistent numbers of samples: [19992, 20000]",
     "output_type": "error",
     "traceback": [
      "\u001b[0;31m---------------------------------------------------------------------------\u001b[0m",
      "\u001b[0;31mValueError\u001b[0m                                Traceback (most recent call last)",
      "\u001b[0;32m/var/folders/f4/r997w8nx5v5022dy1nxllgk00000gn/T/ipykernel_86405/3851830754.py\u001b[0m in \u001b[0;36m<module>\u001b[0;34m\u001b[0m\n\u001b[1;32m      1\u001b[0m \u001b[0;31m# Error calculations\u001b[0m\u001b[0;34m\u001b[0m\u001b[0;34m\u001b[0m\u001b[0m\n\u001b[1;32m      2\u001b[0m \u001b[0mprint\u001b[0m\u001b[0;34m(\u001b[0m\u001b[0;34m'MSE: LSTM & hybrid models (24 step ahead)'\u001b[0m\u001b[0;34m)\u001b[0m\u001b[0;34m\u001b[0m\u001b[0;34m\u001b[0m\u001b[0m\n\u001b[0;32m----> 3\u001b[0;31m \u001b[0mprint\u001b[0m\u001b[0;34m(\u001b[0m\u001b[0mmse\u001b[0m\u001b[0;34m(\u001b[0m\u001b[0march_lstm_preds_h\u001b[0m\u001b[0;34m,\u001b[0m \u001b[0msim_arch_condvol\u001b[0m\u001b[0;34m[\u001b[0m\u001b[0;34m(\u001b[0m\u001b[0mlen\u001b[0m\u001b[0;34m(\u001b[0m\u001b[0msim_msgarch_condvol\u001b[0m\u001b[0;34m)\u001b[0m \u001b[0;34m-\u001b[0m \u001b[0mobs_test\u001b[0m\u001b[0;34m)\u001b[0m\u001b[0;34m:\u001b[0m\u001b[0mlen\u001b[0m\u001b[0;34m(\u001b[0m\u001b[0msim_msgarch_condvol\u001b[0m\u001b[0;34m)\u001b[0m\u001b[0;34m]\u001b[0m\u001b[0;34m)\u001b[0m\u001b[0;34m)\u001b[0m\u001b[0;34m\u001b[0m\u001b[0;34m\u001b[0m\u001b[0m\n\u001b[0m\u001b[1;32m      4\u001b[0m \u001b[0mprint\u001b[0m\u001b[0;34m(\u001b[0m\u001b[0mmse\u001b[0m\u001b[0;34m(\u001b[0m\u001b[0march_lstm_preds_arch_h\u001b[0m\u001b[0;34m,\u001b[0m \u001b[0msim_arch_condvol\u001b[0m\u001b[0;34m[\u001b[0m\u001b[0;34m(\u001b[0m\u001b[0mlen\u001b[0m\u001b[0;34m(\u001b[0m\u001b[0msim_msgarch_condvol\u001b[0m\u001b[0;34m)\u001b[0m \u001b[0;34m-\u001b[0m \u001b[0mobs_test\u001b[0m\u001b[0;34m)\u001b[0m\u001b[0;34m:\u001b[0m\u001b[0mlen\u001b[0m\u001b[0;34m(\u001b[0m\u001b[0msim_msgarch_condvol\u001b[0m\u001b[0;34m)\u001b[0m\u001b[0;34m]\u001b[0m\u001b[0;34m)\u001b[0m\u001b[0;34m)\u001b[0m\u001b[0;34m\u001b[0m\u001b[0;34m\u001b[0m\u001b[0m\n\u001b[1;32m      5\u001b[0m \u001b[0mprint\u001b[0m\u001b[0;34m(\u001b[0m\u001b[0mmse\u001b[0m\u001b[0;34m(\u001b[0m\u001b[0march_lstm_preds_garch_h\u001b[0m\u001b[0;34m,\u001b[0m \u001b[0msim_arch_condvol\u001b[0m\u001b[0;34m[\u001b[0m\u001b[0;34m(\u001b[0m\u001b[0mlen\u001b[0m\u001b[0;34m(\u001b[0m\u001b[0msim_msgarch_condvol\u001b[0m\u001b[0;34m)\u001b[0m \u001b[0;34m-\u001b[0m \u001b[0mobs_test\u001b[0m\u001b[0;34m)\u001b[0m\u001b[0;34m:\u001b[0m\u001b[0mlen\u001b[0m\u001b[0;34m(\u001b[0m\u001b[0msim_msgarch_condvol\u001b[0m\u001b[0;34m)\u001b[0m\u001b[0;34m]\u001b[0m\u001b[0;34m)\u001b[0m\u001b[0;34m)\u001b[0m\u001b[0;34m\u001b[0m\u001b[0;34m\u001b[0m\u001b[0m\n",
      "\u001b[0;32m~/opt/anaconda3/lib/python3.9/site-packages/sklearn/metrics/_regression.py\u001b[0m in \u001b[0;36mmean_squared_error\u001b[0;34m(y_true, y_pred, sample_weight, multioutput, squared)\u001b[0m\n\u001b[1;32m    436\u001b[0m     \u001b[0;36m0.825\u001b[0m\u001b[0;34m...\u001b[0m\u001b[0;34m\u001b[0m\u001b[0;34m\u001b[0m\u001b[0m\n\u001b[1;32m    437\u001b[0m     \"\"\"\n\u001b[0;32m--> 438\u001b[0;31m     y_type, y_true, y_pred, multioutput = _check_reg_targets(\n\u001b[0m\u001b[1;32m    439\u001b[0m         \u001b[0my_true\u001b[0m\u001b[0;34m,\u001b[0m \u001b[0my_pred\u001b[0m\u001b[0;34m,\u001b[0m \u001b[0mmultioutput\u001b[0m\u001b[0;34m\u001b[0m\u001b[0;34m\u001b[0m\u001b[0m\n\u001b[1;32m    440\u001b[0m     )\n",
      "\u001b[0;32m~/opt/anaconda3/lib/python3.9/site-packages/sklearn/metrics/_regression.py\u001b[0m in \u001b[0;36m_check_reg_targets\u001b[0;34m(y_true, y_pred, multioutput, dtype)\u001b[0m\n\u001b[1;32m     92\u001b[0m         \u001b[0mthe\u001b[0m \u001b[0mdtype\u001b[0m \u001b[0margument\u001b[0m \u001b[0mpassed\u001b[0m \u001b[0mto\u001b[0m \u001b[0mcheck_array\u001b[0m\u001b[0;34m.\u001b[0m\u001b[0;34m\u001b[0m\u001b[0;34m\u001b[0m\u001b[0m\n\u001b[1;32m     93\u001b[0m     \"\"\"\n\u001b[0;32m---> 94\u001b[0;31m     \u001b[0mcheck_consistent_length\u001b[0m\u001b[0;34m(\u001b[0m\u001b[0my_true\u001b[0m\u001b[0;34m,\u001b[0m \u001b[0my_pred\u001b[0m\u001b[0;34m)\u001b[0m\u001b[0;34m\u001b[0m\u001b[0;34m\u001b[0m\u001b[0m\n\u001b[0m\u001b[1;32m     95\u001b[0m     \u001b[0my_true\u001b[0m \u001b[0;34m=\u001b[0m \u001b[0mcheck_array\u001b[0m\u001b[0;34m(\u001b[0m\u001b[0my_true\u001b[0m\u001b[0;34m,\u001b[0m \u001b[0mensure_2d\u001b[0m\u001b[0;34m=\u001b[0m\u001b[0;32mFalse\u001b[0m\u001b[0;34m,\u001b[0m \u001b[0mdtype\u001b[0m\u001b[0;34m=\u001b[0m\u001b[0mdtype\u001b[0m\u001b[0;34m)\u001b[0m\u001b[0;34m\u001b[0m\u001b[0;34m\u001b[0m\u001b[0m\n\u001b[1;32m     96\u001b[0m     \u001b[0my_pred\u001b[0m \u001b[0;34m=\u001b[0m \u001b[0mcheck_array\u001b[0m\u001b[0;34m(\u001b[0m\u001b[0my_pred\u001b[0m\u001b[0;34m,\u001b[0m \u001b[0mensure_2d\u001b[0m\u001b[0;34m=\u001b[0m\u001b[0;32mFalse\u001b[0m\u001b[0;34m,\u001b[0m \u001b[0mdtype\u001b[0m\u001b[0;34m=\u001b[0m\u001b[0mdtype\u001b[0m\u001b[0;34m)\u001b[0m\u001b[0;34m\u001b[0m\u001b[0;34m\u001b[0m\u001b[0m\n",
      "\u001b[0;32m~/opt/anaconda3/lib/python3.9/site-packages/sklearn/utils/validation.py\u001b[0m in \u001b[0;36mcheck_consistent_length\u001b[0;34m(*arrays)\u001b[0m\n\u001b[1;32m    330\u001b[0m     \u001b[0muniques\u001b[0m \u001b[0;34m=\u001b[0m \u001b[0mnp\u001b[0m\u001b[0;34m.\u001b[0m\u001b[0munique\u001b[0m\u001b[0;34m(\u001b[0m\u001b[0mlengths\u001b[0m\u001b[0;34m)\u001b[0m\u001b[0;34m\u001b[0m\u001b[0;34m\u001b[0m\u001b[0m\n\u001b[1;32m    331\u001b[0m     \u001b[0;32mif\u001b[0m \u001b[0mlen\u001b[0m\u001b[0;34m(\u001b[0m\u001b[0muniques\u001b[0m\u001b[0;34m)\u001b[0m \u001b[0;34m>\u001b[0m \u001b[0;36m1\u001b[0m\u001b[0;34m:\u001b[0m\u001b[0;34m\u001b[0m\u001b[0;34m\u001b[0m\u001b[0m\n\u001b[0;32m--> 332\u001b[0;31m         raise ValueError(\n\u001b[0m\u001b[1;32m    333\u001b[0m             \u001b[0;34m\"Found input variables with inconsistent numbers of samples: %r\"\u001b[0m\u001b[0;34m\u001b[0m\u001b[0;34m\u001b[0m\u001b[0m\n\u001b[1;32m    334\u001b[0m             \u001b[0;34m%\u001b[0m \u001b[0;34m[\u001b[0m\u001b[0mint\u001b[0m\u001b[0;34m(\u001b[0m\u001b[0ml\u001b[0m\u001b[0;34m)\u001b[0m \u001b[0;32mfor\u001b[0m \u001b[0ml\u001b[0m \u001b[0;32min\u001b[0m \u001b[0mlengths\u001b[0m\u001b[0;34m]\u001b[0m\u001b[0;34m\u001b[0m\u001b[0;34m\u001b[0m\u001b[0m\n",
      "\u001b[0;31mValueError\u001b[0m: Found input variables with inconsistent numbers of samples: [19992, 20000]"
     ]
    }
   ],
   "source": [
    "# Error calculations\n",
    "print('MSE: LSTM & hybrid models (24 step ahead)')\n",
    "print(mse(arch_lstm_preds_h, sim_arch_condvol[(len(sim_msgarch_condvol) - obs_test):(len(sim_msgarch_condvol)-8)]))\n",
    "print(mse(arch_lstm_preds_arch_h, sim_arch_condvol[(len(sim_msgarch_condvol) - obs_test):(len(sim_msgarch_condvol)-8)]))\n",
    "print(mse(arch_lstm_preds_garch_h, sim_arch_condvol[(len(sim_msgarch_condvol) - obs_test):(len(sim_msgarch_condvol)-8)]))\n",
    "print(mse(arch_lstm_preds_egarch_h, sim_arch_condvol[(len(sim_msgarch_condvol) - obs_test):(len(sim_msgarch_condvol)-8)]))\n",
    "print(mse(arch_lstm_preds_gjrgarch_h, sim_arch_condvol[(len(sim_msgarch_condvol) - obs_test):(len(sim_msgarch_condvol)-8)]))\n",
    "print(mse(arch_lstm_preds_msgarch_h, sim_arch_condvol[(len(sim_msgarch_condvol) - obs_test):(len(sim_msgarch_condvol)-8)]))\n",
    "\n",
    "# Error calculations\n",
    "print('MAE: LSTM & hybrid models (24 step ahead)')\n",
    "print(mae(arch_lstm_preds_h, sim_arch_condvol[(len(sim_msgarch_condvol) - obs_test):(len(sim_msgarch_condvol)-8)]))\n",
    "print(mae(arch_lstm_preds_arch_h, sim_arch_condvol[(len(sim_msgarch_condvol) - obs_test):(len(sim_msgarch_condvol)-8)]))\n",
    "print(mae(arch_lstm_preds_garch_h, sim_arch_condvol[(len(sim_msgarch_condvol) - obs_test):(len(sim_msgarch_condvol)-8)]))\n",
    "print(mae(arch_lstm_preds_egarch_h, sim_arch_condvol[(len(sim_msgarch_condvol) - obs_test):(len(sim_msgarch_condvol)-8)]))\n",
    "print(mae(arch_lstm_preds_gjrgarch_h, sim_arch_condvol[(len(sim_msgarch_condvol) - obs_test):(len(sim_msgarch_condvol)-8)]))\n",
    "print(mae(arch_lstm_preds_msgarch_h, sim_arch_condvol[(len(sim_msgarch_condvol) - obs_test):(len(sim_msgarch_condvol)-8)]))\n",
    "\n",
    "# Realized variance errors\n",
    "print('MSE & MAE: realized volatility forecasts (24 step ahead)')\n",
    "print(mse(rv_arch[(len(rv_garch)-obs_test-24):(len(rv_garch)-24)],sim_arch_condvol[(len(sim_msgarch_condvol)-obs_test):len(sim_msgarch_condvol)]))\n",
    "print(mae(rv_arch[(len(rv_garch)-obs_test-24):(len(rv_garch)-24)],sim_arch_condvol[(len(sim_msgarch_condvol)-obs_test):len(sim_msgarch_condvol)]))"
   ]
  },
  {
   "cell_type": "markdown",
   "id": "d483448e",
   "metadata": {},
   "source": [
    "## 4.2 GARCH data"
   ]
  },
  {
   "cell_type": "code",
   "execution_count": 28,
   "id": "e8f5de6d",
   "metadata": {},
   "outputs": [],
   "source": [
    "scaled_rv_garch = scaled_data(rv_garch)\n",
    "scaled_filt_arch = scaled_data(garch_filt_arch.to_numpy())\n",
    "scaled_filt_garch = scaled_data(garch_filt_garch.to_numpy())\n",
    "scaled_filt_egarch = scaled_data(garch_filt_egarch.to_numpy())\n",
    "scaled_filt_gjrgarch = scaled_data(garch_filt_gjrgarch.to_numpy())\n",
    "scaled_filt_msgarch = scaled_data(garch_filt_msgarch.to_numpy())"
   ]
  },
  {
   "cell_type": "code",
   "execution_count": 29,
   "id": "3be5d9ea",
   "metadata": {},
   "outputs": [],
   "source": [
    "scaled_rv_garch = scaled_rv_garch.flatten()\n",
    "scaled_filt_arch = scaled_filt_arch.flatten()\n",
    "scaled_filt_garch = scaled_filt_garch.flatten()\n",
    "scaled_filt_egarch = scaled_filt_egarch.flatten()\n",
    "scaled_filt_gjrgarch = scaled_filt_gjrgarch.flatten()\n",
    "scaled_filt_msgarch = scaled_filt_msgarch.flatten()"
   ]
  },
  {
   "cell_type": "markdown",
   "id": "0b8f8fcd",
   "metadata": {},
   "source": [
    "## 4.2.1 GARCH sequence: 1-step ahead forecasting"
   ]
  },
  {
   "cell_type": "code",
   "execution_count": 30,
   "id": "2e786038",
   "metadata": {},
   "outputs": [],
   "source": [
    "obs_test = 20000\n",
    "start = 10000\n",
    "d = 50\n",
    "epochs = 75\n",
    "units = 100\n",
    "nodes = 150\n",
    "verbose = 0\n",
    "LR = 0.0001\n",
    "activation_lstm = 'tanh'\n",
    "shift = 25"
   ]
  },
  {
   "cell_type": "code",
   "execution_count": 31,
   "id": "1df5bade",
   "metadata": {},
   "outputs": [],
   "source": [
    "h = 1"
   ]
  },
  {
   "cell_type": "code",
   "execution_count": 32,
   "id": "4f3ecf21",
   "metadata": {},
   "outputs": [
    {
     "name": "stdout",
     "output_type": "stream",
     "text": [
      "313/313 [==============================] - 4s 13ms/step\n",
      "313/313 [==============================] - 4s 13ms/step\n",
      "313/313 [==============================] - 5s 13ms/step\n",
      "313/313 [==============================] - 4s 13ms/step\n",
      "313/313 [==============================] - 4s 13ms/step\n",
      "313/313 [==============================] - 5s 14ms/step\n",
      "313/313 [==============================] - 6s 16ms/step\n",
      "313/313 [==============================] - 5s 16ms/step\n",
      "313/313 [==============================] - 7s 20ms/step\n",
      "313/313 [==============================] - 9s 28ms/step\n",
      "313/313 [==============================] - 5s 16ms/step\n",
      "313/313 [==============================] - 6s 18ms/step\n"
     ]
    }
   ],
   "source": [
    "garch_lstm_preds = univariate_lstm_preds_shift(scaled_rv_garch, obs_test, d, h, epochs, units, nodes, verbose, LR, activation_lstm, rv_garch, shift)\n",
    "garch_lstm_preds_arch = generate_2_forecasts_hybrid_shift(scaled_rv_garch, scaled_filt_arch[49:], obs_test, start, d, epochs, units, nodes, LR, activation_lstm, rv_garch, h, shift)\n",
    "garch_lstm_preds_garch = generate_2_forecasts_hybrid_shift(scaled_rv_garch, scaled_filt_garch[49:], obs_test, start, d, epochs, units, nodes, LR, activation_lstm, rv_garch, h, shift)\n",
    "garch_lstm_preds_egarch = generate_2_forecasts_hybrid_shift(scaled_rv_garch, scaled_filt_egarch[49:], obs_test, start, d, epochs, units, nodes, LR, activation_lstm, rv_garch, h, shift)\n",
    "garch_lstm_preds_gjrgarch = generate_2_forecasts_hybrid_shift(scaled_rv_garch, scaled_filt_gjrgarch[49:], obs_test, start, d, epochs, units, nodes, LR, activation_lstm, rv_garch, h, shift)\n",
    "garch_lstm_preds_msgarch = generate_2_forecasts_hybrid_shift(scaled_rv_garch, scaled_filt_msgarch[49:], obs_test, start, d, epochs, units, nodes, LR, activation_lstm, rv_garch, h, shift)"
   ]
  },
  {
   "cell_type": "code",
   "execution_count": 33,
   "id": "7d8ccde3",
   "metadata": {},
   "outputs": [
    {
     "name": "stdout",
     "output_type": "stream",
     "text": [
      "MSE: LSTM & hybrid models (1 step ahead)\n",
      "0.00019205947525916534\n",
      "0.00021014988855959675\n",
      "0.00019560534452855925\n",
      "0.00019681913165983295\n",
      "0.00018646709694609558\n",
      "0.00018797397038312395\n",
      "MAE: LSTM & hybrid models (1 step ahead)\n",
      "0.008884041020233916\n",
      "0.009959655535865133\n",
      "0.009402962981749788\n",
      "0.008846167668665937\n",
      "0.008586938222599571\n",
      "0.008894320514563852\n",
      "MSE & MAE: realized volatility forecasts (1 step ahead)\n",
      "0.00020869793429565168\n",
      "0.009259902988863401\n"
     ]
    }
   ],
   "source": [
    "# Error calculations\n",
    "print('MSE: LSTM & hybrid models (1 step ahead)')\n",
    "print(mse(garch_lstm_preds, sim_garch_condvol[(len(sim_msgarch_condvol) - obs_test):len(sim_msgarch_condvol)]))\n",
    "print(mse(garch_lstm_preds_arch, sim_garch_condvol[(len(sim_msgarch_condvol) - obs_test):len(sim_msgarch_condvol)]))\n",
    "print(mse(garch_lstm_preds_garch, sim_garch_condvol[(len(sim_msgarch_condvol) - obs_test):len(sim_msgarch_condvol)]))\n",
    "print(mse(garch_lstm_preds_egarch, sim_garch_condvol[(len(sim_msgarch_condvol) - obs_test):len(sim_msgarch_condvol)]))\n",
    "print(mse(garch_lstm_preds_gjrgarch, sim_garch_condvol[(len(sim_msgarch_condvol) - obs_test):len(sim_msgarch_condvol)]))\n",
    "print(mse(garch_lstm_preds_msgarch, sim_garch_condvol[(len(sim_msgarch_condvol) - obs_test):len(sim_msgarch_condvol)]))\n",
    "\n",
    "# Error calculations\n",
    "print('MAE: LSTM & hybrid models (1 step ahead)')\n",
    "print(mae(garch_lstm_preds, sim_garch_condvol[(len(sim_msgarch_condvol) - obs_test):len(sim_msgarch_condvol)]))\n",
    "print(mae(garch_lstm_preds_arch, sim_garch_condvol[(len(sim_msgarch_condvol) - obs_test):len(sim_msgarch_condvol)]))\n",
    "print(mae(garch_lstm_preds_garch, sim_garch_condvol[(len(sim_msgarch_condvol) - obs_test):len(sim_msgarch_condvol)]))\n",
    "print(mae(garch_lstm_preds_egarch, sim_garch_condvol[(len(sim_msgarch_condvol) - obs_test):len(sim_msgarch_condvol)]))\n",
    "print(mae(garch_lstm_preds_gjrgarch, sim_garch_condvol[(len(sim_msgarch_condvol) - obs_test):len(sim_msgarch_condvol)]))\n",
    "print(mae(garch_lstm_preds_msgarch, sim_garch_condvol[(len(sim_msgarch_condvol) - obs_test):len(sim_msgarch_condvol)]))\n",
    "\n",
    "# Realized variance errors\n",
    "print('MSE & MAE: realized volatility forecasts (1 step ahead)')\n",
    "print(mse(rv_garch[(len(rv_garch)-obs_test-1):(len(rv_garch)-1)],sim_garch_condvol[(len(sim_msgarch_condvol)-obs_test):len(sim_msgarch_condvol)]))\n",
    "print(mae(rv_garch[(len(rv_garch)-obs_test-1):(len(rv_garch)-1)],sim_garch_condvol[(len(sim_msgarch_condvol)-obs_test):len(sim_msgarch_condvol)]))"
   ]
  },
  {
   "cell_type": "markdown",
   "id": "5b766efa",
   "metadata": {},
   "source": [
    "## 4.2.2 GARCH sequence: 12-step ahead forecasting"
   ]
  },
  {
   "cell_type": "code",
   "execution_count": 57,
   "id": "90962182",
   "metadata": {},
   "outputs": [],
   "source": [
    "obs_test = 20000\n",
    "start = 10000\n",
    "d = 50\n",
    "epochs = 75\n",
    "units = 100\n",
    "nodes = 150\n",
    "verbose = 0\n",
    "LR = 0.0001\n",
    "activation_lstm = 'tanh'\n",
    "shift = 25"
   ]
  },
  {
   "cell_type": "code",
   "execution_count": 58,
   "id": "7c44dce8",
   "metadata": {},
   "outputs": [],
   "source": [
    "h = 12"
   ]
  },
  {
   "cell_type": "code",
   "execution_count": 59,
   "id": "3204b166",
   "metadata": {},
   "outputs": [
    {
     "name": "stdout",
     "output_type": "stream",
     "text": [
      "313/313 [==============================] - 4s 13ms/step\n",
      "313/313 [==============================] - 4s 13ms/step\n",
      "313/313 [==============================] - 6s 18ms/step\n",
      "313/313 [==============================] - 6s 17ms/step\n",
      "313/313 [==============================] - 5s 14ms/step\n",
      "313/313 [==============================] - 4s 13ms/step\n",
      "313/313 [==============================] - 4s 13ms/step\n",
      "313/313 [==============================] - 5s 14ms/step\n",
      "313/313 [==============================] - 4s 13ms/step\n",
      "313/313 [==============================] - 4s 13ms/step\n",
      "313/313 [==============================] - 5s 14ms/step\n",
      "313/313 [==============================] - 4s 13ms/step\n"
     ]
    }
   ],
   "source": [
    "# Calculating prediction matrices\n",
    "garch_lstm_preds = univariate_lstm_preds_shift(scaled_rv_garch, obs_test, d, h, epochs, units, nodes, verbose, LR, activation_lstm, rv_garch, shift)\n",
    "garch_lstm_preds_arch = generate_2_forecasts_hybrid_shift(scaled_rv_garch, scaled_filt_arch[49:], obs_test, start, d, epochs, units, nodes, LR, activation_lstm, rv_garch, h, shift)\n",
    "garch_lstm_preds_garch = generate_2_forecasts_hybrid_shift(scaled_rv_garch, scaled_filt_garch[49:], obs_test, start, d, epochs, units, nodes, LR, activation_lstm, rv_garch, h, shift)\n",
    "garch_lstm_preds_egarch = generate_2_forecasts_hybrid_shift(scaled_rv_garch, scaled_filt_egarch[49:], obs_test, start, d, epochs, units, nodes, LR, activation_lstm, rv_garch, h, shift)\n",
    "garch_lstm_preds_gjrgarch = generate_2_forecasts_hybrid_shift(scaled_rv_garch, scaled_filt_gjrgarch[49:], obs_test, start, d, epochs, units, nodes, LR, activation_lstm, rv_garch, h, shift)\n",
    "garch_lstm_preds_msgarch = generate_2_forecasts_hybrid_shift(scaled_rv_garch, scaled_filt_msgarch[49:], obs_test, start, d, epochs, units, nodes, LR, activation_lstm, rv_garch, h, shift)\n",
    "\n",
    "# Retrieving every h-th sequence, for h-th step ahead prediction evaluation\n",
    "garch_lstm_preds_h = create_h_step_forecasts(garch_lstm_preds, h, obs_test)\n",
    "garch_lstm_preds_arch_h = create_h_step_forecasts(garch_lstm_preds_arch, h, obs_test)\n",
    "garch_lstm_preds_garch_h = create_h_step_forecasts(garch_lstm_preds_garch, h, obs_test)\n",
    "garch_lstm_preds_egarch_h = create_h_step_forecasts(garch_lstm_preds_egarch, h, obs_test)\n",
    "garch_lstm_preds_gjrgarch_h = create_h_step_forecasts(garch_lstm_preds_gjrgarch, h, obs_test)\n",
    "garch_lstm_preds_msgarch_h = create_h_step_forecasts(garch_lstm_preds_msgarch, h, obs_test)"
   ]
  },
  {
   "cell_type": "code",
   "execution_count": 60,
   "id": "9d4f22be",
   "metadata": {},
   "outputs": [
    {
     "name": "stdout",
     "output_type": "stream",
     "text": [
      "MSE: LSTM & hybrid models (12-step ahead)\n"
     ]
    },
    {
     "ename": "ValueError",
     "evalue": "Found input variables with inconsistent numbers of samples: [20004, 20000]",
     "output_type": "error",
     "traceback": [
      "\u001b[0;31m---------------------------------------------------------------------------\u001b[0m",
      "\u001b[0;31mValueError\u001b[0m                                Traceback (most recent call last)",
      "\u001b[0;32m/var/folders/f4/r997w8nx5v5022dy1nxllgk00000gn/T/ipykernel_86405/1216025147.py\u001b[0m in \u001b[0;36m<module>\u001b[0;34m\u001b[0m\n\u001b[1;32m      1\u001b[0m \u001b[0;31m# Error calculations\u001b[0m\u001b[0;34m\u001b[0m\u001b[0;34m\u001b[0m\u001b[0m\n\u001b[1;32m      2\u001b[0m \u001b[0mprint\u001b[0m\u001b[0;34m(\u001b[0m\u001b[0;34m'MSE: LSTM & hybrid models (12-step ahead)'\u001b[0m\u001b[0;34m)\u001b[0m\u001b[0;34m\u001b[0m\u001b[0;34m\u001b[0m\u001b[0m\n\u001b[0;32m----> 3\u001b[0;31m \u001b[0mprint\u001b[0m\u001b[0;34m(\u001b[0m\u001b[0mmse\u001b[0m\u001b[0;34m(\u001b[0m\u001b[0mgarch_lstm_preds_h\u001b[0m\u001b[0;34m,\u001b[0m \u001b[0msim_garch_condvol\u001b[0m\u001b[0;34m[\u001b[0m\u001b[0;34m(\u001b[0m\u001b[0mlen\u001b[0m\u001b[0;34m(\u001b[0m\u001b[0msim_msgarch_condvol\u001b[0m\u001b[0;34m)\u001b[0m \u001b[0;34m-\u001b[0m \u001b[0mobs_test\u001b[0m\u001b[0;34m)\u001b[0m\u001b[0;34m:\u001b[0m\u001b[0mlen\u001b[0m\u001b[0;34m(\u001b[0m\u001b[0msim_msgarch_condvol\u001b[0m\u001b[0;34m)\u001b[0m\u001b[0;34m]\u001b[0m\u001b[0;34m)\u001b[0m\u001b[0;34m)\u001b[0m\u001b[0;34m\u001b[0m\u001b[0;34m\u001b[0m\u001b[0m\n\u001b[0m\u001b[1;32m      4\u001b[0m \u001b[0mprint\u001b[0m\u001b[0;34m(\u001b[0m\u001b[0mmse\u001b[0m\u001b[0;34m(\u001b[0m\u001b[0mgarch_lstm_preds_arch_h\u001b[0m\u001b[0;34m,\u001b[0m \u001b[0msim_garch_condvol\u001b[0m\u001b[0;34m[\u001b[0m\u001b[0;34m(\u001b[0m\u001b[0mlen\u001b[0m\u001b[0;34m(\u001b[0m\u001b[0msim_msgarch_condvol\u001b[0m\u001b[0;34m)\u001b[0m \u001b[0;34m-\u001b[0m \u001b[0mobs_test\u001b[0m\u001b[0;34m)\u001b[0m\u001b[0;34m:\u001b[0m\u001b[0mlen\u001b[0m\u001b[0;34m(\u001b[0m\u001b[0msim_msgarch_condvol\u001b[0m\u001b[0;34m)\u001b[0m\u001b[0;34m]\u001b[0m\u001b[0;34m)\u001b[0m\u001b[0;34m)\u001b[0m\u001b[0;34m\u001b[0m\u001b[0;34m\u001b[0m\u001b[0m\n\u001b[1;32m      5\u001b[0m \u001b[0mprint\u001b[0m\u001b[0;34m(\u001b[0m\u001b[0mmse\u001b[0m\u001b[0;34m(\u001b[0m\u001b[0mgarch_lstm_preds_garch_h\u001b[0m\u001b[0;34m,\u001b[0m \u001b[0msim_garch_condvol\u001b[0m\u001b[0;34m[\u001b[0m\u001b[0;34m(\u001b[0m\u001b[0mlen\u001b[0m\u001b[0;34m(\u001b[0m\u001b[0msim_msgarch_condvol\u001b[0m\u001b[0;34m)\u001b[0m \u001b[0;34m-\u001b[0m \u001b[0mobs_test\u001b[0m\u001b[0;34m)\u001b[0m\u001b[0;34m:\u001b[0m\u001b[0mlen\u001b[0m\u001b[0;34m(\u001b[0m\u001b[0msim_msgarch_condvol\u001b[0m\u001b[0;34m)\u001b[0m\u001b[0;34m]\u001b[0m\u001b[0;34m)\u001b[0m\u001b[0;34m)\u001b[0m\u001b[0;34m\u001b[0m\u001b[0;34m\u001b[0m\u001b[0m\n",
      "\u001b[0;32m~/opt/anaconda3/lib/python3.9/site-packages/sklearn/metrics/_regression.py\u001b[0m in \u001b[0;36mmean_squared_error\u001b[0;34m(y_true, y_pred, sample_weight, multioutput, squared)\u001b[0m\n\u001b[1;32m    436\u001b[0m     \u001b[0;36m0.825\u001b[0m\u001b[0;34m...\u001b[0m\u001b[0;34m\u001b[0m\u001b[0;34m\u001b[0m\u001b[0m\n\u001b[1;32m    437\u001b[0m     \"\"\"\n\u001b[0;32m--> 438\u001b[0;31m     y_type, y_true, y_pred, multioutput = _check_reg_targets(\n\u001b[0m\u001b[1;32m    439\u001b[0m         \u001b[0my_true\u001b[0m\u001b[0;34m,\u001b[0m \u001b[0my_pred\u001b[0m\u001b[0;34m,\u001b[0m \u001b[0mmultioutput\u001b[0m\u001b[0;34m\u001b[0m\u001b[0;34m\u001b[0m\u001b[0m\n\u001b[1;32m    440\u001b[0m     )\n",
      "\u001b[0;32m~/opt/anaconda3/lib/python3.9/site-packages/sklearn/metrics/_regression.py\u001b[0m in \u001b[0;36m_check_reg_targets\u001b[0;34m(y_true, y_pred, multioutput, dtype)\u001b[0m\n\u001b[1;32m     92\u001b[0m         \u001b[0mthe\u001b[0m \u001b[0mdtype\u001b[0m \u001b[0margument\u001b[0m \u001b[0mpassed\u001b[0m \u001b[0mto\u001b[0m \u001b[0mcheck_array\u001b[0m\u001b[0;34m.\u001b[0m\u001b[0;34m\u001b[0m\u001b[0;34m\u001b[0m\u001b[0m\n\u001b[1;32m     93\u001b[0m     \"\"\"\n\u001b[0;32m---> 94\u001b[0;31m     \u001b[0mcheck_consistent_length\u001b[0m\u001b[0;34m(\u001b[0m\u001b[0my_true\u001b[0m\u001b[0;34m,\u001b[0m \u001b[0my_pred\u001b[0m\u001b[0;34m)\u001b[0m\u001b[0;34m\u001b[0m\u001b[0;34m\u001b[0m\u001b[0m\n\u001b[0m\u001b[1;32m     95\u001b[0m     \u001b[0my_true\u001b[0m \u001b[0;34m=\u001b[0m \u001b[0mcheck_array\u001b[0m\u001b[0;34m(\u001b[0m\u001b[0my_true\u001b[0m\u001b[0;34m,\u001b[0m \u001b[0mensure_2d\u001b[0m\u001b[0;34m=\u001b[0m\u001b[0;32mFalse\u001b[0m\u001b[0;34m,\u001b[0m \u001b[0mdtype\u001b[0m\u001b[0;34m=\u001b[0m\u001b[0mdtype\u001b[0m\u001b[0;34m)\u001b[0m\u001b[0;34m\u001b[0m\u001b[0;34m\u001b[0m\u001b[0m\n\u001b[1;32m     96\u001b[0m     \u001b[0my_pred\u001b[0m \u001b[0;34m=\u001b[0m \u001b[0mcheck_array\u001b[0m\u001b[0;34m(\u001b[0m\u001b[0my_pred\u001b[0m\u001b[0;34m,\u001b[0m \u001b[0mensure_2d\u001b[0m\u001b[0;34m=\u001b[0m\u001b[0;32mFalse\u001b[0m\u001b[0;34m,\u001b[0m \u001b[0mdtype\u001b[0m\u001b[0;34m=\u001b[0m\u001b[0mdtype\u001b[0m\u001b[0;34m)\u001b[0m\u001b[0;34m\u001b[0m\u001b[0;34m\u001b[0m\u001b[0m\n",
      "\u001b[0;32m~/opt/anaconda3/lib/python3.9/site-packages/sklearn/utils/validation.py\u001b[0m in \u001b[0;36mcheck_consistent_length\u001b[0;34m(*arrays)\u001b[0m\n\u001b[1;32m    330\u001b[0m     \u001b[0muniques\u001b[0m \u001b[0;34m=\u001b[0m \u001b[0mnp\u001b[0m\u001b[0;34m.\u001b[0m\u001b[0munique\u001b[0m\u001b[0;34m(\u001b[0m\u001b[0mlengths\u001b[0m\u001b[0;34m)\u001b[0m\u001b[0;34m\u001b[0m\u001b[0;34m\u001b[0m\u001b[0m\n\u001b[1;32m    331\u001b[0m     \u001b[0;32mif\u001b[0m \u001b[0mlen\u001b[0m\u001b[0;34m(\u001b[0m\u001b[0muniques\u001b[0m\u001b[0;34m)\u001b[0m \u001b[0;34m>\u001b[0m \u001b[0;36m1\u001b[0m\u001b[0;34m:\u001b[0m\u001b[0;34m\u001b[0m\u001b[0;34m\u001b[0m\u001b[0m\n\u001b[0;32m--> 332\u001b[0;31m         raise ValueError(\n\u001b[0m\u001b[1;32m    333\u001b[0m             \u001b[0;34m\"Found input variables with inconsistent numbers of samples: %r\"\u001b[0m\u001b[0;34m\u001b[0m\u001b[0;34m\u001b[0m\u001b[0m\n\u001b[1;32m    334\u001b[0m             \u001b[0;34m%\u001b[0m \u001b[0;34m[\u001b[0m\u001b[0mint\u001b[0m\u001b[0;34m(\u001b[0m\u001b[0ml\u001b[0m\u001b[0;34m)\u001b[0m \u001b[0;32mfor\u001b[0m \u001b[0ml\u001b[0m \u001b[0;32min\u001b[0m \u001b[0mlengths\u001b[0m\u001b[0;34m]\u001b[0m\u001b[0;34m\u001b[0m\u001b[0;34m\u001b[0m\u001b[0m\n",
      "\u001b[0;31mValueError\u001b[0m: Found input variables with inconsistent numbers of samples: [20004, 20000]"
     ]
    }
   ],
   "source": [
    "# Error calculations\n",
    "print('MSE: LSTM & hybrid models (12-step ahead)')\n",
    "print(mse(garch_lstm_preds_h[:-4], sim_garch_condvol[(len(sim_msgarch_condvol) - obs_test):len(sim_msgarch_condvol)]))\n",
    "print(mse(garch_lstm_preds_arch_h[:-4], sim_garch_condvol[(len(sim_msgarch_condvol) - obs_test):len(sim_msgarch_condvol)]))\n",
    "print(mse(garch_lstm_preds_garch_h[:-4], sim_garch_condvol[(len(sim_msgarch_condvol) - obs_test):len(sim_msgarch_condvol)]))\n",
    "print(mse(garch_lstm_preds_egarch_h[:-4], sim_garch_condvol[(len(sim_msgarch_condvol) - obs_test):len(sim_msgarch_condvol)]))\n",
    "print(mse(garch_lstm_preds_gjrgarch_h[:-4], sim_garch_condvol[(len(sim_msgarch_condvol) - obs_test):len(sim_msgarch_condvol)]))\n",
    "print(mse(garch_lstm_preds_msgarch_h[:-4], sim_garch_condvol[(len(sim_msgarch_condvol) - obs_test):len(sim_msgarch_condvol)]))\n",
    "\n",
    "# Error calculations\n",
    "print('MAE: LSTM & hybrid models (12-step ahead)')\n",
    "print(mae(garch_lstm_preds_h[:-4], sim_garch_condvol[(len(sim_msgarch_condvol) - obs_test):len(sim_msgarch_condvol)]))\n",
    "print(mae(garch_lstm_preds_arch_h[:-4], sim_garch_condvol[(len(sim_msgarch_condvol) - obs_test):len(sim_msgarch_condvol)]))\n",
    "print(mae(garch_lstm_preds_garch_h[:-4], sim_garch_condvol[(len(sim_msgarch_condvol) - obs_test):len(sim_msgarch_condvol)]))\n",
    "print(mae(garch_lstm_preds_egarch_h[:-4], sim_garch_condvol[(len(sim_msgarch_condvol) - obs_test):len(sim_msgarch_condvol)]))\n",
    "print(mae(garch_lstm_preds_gjrgarch_h[:-4], sim_garch_condvol[(len(sim_msgarch_condvol) - obs_test):len(sim_msgarch_condvol)]))\n",
    "print(mae(garch_lstm_preds_msgarch_h[:-4], sim_garch_condvol[(len(sim_msgarch_condvol) - obs_test):len(sim_msgarch_condvol)]))\n",
    "\n",
    "# Realized variance errors\n",
    "print('MSE & MAE: realized volatility forecasts (12-step ahead)')\n",
    "print(mse(rv_garch[(len(rv_garch)-obs_test-12):(len(rv_garch)-1)],sim_garch_condvol[(len(sim_msgarch_condvol)-obs_test):len(sim_msgarch_condvol)]))\n",
    "print(mae(rv_garch[(len(rv_garch)-obs_test-12):(len(rv_garch)-1)],sim_garch_condvol[(len(sim_msgarch_condvol)-obs_test):len(sim_msgarch_condvol)]))"
   ]
  },
  {
   "cell_type": "markdown",
   "id": "54e28bfb",
   "metadata": {},
   "source": [
    "## 4.2.3 GARCH sequence: 24-step ahead forecasting"
   ]
  },
  {
   "cell_type": "code",
   "execution_count": 61,
   "id": "e49c5725",
   "metadata": {},
   "outputs": [],
   "source": [
    "obs_test = 20000\n",
    "start = 10000\n",
    "d = 50\n",
    "epochs = 75\n",
    "units = 100\n",
    "nodes = 150\n",
    "verbose = 0\n",
    "LR = 0.0001\n",
    "activation_lstm = 'tanh'\n",
    "shift = 25"
   ]
  },
  {
   "cell_type": "code",
   "execution_count": 62,
   "id": "d3c0afcc",
   "metadata": {},
   "outputs": [],
   "source": [
    "h = 24"
   ]
  },
  {
   "cell_type": "code",
   "execution_count": 63,
   "id": "6fb919a0",
   "metadata": {},
   "outputs": [
    {
     "name": "stdout",
     "output_type": "stream",
     "text": [
      "313/313 [==============================] - 4s 13ms/step\n",
      "313/313 [==============================] - 4s 13ms/step\n",
      "313/313 [==============================] - 4s 13ms/step\n",
      "313/313 [==============================] - 4s 13ms/step\n",
      "313/313 [==============================] - 5s 13ms/step\n",
      "313/313 [==============================] - 4s 13ms/step\n",
      "313/313 [==============================] - 6s 18ms/step\n",
      "313/313 [==============================] - 6s 17ms/step\n",
      "313/313 [==============================] - 5s 14ms/step\n",
      "313/313 [==============================] - 5s 14ms/step\n",
      "313/313 [==============================] - 8s 21ms/step\n",
      "313/313 [==============================] - 7s 22ms/step\n"
     ]
    }
   ],
   "source": [
    "# Calculating prediction matrices\n",
    "garch_lstm_preds = univariate_lstm_preds_shift(scaled_rv_garch, obs_test, d, h, epochs, units, nodes, verbose, LR, activation_lstm, rv_garch, shift)\n",
    "garch_lstm_preds_arch = generate_2_forecasts_hybrid_shift(scaled_rv_garch, scaled_filt_arch[49:], obs_test, start, d, epochs, units, nodes, LR, activation_lstm, rv_garch, h, shift)\n",
    "garch_lstm_preds_garch = generate_2_forecasts_hybrid_shift(scaled_rv_garch, scaled_filt_garch[49:], obs_test, start, d, epochs, units, nodes, LR, activation_lstm, rv_garch, h, shift)\n",
    "garch_lstm_preds_egarch = generate_2_forecasts_hybrid_shift(scaled_rv_garch, scaled_filt_egarch[49:], obs_test, start, d, epochs, units, nodes, LR, activation_lstm, rv_garch, h, shift)\n",
    "garch_lstm_preds_gjrgarch = generate_2_forecasts_hybrid_shift(scaled_rv_garch, scaled_filt_gjrgarch[49:], obs_test, start, d, epochs, units, nodes, LR, activation_lstm, rv_garch, h, shift)\n",
    "garch_lstm_preds_msgarch = generate_2_forecasts_hybrid_shift(scaled_rv_garch, scaled_filt_msgarch[49:], obs_test, start, d, epochs, units, nodes, LR, activation_lstm, rv_garch, h, shift)\n",
    "\n",
    "# Retrieving every h-th sequence, for h-th step ahead prediction evaluation\n",
    "garch_lstm_preds_h = create_h_step_forecasts(garch_lstm_preds, h, obs_test)\n",
    "garch_lstm_preds_arch_h = create_h_step_forecasts(garch_lstm_preds_arch, h, obs_test)\n",
    "garch_lstm_preds_garch_h = create_h_step_forecasts(garch_lstm_preds_garch, h, obs_test)\n",
    "garch_lstm_preds_egarch_h = create_h_step_forecasts(garch_lstm_preds_egarch, h, obs_test)\n",
    "garch_lstm_preds_gjrgarch_h = create_h_step_forecasts(garch_lstm_preds_gjrgarch, h, obs_test)\n",
    "garch_lstm_preds_msgarch_h = create_h_step_forecasts(garch_lstm_preds_msgarch, h, obs_test)"
   ]
  },
  {
   "cell_type": "code",
   "execution_count": 64,
   "id": "b07032fd",
   "metadata": {},
   "outputs": [
    {
     "name": "stdout",
     "output_type": "stream",
     "text": [
      "MSE: LSTM & hybrid models (24 step ahead)\n"
     ]
    },
    {
     "ename": "ValueError",
     "evalue": "Found input variables with inconsistent numbers of samples: [19992, 20000]",
     "output_type": "error",
     "traceback": [
      "\u001b[0;31m---------------------------------------------------------------------------\u001b[0m",
      "\u001b[0;31mValueError\u001b[0m                                Traceback (most recent call last)",
      "\u001b[0;32m/var/folders/f4/r997w8nx5v5022dy1nxllgk00000gn/T/ipykernel_86405/2924317489.py\u001b[0m in \u001b[0;36m<module>\u001b[0;34m\u001b[0m\n\u001b[1;32m      1\u001b[0m \u001b[0;31m# Error calculations\u001b[0m\u001b[0;34m\u001b[0m\u001b[0;34m\u001b[0m\u001b[0m\n\u001b[1;32m      2\u001b[0m \u001b[0mprint\u001b[0m\u001b[0;34m(\u001b[0m\u001b[0;34m'MSE: LSTM & hybrid models (24 step ahead)'\u001b[0m\u001b[0;34m)\u001b[0m\u001b[0;34m\u001b[0m\u001b[0;34m\u001b[0m\u001b[0m\n\u001b[0;32m----> 3\u001b[0;31m \u001b[0mprint\u001b[0m\u001b[0;34m(\u001b[0m\u001b[0mmse\u001b[0m\u001b[0;34m(\u001b[0m\u001b[0mgarch_lstm_preds_h\u001b[0m\u001b[0;34m,\u001b[0m \u001b[0msim_garch_condvol\u001b[0m\u001b[0;34m[\u001b[0m\u001b[0;34m(\u001b[0m\u001b[0mlen\u001b[0m\u001b[0;34m(\u001b[0m\u001b[0msim_msgarch_condvol\u001b[0m\u001b[0;34m)\u001b[0m \u001b[0;34m-\u001b[0m \u001b[0mobs_test\u001b[0m\u001b[0;34m)\u001b[0m\u001b[0;34m:\u001b[0m\u001b[0mlen\u001b[0m\u001b[0;34m(\u001b[0m\u001b[0msim_msgarch_condvol\u001b[0m\u001b[0;34m)\u001b[0m\u001b[0;34m]\u001b[0m\u001b[0;34m)\u001b[0m\u001b[0;34m)\u001b[0m\u001b[0;34m\u001b[0m\u001b[0;34m\u001b[0m\u001b[0m\n\u001b[0m\u001b[1;32m      4\u001b[0m \u001b[0mprint\u001b[0m\u001b[0;34m(\u001b[0m\u001b[0mmse\u001b[0m\u001b[0;34m(\u001b[0m\u001b[0mgarch_lstm_preds_arch_h\u001b[0m\u001b[0;34m,\u001b[0m \u001b[0msim_garch_condvol\u001b[0m\u001b[0;34m[\u001b[0m\u001b[0;34m(\u001b[0m\u001b[0mlen\u001b[0m\u001b[0;34m(\u001b[0m\u001b[0msim_msgarch_condvol\u001b[0m\u001b[0;34m)\u001b[0m \u001b[0;34m-\u001b[0m \u001b[0mobs_test\u001b[0m\u001b[0;34m)\u001b[0m\u001b[0;34m:\u001b[0m\u001b[0mlen\u001b[0m\u001b[0;34m(\u001b[0m\u001b[0msim_msgarch_condvol\u001b[0m\u001b[0;34m)\u001b[0m\u001b[0;34m]\u001b[0m\u001b[0;34m)\u001b[0m\u001b[0;34m)\u001b[0m\u001b[0;34m\u001b[0m\u001b[0;34m\u001b[0m\u001b[0m\n\u001b[1;32m      5\u001b[0m \u001b[0mprint\u001b[0m\u001b[0;34m(\u001b[0m\u001b[0mmse\u001b[0m\u001b[0;34m(\u001b[0m\u001b[0mgarch_lstm_preds_garch_h\u001b[0m\u001b[0;34m,\u001b[0m \u001b[0msim_garch_condvol\u001b[0m\u001b[0;34m[\u001b[0m\u001b[0;34m(\u001b[0m\u001b[0mlen\u001b[0m\u001b[0;34m(\u001b[0m\u001b[0msim_msgarch_condvol\u001b[0m\u001b[0;34m)\u001b[0m \u001b[0;34m-\u001b[0m \u001b[0mobs_test\u001b[0m\u001b[0;34m)\u001b[0m\u001b[0;34m:\u001b[0m\u001b[0mlen\u001b[0m\u001b[0;34m(\u001b[0m\u001b[0msim_msgarch_condvol\u001b[0m\u001b[0;34m)\u001b[0m\u001b[0;34m]\u001b[0m\u001b[0;34m)\u001b[0m\u001b[0;34m)\u001b[0m\u001b[0;34m\u001b[0m\u001b[0;34m\u001b[0m\u001b[0m\n",
      "\u001b[0;32m~/opt/anaconda3/lib/python3.9/site-packages/sklearn/metrics/_regression.py\u001b[0m in \u001b[0;36mmean_squared_error\u001b[0;34m(y_true, y_pred, sample_weight, multioutput, squared)\u001b[0m\n\u001b[1;32m    436\u001b[0m     \u001b[0;36m0.825\u001b[0m\u001b[0;34m...\u001b[0m\u001b[0;34m\u001b[0m\u001b[0;34m\u001b[0m\u001b[0m\n\u001b[1;32m    437\u001b[0m     \"\"\"\n\u001b[0;32m--> 438\u001b[0;31m     y_type, y_true, y_pred, multioutput = _check_reg_targets(\n\u001b[0m\u001b[1;32m    439\u001b[0m         \u001b[0my_true\u001b[0m\u001b[0;34m,\u001b[0m \u001b[0my_pred\u001b[0m\u001b[0;34m,\u001b[0m \u001b[0mmultioutput\u001b[0m\u001b[0;34m\u001b[0m\u001b[0;34m\u001b[0m\u001b[0m\n\u001b[1;32m    440\u001b[0m     )\n",
      "\u001b[0;32m~/opt/anaconda3/lib/python3.9/site-packages/sklearn/metrics/_regression.py\u001b[0m in \u001b[0;36m_check_reg_targets\u001b[0;34m(y_true, y_pred, multioutput, dtype)\u001b[0m\n\u001b[1;32m     92\u001b[0m         \u001b[0mthe\u001b[0m \u001b[0mdtype\u001b[0m \u001b[0margument\u001b[0m \u001b[0mpassed\u001b[0m \u001b[0mto\u001b[0m \u001b[0mcheck_array\u001b[0m\u001b[0;34m.\u001b[0m\u001b[0;34m\u001b[0m\u001b[0;34m\u001b[0m\u001b[0m\n\u001b[1;32m     93\u001b[0m     \"\"\"\n\u001b[0;32m---> 94\u001b[0;31m     \u001b[0mcheck_consistent_length\u001b[0m\u001b[0;34m(\u001b[0m\u001b[0my_true\u001b[0m\u001b[0;34m,\u001b[0m \u001b[0my_pred\u001b[0m\u001b[0;34m)\u001b[0m\u001b[0;34m\u001b[0m\u001b[0;34m\u001b[0m\u001b[0m\n\u001b[0m\u001b[1;32m     95\u001b[0m     \u001b[0my_true\u001b[0m \u001b[0;34m=\u001b[0m \u001b[0mcheck_array\u001b[0m\u001b[0;34m(\u001b[0m\u001b[0my_true\u001b[0m\u001b[0;34m,\u001b[0m \u001b[0mensure_2d\u001b[0m\u001b[0;34m=\u001b[0m\u001b[0;32mFalse\u001b[0m\u001b[0;34m,\u001b[0m \u001b[0mdtype\u001b[0m\u001b[0;34m=\u001b[0m\u001b[0mdtype\u001b[0m\u001b[0;34m)\u001b[0m\u001b[0;34m\u001b[0m\u001b[0;34m\u001b[0m\u001b[0m\n\u001b[1;32m     96\u001b[0m     \u001b[0my_pred\u001b[0m \u001b[0;34m=\u001b[0m \u001b[0mcheck_array\u001b[0m\u001b[0;34m(\u001b[0m\u001b[0my_pred\u001b[0m\u001b[0;34m,\u001b[0m \u001b[0mensure_2d\u001b[0m\u001b[0;34m=\u001b[0m\u001b[0;32mFalse\u001b[0m\u001b[0;34m,\u001b[0m \u001b[0mdtype\u001b[0m\u001b[0;34m=\u001b[0m\u001b[0mdtype\u001b[0m\u001b[0;34m)\u001b[0m\u001b[0;34m\u001b[0m\u001b[0;34m\u001b[0m\u001b[0m\n",
      "\u001b[0;32m~/opt/anaconda3/lib/python3.9/site-packages/sklearn/utils/validation.py\u001b[0m in \u001b[0;36mcheck_consistent_length\u001b[0;34m(*arrays)\u001b[0m\n\u001b[1;32m    330\u001b[0m     \u001b[0muniques\u001b[0m \u001b[0;34m=\u001b[0m \u001b[0mnp\u001b[0m\u001b[0;34m.\u001b[0m\u001b[0munique\u001b[0m\u001b[0;34m(\u001b[0m\u001b[0mlengths\u001b[0m\u001b[0;34m)\u001b[0m\u001b[0;34m\u001b[0m\u001b[0;34m\u001b[0m\u001b[0m\n\u001b[1;32m    331\u001b[0m     \u001b[0;32mif\u001b[0m \u001b[0mlen\u001b[0m\u001b[0;34m(\u001b[0m\u001b[0muniques\u001b[0m\u001b[0;34m)\u001b[0m \u001b[0;34m>\u001b[0m \u001b[0;36m1\u001b[0m\u001b[0;34m:\u001b[0m\u001b[0;34m\u001b[0m\u001b[0;34m\u001b[0m\u001b[0m\n\u001b[0;32m--> 332\u001b[0;31m         raise ValueError(\n\u001b[0m\u001b[1;32m    333\u001b[0m             \u001b[0;34m\"Found input variables with inconsistent numbers of samples: %r\"\u001b[0m\u001b[0;34m\u001b[0m\u001b[0;34m\u001b[0m\u001b[0m\n\u001b[1;32m    334\u001b[0m             \u001b[0;34m%\u001b[0m \u001b[0;34m[\u001b[0m\u001b[0mint\u001b[0m\u001b[0;34m(\u001b[0m\u001b[0ml\u001b[0m\u001b[0;34m)\u001b[0m \u001b[0;32mfor\u001b[0m \u001b[0ml\u001b[0m \u001b[0;32min\u001b[0m \u001b[0mlengths\u001b[0m\u001b[0;34m]\u001b[0m\u001b[0;34m\u001b[0m\u001b[0;34m\u001b[0m\u001b[0m\n",
      "\u001b[0;31mValueError\u001b[0m: Found input variables with inconsistent numbers of samples: [19992, 20000]"
     ]
    }
   ],
   "source": [
    "# Error calculations\n",
    "print('MSE: LSTM & hybrid models (24 step ahead)')\n",
    "print(mse(garch_lstm_preds_h, sim_garch_condvol[(len(sim_msgarch_condvol) - obs_test):len(sim_msgarch_condvol)]))\n",
    "print(mse(garch_lstm_preds_arch_h, sim_garch_condvol[(len(sim_msgarch_condvol) - obs_test):len(sim_msgarch_condvol)]))\n",
    "print(mse(garch_lstm_preds_garch_h, sim_garch_condvol[(len(sim_msgarch_condvol) - obs_test):len(sim_msgarch_condvol)]))\n",
    "print(mse(garch_lstm_preds_egarch_h, sim_garch_condvol[(len(sim_msgarch_condvol) - obs_test):len(sim_msgarch_condvol)]))\n",
    "print(mse(garch_lstm_preds_gjrgarch_h, sim_garch_condvol[(len(sim_msgarch_condvol) - obs_test):len(sim_msgarch_condvol)]))\n",
    "print(mse(garch_lstm_preds_msgarch_h, sim_garch_condvol[(len(sim_msgarch_condvol) - obs_test):len(sim_msgarch_condvol)]))\n",
    "\n",
    "# Error calculations\n",
    "print('MAE: LSTM & hybrid models (24 step ahead)')\n",
    "print(mae(garch_lstm_preds_h, sim_garch_condvol[(len(sim_msgarch_condvol) - obs_test):len(sim_msgarch_condvol)]))\n",
    "print(mae(garch_lstm_preds_arch_h, sim_garch_condvol[(len(sim_msgarch_condvol) - obs_test):len(sim_msgarch_condvol)]))\n",
    "print(mae(garch_lstm_preds_garch_h, sim_garch_condvol[(len(sim_msgarch_condvol) - obs_test):len(sim_msgarch_condvol)]))\n",
    "print(mae(garch_lstm_preds_egarch_h, sim_garch_condvol[(len(sim_msgarch_condvol) - obs_test):len(sim_msgarch_condvol)]))\n",
    "print(mae(garch_lstm_preds_gjrgarch_h, sim_garch_condvol[(len(sim_msgarch_condvol) - obs_test):len(sim_msgarch_condvol)]))\n",
    "print(mae(garch_lstm_preds_msgarch_h, sim_garch_condvol[(len(sim_msgarch_condvol) - obs_test):len(sim_msgarch_condvol)]))\n",
    "\n",
    "# Realized variance errors\n",
    "print('MSE & MAE: realized volatility forecasts (24 step ahead)')\n",
    "print(mse(rv_garch[(len(rv_garch)-obs_test-24):(len(rv_garch)-24)],sim_garch_condvol[(len(sim_msgarch_condvol)-obs_test):len(sim_msgarch_condvol)]))\n",
    "print(mae(rv_garch[(len(rv_garch)-obs_test-24):(len(rv_garch)-24)],sim_garch_condvol[(len(sim_msgarch_condvol)-obs_test):len(sim_msgarch_condvol)]))"
   ]
  },
  {
   "cell_type": "markdown",
   "id": "ad778a47",
   "metadata": {},
   "source": [
    "## 4.3 E-GARCH data"
   ]
  },
  {
   "cell_type": "code",
   "execution_count": 38,
   "id": "32e0ec0b",
   "metadata": {},
   "outputs": [],
   "source": [
    "scaled_rv_egarch = scaled_data(rv_egarch)\n",
    "scaled_filt_arch = scaled_data(egarch_filt_arch.to_numpy())\n",
    "scaled_filt_garch = scaled_data(egarch_filt_garch.to_numpy())\n",
    "scaled_filt_egarch = scaled_data(egarch_filt_egarch.to_numpy())\n",
    "scaled_filt_gjrgarch = scaled_data(egarch_filt_gjrgarch.to_numpy())\n",
    "scaled_filt_msgarch = scaled_data(egarch_filt_msgarch.to_numpy())\n",
    "\n",
    "scaled_rv_egarch = scaled_rv_egarch.flatten()\n",
    "scaled_filt_arch = scaled_filt_arch.flatten()\n",
    "scaled_filt_garch = scaled_filt_garch.flatten()\n",
    "scaled_filt_egarch = scaled_filt_egarch.flatten()\n",
    "scaled_filt_gjrgarch = scaled_filt_gjrgarch.flatten()\n",
    "scaled_filt_msgarch = scaled_filt_msgarch.flatten()"
   ]
  },
  {
   "cell_type": "markdown",
   "id": "ebcf0399",
   "metadata": {},
   "source": [
    "### 4.3.1 1-step ahead forecasting"
   ]
  },
  {
   "cell_type": "code",
   "execution_count": 39,
   "id": "59f702ba",
   "metadata": {},
   "outputs": [],
   "source": [
    "obs_test = 20000\n",
    "start = 10000\n",
    "d = 50\n",
    "epochs = 75\n",
    "units = 100\n",
    "nodes = 150\n",
    "verbose = 0\n",
    "LR = 0.0001\n",
    "activation_lstm = 'tanh'\n",
    "shift = 25"
   ]
  },
  {
   "cell_type": "code",
   "execution_count": 40,
   "id": "eb3ff320",
   "metadata": {},
   "outputs": [],
   "source": [
    "h = 1"
   ]
  },
  {
   "cell_type": "code",
   "execution_count": 41,
   "id": "36a4ec73",
   "metadata": {},
   "outputs": [
    {
     "name": "stdout",
     "output_type": "stream",
     "text": [
      "313/313 [==============================] - 6s 17ms/step\n",
      "313/313 [==============================] - 7s 20ms/step\n",
      "313/313 [==============================] - 6s 17ms/step\n",
      "313/313 [==============================] - 6s 19ms/step\n",
      "313/313 [==============================] - 6s 17ms/step\n",
      "313/313 [==============================] - 6s 18ms/step\n",
      "313/313 [==============================] - 6s 18ms/step\n",
      "313/313 [==============================] - 5s 17ms/step\n",
      "313/313 [==============================] - 6s 17ms/step\n",
      "313/313 [==============================] - 6s 17ms/step\n",
      "313/313 [==============================] - 6s 17ms/step\n",
      "313/313 [==============================] - 6s 17ms/step\n"
     ]
    }
   ],
   "source": [
    "egarch_lstm_preds = univariate_lstm_preds_shift(scaled_rv_egarch, obs_test, d, h, epochs, units, nodes, verbose, LR, activation_lstm, rv_egarch, shift)\n",
    "egarch_lstm_preds_arch = generate_2_forecasts_hybrid_shift(scaled_rv_egarch, scaled_filt_arch[49:], obs_test, start, d, epochs, units, nodes, LR, activation_lstm, rv_egarch, h, shift)\n",
    "egarch_lstm_preds_garch = generate_2_forecasts_hybrid_shift(scaled_rv_egarch, scaled_filt_garch[49:], obs_test, start, d, epochs, units, nodes, LR, activation_lstm, rv_egarch, h, shift)\n",
    "egarch_lstm_preds_egarch = generate_2_forecasts_hybrid_shift(scaled_rv_egarch, scaled_filt_egarch[49:], obs_test, start, d, epochs, units, nodes, LR, activation_lstm, rv_egarch, h, shift)\n",
    "egarch_lstm_preds_gjrgarch = generate_2_forecasts_hybrid_shift(scaled_rv_egarch, scaled_filt_gjrgarch[49:], obs_test, start, d, epochs, units, nodes, LR, activation_lstm, rv_egarch, h, shift)\n",
    "egarch_lstm_preds_msgarch = generate_2_forecasts_hybrid_shift(scaled_rv_egarch, scaled_filt_msgarch[49:], obs_test, start, d, epochs, units, nodes, LR, activation_lstm, rv_egarch, h, shift)"
   ]
  },
  {
   "cell_type": "code",
   "execution_count": 42,
   "id": "466907a9",
   "metadata": {},
   "outputs": [
    {
     "name": "stdout",
     "output_type": "stream",
     "text": [
      "MSE: LSTM & hybrid models (1 step ahead)\n",
      "0.013389701036022222\n",
      "0.013362820148230332\n",
      "0.0131719960735521\n",
      "0.014204588718060757\n",
      "0.014564833523429827\n",
      "0.013523167462505382\n",
      "MAE: LSTM & hybrid models (1 step ahead)\n",
      "0.09282088239302957\n",
      "0.09221411601321436\n",
      "0.09180289157974036\n",
      "0.09565127532028919\n",
      "0.09681685336505336\n",
      "0.09350830118082795\n",
      "MSE & MAE: realized volatility forecasts (1 step ahead)\n",
      "0.014417210637362452\n",
      "0.09658524957276071\n"
     ]
    }
   ],
   "source": [
    "# Mean squared errors\n",
    "print('MSE: LSTM & hybrid models (1 step ahead)')\n",
    "print(mse(egarch_lstm_preds, sim_egarch_condvol[(len(sim_msgarch_condvol)-obs_test):len(sim_msgarch_condvol)]))\n",
    "print(mse(egarch_lstm_preds_arch, sim_egarch_condvol[(len(sim_msgarch_condvol)-obs_test):len(sim_msgarch_condvol)]))\n",
    "print(mse(egarch_lstm_preds_garch, sim_egarch_condvol[(len(sim_msgarch_condvol)-obs_test):len(sim_msgarch_condvol)]))\n",
    "print(mse(egarch_lstm_preds_egarch, sim_egarch_condvol[(len(sim_msgarch_condvol)-obs_test):len(sim_msgarch_condvol)]))\n",
    "print(mse(egarch_lstm_preds_gjrgarch, sim_egarch_condvol[(len(sim_msgarch_condvol)-obs_test):len(sim_msgarch_condvol)]))\n",
    "print(mse(egarch_lstm_preds_msgarch, sim_egarch_condvol[(len(sim_msgarch_condvol)-obs_test):len(sim_msgarch_condvol)]))\n",
    "\n",
    "# Mean absolute errors\n",
    "print('MAE: LSTM & hybrid models (1 step ahead)')\n",
    "print(mae(egarch_lstm_preds, sim_egarch_condvol[(len(sim_msgarch_condvol)-obs_test):len(sim_msgarch_condvol)]))\n",
    "print(mae(egarch_lstm_preds_arch, sim_egarch_condvol[(len(sim_msgarch_condvol)-obs_test):len(sim_msgarch_condvol)]))\n",
    "print(mae(egarch_lstm_preds_garch, sim_egarch_condvol[(len(sim_msgarch_condvol)-obs_test):len(sim_msgarch_condvol)]))\n",
    "print(mae(egarch_lstm_preds_egarch, sim_egarch_condvol[(len(sim_msgarch_condvol)-obs_test):len(sim_msgarch_condvol)]))\n",
    "print(mae(egarch_lstm_preds_gjrgarch, sim_egarch_condvol[(len(sim_msgarch_condvol)-obs_test):len(sim_msgarch_condvol)]))\n",
    "print(mae(egarch_lstm_preds_msgarch, sim_egarch_condvol[(len(sim_msgarch_condvol)-obs_test):len(sim_msgarch_condvol)]))\n",
    "\n",
    "# Realized variance errors\n",
    "print('MSE & MAE: realized volatility forecasts (1 step ahead)')\n",
    "print(mse(rv_egarch[(len(rv_garch)-obs_test-1):(len(rv_garch)-1)],sim_egarch_condvol[(len(sim_msgarch_condvol)-obs_test):len(sim_msgarch_condvol)]))\n",
    "print(mae(rv_egarch[(len(rv_garch)-obs_test-1):(len(rv_garch)-1)],sim_egarch_condvol[(len(sim_msgarch_condvol)-obs_test):len(sim_msgarch_condvol)]))"
   ]
  },
  {
   "cell_type": "markdown",
   "id": "4d9e83a6",
   "metadata": {},
   "source": [
    "### 4.3.2 12-step ahead forecasting"
   ]
  },
  {
   "cell_type": "code",
   "execution_count": 65,
   "id": "7df76be9",
   "metadata": {},
   "outputs": [],
   "source": [
    "obs_test = 20000\n",
    "start = 10000\n",
    "d = 50\n",
    "epochs = 75\n",
    "units = 100\n",
    "nodes = 150\n",
    "verbose = 0\n",
    "LR = 0.0001\n",
    "activation_lstm = 'tanh'\n",
    "shift = 25"
   ]
  },
  {
   "cell_type": "code",
   "execution_count": 66,
   "id": "4873ce03",
   "metadata": {},
   "outputs": [],
   "source": [
    "h = 12 "
   ]
  },
  {
   "cell_type": "code",
   "execution_count": 67,
   "id": "747b2eda",
   "metadata": {},
   "outputs": [
    {
     "name": "stdout",
     "output_type": "stream",
     "text": [
      "313/313 [==============================] - 5s 14ms/step\n",
      "313/313 [==============================] - 5s 14ms/step\n",
      "313/313 [==============================] - 7s 19ms/step\n",
      "313/313 [==============================] - 8s 23ms/step\n",
      "313/313 [==============================] - 6s 17ms/step\n",
      "313/313 [==============================] - 6s 17ms/step\n",
      "313/313 [==============================] - 12s 35ms/step\n",
      "313/313 [==============================] - 20s 43ms/step\n",
      "313/313 [==============================] - 8s 25ms/step\n",
      "313/313 [==============================] - 8s 24ms/step\n",
      "313/313 [==============================] - 9s 24ms/step\n",
      "313/313 [==============================] - 10s 28ms/step\n"
     ]
    }
   ],
   "source": [
    "# Generating prediction matrices\n",
    "egarch_lstm_preds = univariate_lstm_preds_shift(scaled_rv_egarch, obs_test, d, h, epochs, units, nodes, verbose, LR, activation_lstm, rv_egarch, shift)\n",
    "egarch_lstm_preds_arch = generate_2_forecasts_hybrid_shift(scaled_rv_egarch, scaled_filt_arch[49:], obs_test, start, d, epochs, units, nodes, LR, activation_lstm, rv_egarch, h, shift)\n",
    "egarch_lstm_preds_garch = generate_2_forecasts_hybrid_shift(scaled_rv_egarch, scaled_filt_garch[49:], obs_test, start, d, epochs, units, nodes, LR, activation_lstm, rv_egarch, h, shift)\n",
    "egarch_lstm_preds_egarch = generate_2_forecasts_hybrid_shift(scaled_rv_egarch, scaled_filt_egarch[49:], obs_test, start, d, epochs, units, nodes, LR, activation_lstm, rv_egarch, h, shift)\n",
    "egarch_lstm_preds_gjrgarch = generate_2_forecasts_hybrid_shift(scaled_rv_egarch, scaled_filt_gjrgarch[49:], obs_test, start, d, epochs, units, nodes, LR, activation_lstm, rv_egarch, h, shift)\n",
    "egarch_lstm_preds_msgarch = generate_2_forecasts_hybrid_shift(scaled_rv_egarch, scaled_filt_msgarch[49:], obs_test, start, d, epochs, units, nodes, LR, activation_lstm, rv_egarch, h, shift)\n",
    "\n",
    "# Retrieving every h-th sequence, for h-th step ahead prediction evaluation\n",
    "egarch_lstm_preds_h = create_h_step_forecasts(egarch_lstm_preds, h, obs_test)\n",
    "egarch_lstm_preds_arch_h = create_h_step_forecasts(egarch_lstm_preds_arch, h, obs_test)\n",
    "egarch_lstm_preds_garch_h = create_h_step_forecasts(egarch_lstm_preds_garch, h, obs_test)\n",
    "egarch_lstm_preds_egarch_h = create_h_step_forecasts(egarch_lstm_preds_egarch, h, obs_test)\n",
    "egarch_lstm_preds_gjrgarch_h = create_h_step_forecasts(egarch_lstm_preds_gjrgarch, h, obs_test)\n",
    "egarch_lstm_preds_msgarch_h = create_h_step_forecasts(egarch_lstm_preds_msgarch, h, obs_test)"
   ]
  },
  {
   "cell_type": "code",
   "execution_count": null,
   "id": "ea384732",
   "metadata": {},
   "outputs": [],
   "source": [
    "# Mean squared errors\n",
    "print('MSE: LSTM & hybrid models (12-step ahead)')\n",
    "print(mse(egarch_lstm_preds_h, sim_egarch_condvol[(len(sim_msgarch_condvol)-obs_test):len(sim_msgarch_condvol)]))\n",
    "print(mse(egarch_lstm_preds_arch_h, sim_egarch_condvol[(len(sim_msgarch_condvol)-obs_test):len(sim_msgarch_condvol)]))\n",
    "print(mse(egarch_lstm_preds_garch_h, sim_egarch_condvol[(len(sim_msgarch_condvol)-obs_test):len(sim_msgarch_condvol)]))\n",
    "print(mse(egarch_lstm_preds_egarch_h, sim_egarch_condvol[(len(sim_msgarch_condvol)-obs_test):len(sim_msgarch_condvol)]))\n",
    "print(mse(egarch_lstm_preds_gjrgarch_h, sim_egarch_condvol[(len(sim_msgarch_condvol)-obs_test):len(sim_msgarch_condvol)]))\n",
    "print(mse(egarch_lstm_preds_msgarch_h, sim_egarch_condvol[(len(sim_msgarch_condvol)-obs_test):len(sim_msgarch_condvol)]))\n",
    "\n",
    "# Mean absolute errors\n",
    "print('MAE: LSTM & hybrid models (12-step ahead)')\n",
    "print(mae(egarch_lstm_preds_h, sim_egarch_condvol[(len(sim_msgarch_condvol)-obs_test):len(sim_msgarch_condvol)]))\n",
    "print(mae(egarch_lstm_preds_arch_h, sim_egarch_condvol[(len(sim_msgarch_condvol)-obs_test):len(sim_msgarch_condvol)]))\n",
    "print(mae(egarch_lstm_preds_garch_h, sim_egarch_condvol[(len(sim_msgarch_condvol)-obs_test):len(sim_msgarch_condvol)]))\n",
    "print(mae(egarch_lstm_preds_egarch_h, sim_egarch_condvol[(len(sim_msgarch_condvol)-obs_test):len(sim_msgarch_condvol)]))\n",
    "print(mae(egarch_lstm_preds_gjrgarch_h, sim_egarch_condvol[(len(sim_msgarch_condvol)-obs_test):len(sim_msgarch_condvol)]))\n",
    "print(mae(egarch_lstm_preds_msgarch_h, sim_egarch_condvol[(len(sim_msgarch_condvol)-obs_test):len(sim_msgarch_condvol)]))\n",
    "\n",
    "# Realized variance errors\n",
    "print('MSE & MAE: realized volatility forecasts (12 step ahead)')\n",
    "print(mse(rv_egarch[(len(rv_garch)-obs_test-1):(len(rv_garch)-1)],sim_egarch_condvol[(len(sim_msgarch_condvol)-obs_test):len(sim_msgarch_condvol)]))\n",
    "print(mae(rv_egarch[(len(rv_garch)-obs_test-1):(len(rv_garch)-1)],sim_egarch_condvol[(len(sim_msgarch_condvol)-obs_test):len(sim_msgarch_condvol)]))"
   ]
  },
  {
   "cell_type": "markdown",
   "id": "c378d8bc",
   "metadata": {},
   "source": [
    "### 4.3.3 24-step ahead forecasting"
   ]
  },
  {
   "cell_type": "code",
   "execution_count": null,
   "id": "378c91e9",
   "metadata": {},
   "outputs": [],
   "source": [
    "obs_test = 20000\n",
    "start = 10000\n",
    "d = 50\n",
    "epochs = 75\n",
    "units = 100\n",
    "nodes = 150\n",
    "verbose = 0\n",
    "LR = 0.0001\n",
    "activation_lstm = 'tanh'\n",
    "shift = 25"
   ]
  },
  {
   "cell_type": "code",
   "execution_count": null,
   "id": "11459b06",
   "metadata": {},
   "outputs": [],
   "source": [
    "h = 24"
   ]
  },
  {
   "cell_type": "code",
   "execution_count": null,
   "id": "a5c9588d",
   "metadata": {},
   "outputs": [],
   "source": [
    "# Generating prediction matrices\n",
    "egarch_lstm_preds = univariate_lstm_preds_shift(scaled_rv_egarch, obs_test, d, h, epochs, units, nodes, verbose, LR, activation_lstm, rv_egarch, shift)\n",
    "egarch_lstm_preds_arch = generate_2_forecasts_hybrid_shift(scaled_rv_egarch, scaled_filt_arch[49:], obs_test, start, d, epochs, units, nodes, LR, activation_lstm, rv_egarch, h, shift)\n",
    "egarch_lstm_preds_garch = generate_2_forecasts_hybrid_shift(scaled_rv_egarch, scaled_filt_garch[49:], obs_test, start, d, epochs, units, nodes, LR, activation_lstm, rv_egarch, h, shift)\n",
    "egarch_lstm_preds_egarch = generate_2_forecasts_hybrid_shift(scaled_rv_egarch, scaled_filt_egarch[49:], obs_test, start, d, epochs, units, nodes, LR, activation_lstm, rv_egarch, h, shift)\n",
    "egarch_lstm_preds_gjrgarch = generate_2_forecasts_hybrid_shift(scaled_rv_egarch, scaled_filt_gjrgarch[49:], obs_test, start, d, epochs, units, nodes, LR, activation_lstm, rv_egarch, h, shift)\n",
    "egarch_lstm_preds_msgarch = generate_2_forecasts_hybrid_shift(scaled_rv_egarch, scaled_filt_msgarch[49:], obs_test, start, d, epochs, units, nodes, LR, activation_lstm, rv_egarch, h, shift)\n",
    "\n",
    "# Retrieving every h-th sequence, for h-th step ahead prediction evaluation\n",
    "egarch_lstm_preds_h = create_h_step_forecasts(egarch_lstm_preds, h, obs_test)\n",
    "egarch_lstm_preds_arch_h = create_h_step_forecasts(egarch_lstm_preds_arch, h, obs_test)\n",
    "egarch_lstm_preds_garch_h = create_h_step_forecasts(egarch_lstm_preds_garch, h, obs_test)\n",
    "egarch_lstm_preds_egarch_h = create_h_step_forecasts(egarch_lstm_preds_egarch, h, obs_test)\n",
    "egarch_lstm_preds_gjrgarch_h = create_h_step_forecasts(egarch_lstm_preds_gjrgarch, h, obs_test)\n",
    "egarch_lstm_preds_msgarch_h = create_h_step_forecasts(egarch_lstm_preds_msgarch, h, obs_test)"
   ]
  },
  {
   "cell_type": "code",
   "execution_count": null,
   "id": "8b163439",
   "metadata": {},
   "outputs": [],
   "source": [
    "# Mean squared errors\n",
    "print('MSE: LSTM & hybrid models (24-step ahead)')\n",
    "print(mse(egarch_lstm_preds_h, sim_egarch_condvol[(len(sim_msgarch_condvol)-obs_test):len(sim_msgarch_condvol)]))\n",
    "print(mse(egarch_lstm_preds_arch_h, sim_egarch_condvol[(len(sim_msgarch_condvol)-obs_test):len(sim_msgarch_condvol)]))\n",
    "print(mse(egarch_lstm_preds_garch_h, sim_egarch_condvol[(len(sim_msgarch_condvol)-obs_test):len(sim_msgarch_condvol)]))\n",
    "print(mse(egarch_lstm_preds_egarch_h, sim_egarch_condvol[(len(sim_msgarch_condvol)-obs_test):len(sim_msgarch_condvol)]))\n",
    "print(mse(egarch_lstm_preds_gjrgarch_h, sim_egarch_condvol[(len(sim_msgarch_condvol)-obs_test):len(sim_msgarch_condvol)]))\n",
    "print(mse(egarch_lstm_preds_msgarch_h, sim_egarch_condvol[(len(sim_msgarch_condvol)-obs_test):len(sim_msgarch_condvol)]))\n",
    "\n",
    "# Mean absolute errors\n",
    "print('MAE: LSTM & hybrid models (24-step ahead)')\n",
    "print(mae(egarch_lstm_preds_h, sim_egarch_condvol[(len(sim_msgarch_condvol)-obs_test):len(sim_msgarch_condvol)]))\n",
    "print(mae(egarch_lstm_preds_arch_h, sim_egarch_condvol[(len(sim_msgarch_condvol)-obs_test):len(sim_msgarch_condvol)]))\n",
    "print(mae(egarch_lstm_preds_garch_h, sim_egarch_condvol[(len(sim_msgarch_condvol)-obs_test):len(sim_msgarch_condvol)]))\n",
    "print(mae(egarch_lstm_preds_egarch_h, sim_egarch_condvol[(len(sim_msgarch_condvol)-obs_test):len(sim_msgarch_condvol)]))\n",
    "print(mae(egarch_lstm_preds_gjrgarch_h, sim_egarch_condvol[(len(sim_msgarch_condvol)-obs_test):len(sim_msgarch_condvol)]))\n",
    "print(mae(egarch_lstm_preds_msgarch_h, sim_egarch_condvol[(len(sim_msgarch_condvol)-obs_test):len(sim_msgarch_condvol)]))\n",
    "\n",
    "# Realized variance errors\n",
    "print('MSE & MAE: Realized volatility forecasts (24-step ahead)')\n",
    "print(mse(rv_egarch[(len(rv_garch)-obs_test-24):(len(rv_garch)-1)],sim_egarch_condvol[(len(sim_msgarch_condvol)-obs_test):len(sim_msgarch_condvol)]))\n",
    "print(mae(rv_egarch[(len(rv_garch)-obs_test-24):(len(rv_garch)-1)],sim_egarch_condvol[(len(sim_msgarch_condvol)-obs_test):len(sim_msgarch_condvol)]))"
   ]
  },
  {
   "cell_type": "markdown",
   "id": "f8853e54",
   "metadata": {},
   "source": [
    "## 4.4 GJR-GARCH data"
   ]
  },
  {
   "cell_type": "code",
   "execution_count": 43,
   "id": "17611f24",
   "metadata": {},
   "outputs": [],
   "source": [
    "scaled_rv_gjrgarch = scaled_data(rv_gjrgarch)\n",
    "scaled_filt_arch = scaled_data(gjrgarch_filt_arch.to_numpy())\n",
    "scaled_filt_garch = scaled_data(gjrgarch_filt_garch.to_numpy())\n",
    "scaled_filt_egarch = scaled_data(gjrgarch_filt_egarch.to_numpy())\n",
    "scaled_filt_gjrgarch = scaled_data(gjrgarch_filt_gjrgarch.to_numpy())\n",
    "scaled_filt_msgarch = scaled_data(gjrgarch_filt_msgarch.to_numpy())\n",
    "\n",
    "scaled_rv_gjrgarch = scaled_rv_gjrgarch.flatten()\n",
    "scaled_filt_arch = scaled_filt_arch.flatten()\n",
    "scaled_filt_garch = scaled_filt_garch.flatten()\n",
    "scaled_filt_egarch = scaled_filt_egarch.flatten()\n",
    "scaled_filt_gjrgarch = scaled_filt_gjrgarch.flatten()\n",
    "scaled_filt_msgarch = scaled_filt_msgarch.flatten()"
   ]
  },
  {
   "cell_type": "markdown",
   "id": "5cd47770",
   "metadata": {},
   "source": [
    "### 4.4.1 1-step ahead forecasting"
   ]
  },
  {
   "cell_type": "code",
   "execution_count": 44,
   "id": "1275c418",
   "metadata": {},
   "outputs": [],
   "source": [
    "obs_test = 20000\n",
    "start = 10000\n",
    "d = 50\n",
    "epochs = 75\n",
    "units = 100\n",
    "nodes = 150\n",
    "verbose = 0\n",
    "LR = 0.0001\n",
    "activation_lstm = 'tanh'\n",
    "shift = 25"
   ]
  },
  {
   "cell_type": "code",
   "execution_count": 45,
   "id": "98483494",
   "metadata": {},
   "outputs": [],
   "source": [
    "h = 1"
   ]
  },
  {
   "cell_type": "code",
   "execution_count": 46,
   "id": "7b35c05c",
   "metadata": {},
   "outputs": [
    {
     "name": "stdout",
     "output_type": "stream",
     "text": [
      "313/313 [==============================] - 6s 17ms/step\n",
      "313/313 [==============================] - 6s 19ms/step\n",
      "313/313 [==============================] - 7s 19ms/step\n",
      "313/313 [==============================] - 6s 17ms/step\n",
      "313/313 [==============================] - 6s 17ms/step\n",
      "313/313 [==============================] - 6s 18ms/step\n",
      "313/313 [==============================] - 6s 18ms/step\n",
      "313/313 [==============================] - 6s 18ms/step\n",
      "313/313 [==============================] - 6s 18ms/step\n",
      "313/313 [==============================] - 6s 17ms/step\n",
      "313/313 [==============================] - 7s 20ms/step\n",
      "313/313 [==============================] - 6s 19ms/step\n"
     ]
    }
   ],
   "source": [
    "gjrgarch_lstm_preds = univariate_lstm_preds_shift(scaled_rv_gjrgarch, obs_test, d, h, epochs, units, nodes, verbose, LR, activation_lstm, rv_gjrgarch, shift)\n",
    "gjrgarch_lstm_preds_arch = generate_2_forecasts_hybrid_shift(scaled_rv_gjrgarch, scaled_filt_arch[49:], obs_test, start, d, epochs, units, nodes, LR, activation_lstm, rv_gjrgarch, h, shift)\n",
    "gjrgarch_lstm_preds_garch = generate_2_forecasts_hybrid_shift(scaled_rv_gjrgarch, scaled_filt_garch[49:], obs_test, start, d, epochs, units, nodes, LR, activation_lstm, rv_gjrgarch, h, shift)\n",
    "gjrgarch_lstm_preds_egarch = generate_2_forecasts_hybrid_shift(scaled_rv_gjrgarch, scaled_filt_egarch[49:], obs_test, start, d, epochs, units, nodes, LR, activation_lstm, rv_gjrgarch, h, shift)\n",
    "gjrgarch_lstm_preds_gjrgarch = generate_2_forecasts_hybrid_shift(scaled_rv_gjrgarch, scaled_filt_gjrgarch[49:], obs_test, start, d, epochs, units, nodes, LR, activation_lstm, rv_gjrgarch, h, shift)\n",
    "gjrgarch_lstm_preds_msgarch = generate_2_forecasts_hybrid_shift(scaled_rv_gjrgarch, scaled_filt_msgarch[49:], obs_test, start, d, epochs, units, nodes, LR, activation_lstm, rv_gjrgarch, h, shift)"
   ]
  },
  {
   "cell_type": "code",
   "execution_count": 47,
   "id": "5f0c9c40",
   "metadata": {},
   "outputs": [
    {
     "name": "stdout",
     "output_type": "stream",
     "text": [
      "MSE: LSTM & hybrid models (1-step ahead)\n",
      "0.0008972834372368752\n",
      "0.0007429353197907071\n",
      "0.0007775943788899068\n",
      "0.0010684994099369655\n",
      "0.001200542567654619\n",
      "0.0006954749565160367\n",
      "MAE: LSTM & hybrid models (1-step ahead)\n",
      "0.0177420889793409\n",
      "0.015000396941040009\n",
      "0.015639167281722093\n",
      "0.021047210460492072\n",
      "0.024146381328412684\n",
      "0.01384127290966845\n",
      "MSE & MAE: Realized volatility forecasts (1-step ahead)\n",
      "0.0007906618097120884\n",
      "0.014420564284997571\n"
     ]
    }
   ],
   "source": [
    "# Mean squared errors\n",
    "print('MSE: LSTM & hybrid models (1-step ahead)')\n",
    "print(mse(gjrgarch_lstm_preds, sim_gjrgarch_condvol[(len(sim_msgarch_condvol)-obs_test):len(sim_msgarch_condvol)]))\n",
    "print(mse(gjrgarch_lstm_preds_arch, sim_gjrgarch_condvol[(len(sim_msgarch_condvol)-obs_test):len(sim_msgarch_condvol)]))\n",
    "print(mse(gjrgarch_lstm_preds_garch, sim_gjrgarch_condvol[(len(sim_msgarch_condvol)-obs_test):len(sim_msgarch_condvol)]))\n",
    "print(mse(gjrgarch_lstm_preds_egarch, sim_gjrgarch_condvol[(len(sim_msgarch_condvol)-obs_test):len(sim_msgarch_condvol)]))\n",
    "print(mse(gjrgarch_lstm_preds_gjrgarch, sim_gjrgarch_condvol[(len(sim_msgarch_condvol)-obs_test):len(sim_msgarch_condvol)]))\n",
    "print(mse(gjrgarch_lstm_preds_msgarch, sim_gjrgarch_condvol[(len(sim_msgarch_condvol)-obs_test):len(sim_msgarch_condvol)]))\n",
    "\n",
    "# Mean absolute errors\n",
    "print('MAE: LSTM & hybrid models (1-step ahead)')\n",
    "print(mae(gjrgarch_lstm_preds, sim_gjrgarch_condvol[(len(sim_msgarch_condvol)-obs_test):len(sim_msgarch_condvol)]))\n",
    "print(mae(gjrgarch_lstm_preds_arch, sim_gjrgarch_condvol[(len(sim_msgarch_condvol)-obs_test):len(sim_msgarch_condvol)]))\n",
    "print(mae(gjrgarch_lstm_preds_garch, sim_gjrgarch_condvol[(len(sim_msgarch_condvol)-obs_test):len(sim_msgarch_condvol)]))\n",
    "print(mae(gjrgarch_lstm_preds_egarch, sim_gjrgarch_condvol[(len(sim_msgarch_condvol)-obs_test):len(sim_msgarch_condvol)]))\n",
    "print(mae(gjrgarch_lstm_preds_gjrgarch, sim_gjrgarch_condvol[(len(sim_msgarch_condvol)-obs_test):len(sim_msgarch_condvol)]))\n",
    "print(mae(gjrgarch_lstm_preds_msgarch, sim_gjrgarch_condvol[(len(sim_msgarch_condvol)-obs_test):len(sim_msgarch_condvol)]))\n",
    "\n",
    "# Realized variance errors\n",
    "print('MSE & MAE: Realized volatility forecasts (1-step ahead)')\n",
    "print(mse(rv_gjrgarch[(len(rv_garch)-obs_test-1):(len(rv_garch)-1)],sim_gjrgarch_condvol[(len(sim_msgarch_condvol)-obs_test):len(sim_msgarch_condvol)]))\n",
    "print(mae(rv_gjrgarch[(len(rv_garch)-obs_test-1):(len(rv_garch)-1)],sim_gjrgarch_condvol[(len(sim_msgarch_condvol)-obs_test):len(sim_msgarch_condvol)]))"
   ]
  },
  {
   "cell_type": "markdown",
   "id": "6a74b3f9",
   "metadata": {},
   "source": [
    "### 4.4.2 12-step ahead forecasting"
   ]
  },
  {
   "cell_type": "code",
   "execution_count": null,
   "id": "daf1b87f",
   "metadata": {},
   "outputs": [],
   "source": [
    "obs_test = 20000\n",
    "start = 10000\n",
    "d = 50\n",
    "epochs = 75\n",
    "units = 100\n",
    "nodes = 150\n",
    "verbose = 0\n",
    "LR = 0.0001\n",
    "activation_lstm = 'tanh'\n",
    "shift = 25"
   ]
  },
  {
   "cell_type": "code",
   "execution_count": null,
   "id": "e04b480d",
   "metadata": {},
   "outputs": [],
   "source": [
    "h = 12"
   ]
  },
  {
   "cell_type": "code",
   "execution_count": null,
   "id": "45107856",
   "metadata": {},
   "outputs": [],
   "source": [
    "gjrgarch_lstm_preds = univariate_lstm_preds_shift(scaled_rv_gjrgarch, obs_test, d, h, epochs, units, nodes, verbose, LR, activation_lstm, rv_gjrgarch, shift)\n",
    "gjrgarch_lstm_preds_arch = generate_2_forecasts_hybrid_shift(scaled_rv_gjrgarch, scaled_filt_arch[49:], obs_test, start, d, epochs, units, nodes, LR, activation_lstm, rv_gjrgarch, h, shift)\n",
    "gjrgarch_lstm_preds_garch = generate_2_forecasts_hybrid_shift(scaled_rv_gjrgarch, scaled_filt_garch[49:], obs_test, start, d, epochs, units, nodes, LR, activation_lstm, rv_gjrgarch, h, shift)\n",
    "gjrgarch_lstm_preds_egarch = generate_2_forecasts_hybrid_shift(scaled_rv_gjrgarch, scaled_filt_egarch[49:], obs_test, start, d, epochs, units, nodes, LR, activation_lstm, rv_gjrgarch, h, shift)\n",
    "gjrgarch_lstm_preds_gjrgarch = generate_2_forecasts_hybrid_shift(scaled_rv_gjrgarch, scaled_filt_gjrgarch[49:], obs_test, start, d, epochs, units, nodes, LR, activation_lstm, rv_gjrgarch, h, shift)\n",
    "gjrgarch_lstm_preds_msgarch = generate_2_forecasts_hybrid_shift(scaled_rv_gjrgarch, scaled_filt_msgarch[49:], obs_test, start, d, epochs, units, nodes, LR, activation_lstm, rv_gjrgarch, h, shift)\n",
    "\n",
    "# Retrieving every h-th sequence, for h-th step ahead prediction evaluation\n",
    "gjrgarch_lstm_preds_h = create_h_step_forecasts(gjrgarch_lstm_preds, h, obs_test)\n",
    "gjrgarch_lstm_preds_arch_h = create_h_step_forecasts(gjrgarch_lstm_preds_arch, h, obs_test)\n",
    "gjrgarch_lstm_preds_garch_h = create_h_step_forecasts(gjrgarch_lstm_preds_garch, h, obs_test)\n",
    "gjrgarch_lstm_preds_egarch_h = create_h_step_forecasts(gjrgarch_lstm_preds_egarch, h, obs_test)\n",
    "gjrgarch_lstm_preds_gjrgarch_h = create_h_step_forecasts(gjrgarch_lstm_preds_gjrgarch, h, obs_test)\n",
    "gjrgarch_lstm_preds_msgarch_h = create_h_step_forecasts(gjrgarch_lstm_preds_msgarch, h, obs_test)"
   ]
  },
  {
   "cell_type": "code",
   "execution_count": null,
   "id": "f97f49ca",
   "metadata": {},
   "outputs": [],
   "source": [
    "# Mean squared errors\n",
    "print('MSE: LSTM & hybrid models (12-step ahead)')\n",
    "print(mse(gjrgarch_lstm_preds_h, sim_gjrgarch_condvol[(len(sim_msgarch_condvol)-obs_test):len(sim_msgarch_condvol)]))\n",
    "print(mse(gjrgarch_lstm_preds_arch_h, sim_gjrgarch_condvol[(len(sim_msgarch_condvol)-obs_test):len(sim_msgarch_condvol)]))\n",
    "print(mse(gjrgarch_lstm_preds_garch_h, sim_gjrgarch_condvol[(len(sim_msgarch_condvol)-obs_test):len(sim_msgarch_condvol)]))\n",
    "print(mse(gjrgarch_lstm_preds_egarch_h, sim_gjrgarch_condvol[(len(sim_msgarch_condvol)-obs_test):len(sim_msgarch_condvol)]))\n",
    "print(mse(gjrgarch_lstm_preds_gjrgarch_h, sim_gjrgarch_condvol[(len(sim_msgarch_condvol)-obs_test):len(sim_msgarch_condvol)]))\n",
    "print(mse(gjrgarch_lstm_preds_msgarch_h, sim_gjrgarch_condvol[(len(sim_msgarch_condvol)-obs_test):len(sim_msgarch_condvol)]))\n",
    "\n",
    "# Mean absolute errors\n",
    "print('MAE: LSTM & hybrid models (12-step ahead)')\n",
    "print(mae(gjrgarch_lstm_preds_h, sim_gjrgarch_condvol[(len(sim_msgarch_condvol)-obs_test):len(sim_msgarch_condvol)]))\n",
    "print(mae(gjrgarch_lstm_preds_arch_h, sim_gjrgarch_condvol[(len(sim_msgarch_condvol)-obs_test):len(sim_msgarch_condvol)]))\n",
    "print(mae(gjrgarch_lstm_preds_garch_h, sim_gjrgarch_condvol[(len(sim_msgarch_condvol)-obs_test):len(sim_msgarch_condvol)]))\n",
    "print(mae(gjrgarch_lstm_preds_egarch_h, sim_gjrgarch_condvol[(len(sim_msgarch_condvol)-obs_test):len(sim_msgarch_condvol)]))\n",
    "print(mae(gjrgarch_lstm_preds_gjrgarch_h, sim_gjrgarch_condvol[(len(sim_msgarch_condvol)-obs_test):len(sim_msgarch_condvol)]))\n",
    "print(mae(gjrgarch_lstm_preds_msgarch_h, sim_gjrgarch_condvol[(len(sim_msgarch_condvol)-obs_test):len(sim_msgarch_condvol)]))\n",
    "\n",
    "# Realized variance errors\n",
    "print('MSE & MAE: Realized volatility forecasts (12-step ahead)')\n",
    "print(mse(rv_gjrgarch[(len(rv_garch)-obs_test-12):(len(rv_garch)-12)],sim_gjrgarch_condvol[(len(sim_msgarch_condvol)-obs_test):len(sim_msgarch_condvol)]))\n",
    "print(mae(rv_gjrgarch[(len(rv_garch)-obs_test-12):(len(rv_garch)-12)],sim_gjrgarch_condvol[(len(sim_msgarch_condvol)-obs_test):len(sim_msgarch_condvol)]))"
   ]
  },
  {
   "cell_type": "markdown",
   "id": "c82a7c95",
   "metadata": {},
   "source": [
    "### 4.4.3 24-step ahead forecasting"
   ]
  },
  {
   "cell_type": "code",
   "execution_count": null,
   "id": "f951546a",
   "metadata": {},
   "outputs": [],
   "source": [
    "obs_test = 20000\n",
    "start = 10000\n",
    "d = 50\n",
    "epochs = 75\n",
    "units = 100\n",
    "nodes = 150\n",
    "verbose = 0\n",
    "LR = 0.0001\n",
    "activation_lstm = 'tanh'\n",
    "shift = 25"
   ]
  },
  {
   "cell_type": "code",
   "execution_count": null,
   "id": "ba4379a6",
   "metadata": {},
   "outputs": [],
   "source": [
    "h = 24"
   ]
  },
  {
   "cell_type": "code",
   "execution_count": null,
   "id": "945213dd",
   "metadata": {},
   "outputs": [],
   "source": [
    "gjrgarch_lstm_preds = univariate_lstm_preds_shift(scaled_rv_gjrgarch, obs_test, d, h, epochs, units, nodes, verbose, LR, activation_lstm, rv_gjrgarch, shift)\n",
    "gjrgarch_lstm_preds_arch = generate_2_forecasts_hybrid_shift(scaled_rv_gjrgarch, scaled_filt_arch[49:], obs_test, start, d, epochs, units, nodes, LR, activation_lstm, rv_gjrgarch, h, shift)\n",
    "gjrgarch_lstm_preds_garch = generate_2_forecasts_hybrid_shift(scaled_rv_gjrgarch, scaled_filt_garch[49:], obs_test, start, d, epochs, units, nodes, LR, activation_lstm, rv_gjrgarch, h, shift)\n",
    "gjrgarch_lstm_preds_egarch = generate_2_forecasts_hybrid_shift(scaled_rv_gjrgarch, scaled_filt_egarch[49:], obs_test, start, d, epochs, units, nodes, LR, activation_lstm, rv_gjrgarch, h, shift)\n",
    "gjrgarch_lstm_preds_gjrgarch = generate_2_forecasts_hybrid_shift(scaled_rv_gjrgarch, scaled_filt_gjrgarch[49:], obs_test, start, d, epochs, units, nodes, LR, activation_lstm, rv_gjrgarch, h, shift)\n",
    "gjrgarch_lstm_preds_msgarch = generate_2_forecasts_hybrid_shift(scaled_rv_gjrgarch, scaled_filt_msgarch[49:], obs_test, start, d, epochs, units, nodes, LR, activation_lstm, rv_gjrgarch, h, shift)\n",
    "\n",
    "# Retrieving every h-th sequence, for h-th step ahead prediction evaluation\n",
    "gjrgarch_lstm_preds_h = create_h_step_forecasts(gjrgarch_lstm_preds, h, obs_test)\n",
    "gjrgarch_lstm_preds_arch_h = create_h_step_forecasts(gjrgarch_lstm_preds_arch, h, obs_test)\n",
    "gjrgarch_lstm_preds_garch_h = create_h_step_forecasts(gjrgarch_lstm_preds_garch, h, obs_test)\n",
    "gjrgarch_lstm_preds_egarch_h = create_h_step_forecasts(gjrgarch_lstm_preds_egarch, h, obs_test)\n",
    "gjrgarch_lstm_preds_gjrgarch_h = create_h_step_forecasts(gjrgarch_lstm_preds_gjrgarch, h, obs_test)\n",
    "gjrgarch_lstm_preds_msgarch_h = create_h_step_forecasts(gjrgarch_lstm_preds_msgarch, h, obs_test)"
   ]
  },
  {
   "cell_type": "code",
   "execution_count": null,
   "id": "fa19bbc2",
   "metadata": {},
   "outputs": [],
   "source": [
    "# Mean squared errors\n",
    "print('MSE: LSTM & hybrid models (24-step ahead)')\n",
    "print(mse(gjrgarch_lstm_preds_h, sim_gjrgarch_condvol[(len(sim_msgarch_condvol)-obs_test):len(sim_msgarch_condvol)]))\n",
    "print(mse(gjrgarch_lstm_preds_arch_h, sim_gjrgarch_condvol[(len(sim_msgarch_condvol)-obs_test):len(sim_msgarch_condvol)]))\n",
    "print(mse(gjrgarch_lstm_preds_garch_h, sim_gjrgarch_condvol[(len(sim_msgarch_condvol)-obs_test):len(sim_msgarch_condvol)]))\n",
    "print(mse(gjrgarch_lstm_preds_egarch_h, sim_gjrgarch_condvol[(len(sim_msgarch_condvol)-obs_test):len(sim_msgarch_condvol)]))\n",
    "print(mse(gjrgarch_lstm_preds_gjrgarch_h, sim_gjrgarch_condvol[(len(sim_msgarch_condvol)-obs_test):len(sim_msgarch_condvol)]))\n",
    "print(mse(gjrgarch_lstm_preds_msgarch_h, sim_gjrgarch_condvol[(len(sim_msgarch_condvol)-obs_test):len(sim_msgarch_condvol)]))\n",
    "\n",
    "# Mean absolute errors\n",
    "print('MAE: LSTM & hybrid models (24-step ahead)')\n",
    "print(mae(gjrgarch_lstm_preds_h, sim_gjrgarch_condvol[(len(sim_msgarch_condvol)-obs_test):len(sim_msgarch_condvol)]))\n",
    "print(mae(gjrgarch_lstm_preds_arch_h, sim_gjrgarch_condvol[(len(sim_msgarch_condvol)-obs_test):len(sim_msgarch_condvol)]))\n",
    "print(mae(gjrgarch_lstm_preds_garch_h, sim_gjrgarch_condvol[(len(sim_msgarch_condvol)-obs_test):len(sim_msgarch_condvol)]))\n",
    "print(mae(gjrgarch_lstm_preds_egarch_h, sim_gjrgarch_condvol[(len(sim_msgarch_condvol)-obs_test):len(sim_msgarch_condvol)]))\n",
    "print(mae(gjrgarch_lstm_preds_gjrgarch_h, sim_gjrgarch_condvol[(len(sim_msgarch_condvol)-obs_test):len(sim_msgarch_condvol)]))\n",
    "print(mae(gjrgarch_lstm_preds_msgarch_h, sim_gjrgarch_condvol[(len(sim_msgarch_condvol)-obs_test):len(sim_msgarch_condvol)]))\n",
    "\n",
    "# Realized variance errors\n",
    "print('MSE & MAE: Realized volatility forecasts (24-step ahead)')\n",
    "print(mse(rv_gjrgarch[(len(rv_garch)-obs_test-24):(len(rv_garch)-24)],sim_gjrgarch_condvol[(len(sim_msgarch_condvol)-obs_test):len(sim_msgarch_condvol)]))\n",
    "print(mae(rv_gjrgarch[(len(rv_garch)-obs_test-24):(len(rv_garch)-24)],sim_gjrgarch_condvol[(len(sim_msgarch_condvol)-obs_test):len(sim_msgarch_condvol)]))"
   ]
  },
  {
   "cell_type": "markdown",
   "id": "07a99aec",
   "metadata": {},
   "source": [
    "## 4.5 MS-GARCH data"
   ]
  },
  {
   "cell_type": "code",
   "execution_count": 48,
   "id": "a2fe7517",
   "metadata": {},
   "outputs": [],
   "source": [
    "scaled_rv_msgarch = scaled_data(rv_msgarch)\n",
    "scaled_filt_arch = scaled_data(msgarch_filt_arch.to_numpy())\n",
    "scaled_filt_garch = scaled_data(msgarch_filt_garch.to_numpy())\n",
    "scaled_filt_egarch = scaled_data(msgarch_filt_egarch.to_numpy())\n",
    "scaled_filt_gjrgarch = scaled_data(msgarch_filt_gjrgarch.to_numpy())\n",
    "scaled_filt_msgarch = scaled_data(msgarch_filt_msgarch.to_numpy())\n",
    "\n",
    "scaled_rv_msgarch = scaled_rv_msgarch.flatten()\n",
    "scaled_filt_arch = scaled_filt_arch.flatten()\n",
    "scaled_filt_garch = scaled_filt_garch.flatten()\n",
    "scaled_filt_egarch = scaled_filt_egarch.flatten()\n",
    "scaled_filt_gjrgarch = scaled_filt_gjrgarch.flatten()\n",
    "scaled_filt_msgarch = scaled_filt_msgarch.flatten()"
   ]
  },
  {
   "cell_type": "markdown",
   "id": "3a11f50c",
   "metadata": {},
   "source": [
    "### 4.5.1 1-step ahead forecasting"
   ]
  },
  {
   "cell_type": "code",
   "execution_count": 49,
   "id": "9f8bb748",
   "metadata": {},
   "outputs": [],
   "source": [
    "obs_test = 20000\n",
    "start = 10000\n",
    "d = 50\n",
    "epochs = 75\n",
    "units = 100\n",
    "nodes = 150\n",
    "verbose = 0\n",
    "LR = 0.0001\n",
    "activation_lstm = 'tanh'\n",
    "shift = 25"
   ]
  },
  {
   "cell_type": "code",
   "execution_count": 50,
   "id": "19614959",
   "metadata": {},
   "outputs": [],
   "source": [
    "h = 1"
   ]
  },
  {
   "cell_type": "code",
   "execution_count": 51,
   "id": "1d666ff4",
   "metadata": {},
   "outputs": [
    {
     "name": "stdout",
     "output_type": "stream",
     "text": [
      "313/313 [==============================] - 6s 17ms/step\n",
      "313/313 [==============================] - 6s 17ms/step\n",
      "313/313 [==============================] - 6s 18ms/step\n",
      "313/313 [==============================] - 6s 19ms/step\n",
      "313/313 [==============================] - 6s 18ms/step\n",
      "313/313 [==============================] - 6s 18ms/step\n",
      "313/313 [==============================] - 6s 19ms/step\n",
      "313/313 [==============================] - 6s 17ms/step\n",
      "313/313 [==============================] - 7s 20ms/step\n",
      "313/313 [==============================] - 6s 18ms/step\n",
      "313/313 [==============================] - 6s 17ms/step\n",
      "313/313 [==============================] - 6s 19ms/step\n"
     ]
    }
   ],
   "source": [
    "msgarch_lstm_preds = univariate_lstm_preds_shift(scaled_rv_msgarch, obs_test, d, h, epochs, units, nodes, verbose, LR, activation_lstm, rv_msgarch, shift)\n",
    "msgarch_lstm_preds_arch = generate_2_forecasts_hybrid_shift(scaled_rv_msgarch, scaled_filt_arch[49:], obs_test, start, d, epochs, units, nodes, LR, activation_lstm, rv_msgarch, h, shift)\n",
    "msgarch_lstm_preds_garch = generate_2_forecasts_hybrid_shift(scaled_rv_msgarch, scaled_filt_garch[49:], obs_test, start, d, epochs, units, nodes, LR, activation_lstm, rv_msgarch, h, shift)\n",
    "msgarch_lstm_preds_egarch = generate_2_forecasts_hybrid_shift(scaled_rv_msgarch, scaled_filt_egarch[49:], obs_test, start, d, epochs, units, nodes, LR, activation_lstm, rv_msgarch, h, shift)\n",
    "msgarch_lstm_preds_gjrgarch = generate_2_forecasts_hybrid_shift(scaled_rv_msgarch, scaled_filt_gjrgarch[49:], obs_test, start, d, epochs, units, nodes, LR, activation_lstm, rv_msgarch, h, shift)\n",
    "msgarch_lstm_preds_msgarch = generate_2_forecasts_hybrid_shift(scaled_rv_msgarch, scaled_filt_msgarch[49:], obs_test, start, d, epochs, units, nodes, LR, activation_lstm, rv_msgarch, h, shift)"
   ]
  },
  {
   "cell_type": "code",
   "execution_count": 52,
   "id": "d5750ba0",
   "metadata": {},
   "outputs": [
    {
     "name": "stdout",
     "output_type": "stream",
     "text": [
      "MSE: LSTM & hybrid models (1-step ahead)\n",
      "0.00043079150630620164\n",
      "0.0004252450741757477\n",
      "0.0003970336740763269\n",
      "0.0004242055232417698\n",
      "0.0004393809206843335\n",
      "0.0004315128231583512\n",
      "MAE: LSTM & hybrid models (1-step ahead)\n",
      "0.013838104636866737\n",
      "0.013571247609489603\n",
      "0.012951037173736054\n",
      "0.013650043396508025\n",
      "0.014086500401495389\n",
      "0.013788031755036722\n",
      "MSE & MAE: realized volatility forecasts (1-step ahead)\n",
      "0.0004273050034877354\n",
      "0.013866317269716174\n"
     ]
    }
   ],
   "source": [
    "# Mean squared errors\n",
    "print('MSE: LSTM & hybrid models (1-step ahead)')\n",
    "print(mse(msgarch_lstm_preds, sim_msgarch_condvol[(len(sim_msgarch_condvol)-obs_test):len(sim_msgarch_condvol)]))\n",
    "print(mse(msgarch_lstm_preds_arch, sim_msgarch_condvol[(len(sim_msgarch_condvol)-obs_test):len(sim_msgarch_condvol)]))\n",
    "print(mse(msgarch_lstm_preds_garch, sim_msgarch_condvol[(len(sim_msgarch_condvol)-obs_test):len(sim_msgarch_condvol)]))\n",
    "print(mse(msgarch_lstm_preds_egarch, sim_msgarch_condvol[(len(sim_msgarch_condvol)-obs_test):len(sim_msgarch_condvol)]))\n",
    "print(mse(msgarch_lstm_preds_gjrgarch, sim_msgarch_condvol[(len(sim_msgarch_condvol)-obs_test):len(sim_msgarch_condvol)]))\n",
    "print(mse(msgarch_lstm_preds_msgarch, sim_msgarch_condvol[(len(sim_msgarch_condvol)-obs_test):len(sim_msgarch_condvol)]))\n",
    "\n",
    "# Mean absolute errors\n",
    "print('MAE: LSTM & hybrid models (1-step ahead)')\n",
    "print(mae(msgarch_lstm_preds, sim_msgarch_condvol[(len(sim_msgarch_condvol)-obs_test):len(sim_msgarch_condvol)]))\n",
    "print(mae(msgarch_lstm_preds_arch, sim_msgarch_condvol[(len(sim_msgarch_condvol)-obs_test):len(sim_msgarch_condvol)]))\n",
    "print(mae(msgarch_lstm_preds_garch, sim_msgarch_condvol[(len(sim_msgarch_condvol)-obs_test):len(sim_msgarch_condvol)]))\n",
    "print(mae(msgarch_lstm_preds_egarch, sim_msgarch_condvol[(len(sim_msgarch_condvol)-obs_test):len(sim_msgarch_condvol)]))\n",
    "print(mae(msgarch_lstm_preds_gjrgarch, sim_msgarch_condvol[(len(sim_msgarch_condvol)-obs_test):len(sim_msgarch_condvol)]))\n",
    "print(mae(msgarch_lstm_preds_msgarch, sim_msgarch_condvol[(len(sim_msgarch_condvol)-obs_test):len(sim_msgarch_condvol)]))\n",
    "\n",
    "# Realized variance errors\n",
    "print('MSE & MAE: realized volatility forecasts (1-step ahead)')\n",
    "print(mse(rv_msgarch[(len(rv_garch)-obs_test-1):(len(rv_garch)-1)],sim_msgarch_condvol[(len(sim_msgarch_condvol)-obs_test):len(sim_msgarch_condvol)]))\n",
    "print(mae(rv_msgarch[(len(rv_garch)-obs_test-1):(len(rv_garch)-1)],sim_msgarch_condvol[(len(sim_msgarch_condvol)-obs_test):len(sim_msgarch_condvol)]))"
   ]
  },
  {
   "cell_type": "markdown",
   "id": "790f1413",
   "metadata": {},
   "source": [
    "### 4.5.2 12-step ahead forecasting"
   ]
  },
  {
   "cell_type": "code",
   "execution_count": null,
   "id": "81bf78b4",
   "metadata": {},
   "outputs": [],
   "source": [
    "obs_test = 20000\n",
    "start = 10000\n",
    "d = 50\n",
    "epochs = 75\n",
    "units = 100\n",
    "nodes = 150\n",
    "verbose = 0\n",
    "LR = 0.0001\n",
    "activation_lstm = 'tanh'\n",
    "shift = 25"
   ]
  },
  {
   "cell_type": "code",
   "execution_count": null,
   "id": "ef724292",
   "metadata": {},
   "outputs": [],
   "source": [
    "h = 12"
   ]
  },
  {
   "cell_type": "code",
   "execution_count": null,
   "id": "563d0a39",
   "metadata": {},
   "outputs": [],
   "source": [
    "msgarch_lstm_preds = univariate_lstm_preds_shift(scaled_rv_msgarch, obs_test, d, h, epochs, units, nodes, verbose, LR, activation_lstm, rv_msgarch, shift)\n",
    "msgarch_lstm_preds_arch = generate_2_forecasts_hybrid_shift(scaled_rv_msgarch, scaled_filt_arch[49:], obs_test, start, d, epochs, units, nodes, LR, activation_lstm, rv_msgarch, h, shift)\n",
    "msgarch_lstm_preds_garch = generate_2_forecasts_hybrid_shift(scaled_rv_msgarch, scaled_filt_garch[49:], obs_test, start, d, epochs, units, nodes, LR, activation_lstm, rv_msgarch, h, shift)\n",
    "msgarch_lstm_preds_egarch = generate_2_forecasts_hybrid_shift(scaled_rv_msgarch, scaled_filt_egarch[49:], obs_test, start, d, epochs, units, nodes, LR, activation_lstm, rv_msgarch, h, shift)\n",
    "msgarch_lstm_preds_gjrgarch = generate_2_forecasts_hybrid_shift(scaled_rv_msgarch, scaled_filt_gjrgarch[49:], obs_test, start, d, epochs, units, nodes, LR, activation_lstm, rv_msgarch, h, shift)\n",
    "msgarch_lstm_preds_msgarch = generate_2_forecasts_hybrid_shift(scaled_rv_msgarch, scaled_filt_msgarch[49:], obs_test, start, d, epochs, units, nodes, LR, activation_lstm, rv_msgarch, h, shift)\n",
    "\n",
    "# Retrieving every h-th sequence, for h-th step ahead prediction evaluation\n",
    "msgarch_lstm_preds_h = create_h_step_forecasts(msgarch_lstm_preds, h, obs_test)\n",
    "msgarch_lstm_preds_arch_h = create_h_step_forecasts(msgarch_lstm_preds_arch, h, obs_test)\n",
    "msgarch_lstm_preds_garch_h = create_h_step_forecasts(msgarch_lstm_preds_garch, h, obs_test)\n",
    "msgarch_lstm_preds_egarch_h = create_h_step_forecasts(msgarch_lstm_preds_egarch, h, obs_test)\n",
    "msgarch_lstm_preds_gjrgarch_h = create_h_step_forecasts(msgarch_lstm_preds_gjrgarch, h, obs_test)\n",
    "msgarch_lstm_preds_msgarch_h = create_h_step_forecasts(msgarch_lstm_preds_msgarch, h, obs_test)"
   ]
  },
  {
   "cell_type": "code",
   "execution_count": null,
   "id": "1009e482",
   "metadata": {},
   "outputs": [],
   "source": [
    "# Mean squared errors\n",
    "print('MSE: LSTM & hybrid models (12-step ahead)')\n",
    "print(mse(msgarch_lstm_preds_h, sim_msgarch_condvol[(len(sim_msgarch_condvol)-obs_test):len(sim_msgarch_condvol)]))\n",
    "print(mse(msgarch_lstm_preds_arch_h, sim_msgarch_condvol[(len(sim_msgarch_condvol)-obs_test):len(sim_msgarch_condvol)]))\n",
    "print(mse(msgarch_lstm_preds_garch_h, sim_msgarch_condvol[(len(sim_msgarch_condvol)-obs_test):len(sim_msgarch_condvol)]))\n",
    "print(mse(msgarch_lstm_preds_egarch_h, sim_msgarch_condvol[(len(sim_msgarch_condvol)-obs_test):len(sim_msgarch_condvol)]))\n",
    "print(mse(msgarch_lstm_preds_gjrgarch_h, sim_msgarch_condvol[(len(sim_msgarch_condvol)-obs_test):len(sim_msgarch_condvol)]))\n",
    "print(mse(msgarch_lstm_preds_msgarch_h, sim_msgarch_condvol[(len(sim_msgarch_condvol)-obs_test):len(sim_msgarch_condvol)]))\n",
    "\n",
    "# Mean absolute errors\n",
    "print('MAE: LSTM & hybrid models (12-step ahead)')\n",
    "print(mae(msgarch_lstm_preds_h, sim_msgarch_condvol[(len(sim_msgarch_condvol)-obs_test):len(sim_msgarch_condvol)]))\n",
    "print(mae(msgarch_lstm_preds_arch_h, sim_msgarch_condvol[(len(sim_msgarch_condvol)-obs_test):len(sim_msgarch_condvol)]))\n",
    "print(mae(msgarch_lstm_preds_garch_h, sim_msgarch_condvol[(len(sim_msgarch_condvol)-obs_test):len(sim_msgarch_condvol)]))\n",
    "print(mae(msgarch_lstm_preds_egarch_h, sim_msgarch_condvol[(len(sim_msgarch_condvol)-obs_test):len(sim_msgarch_condvol)]))\n",
    "print(mae(msgarch_lstm_preds_gjrgarch_h, sim_msgarch_condvol[(len(sim_msgarch_condvol)-obs_test):len(sim_msgarch_condvol)]))\n",
    "print(mae(msgarch_lstm_preds_msgarch_h, sim_msgarch_condvol[(len(sim_msgarch_condvol)-obs_test):len(sim_msgarch_condvol)]))\n",
    "\n",
    "# Realized variance errors\n",
    "print('MSE & MAE: realized volatility forecasts (12-step ahead)')\n",
    "print(mse(rv_msgarch[(len(rv_garch)-obs_test-12):(len(rv_garch)-12)],sim_msgarch_condvol[(len(sim_msgarch_condvol)-obs_test):len(sim_msgarch_condvol)]))\n",
    "print(mae(rv_msgarch[(len(rv_garch)-obs_test-12):(len(rv_garch)-12)],sim_msgarch_condvol[(len(sim_msgarch_condvol)-obs_test):len(sim_msgarch_condvol)]))"
   ]
  },
  {
   "cell_type": "markdown",
   "id": "273a5f91",
   "metadata": {},
   "source": [
    "### 4.5.3 24-step ahead forecasting"
   ]
  },
  {
   "cell_type": "code",
   "execution_count": null,
   "id": "a7f5eefe",
   "metadata": {},
   "outputs": [],
   "source": [
    "obs_test = 20000\n",
    "start = 10000\n",
    "d = 50\n",
    "epochs = 75\n",
    "units = 100\n",
    "nodes = 150\n",
    "verbose = 0\n",
    "LR = 0.0001\n",
    "activation_lstm = 'tanh'\n",
    "shift = 25"
   ]
  },
  {
   "cell_type": "code",
   "execution_count": null,
   "id": "a2e6ea83",
   "metadata": {},
   "outputs": [],
   "source": [
    "h = 24"
   ]
  },
  {
   "cell_type": "code",
   "execution_count": null,
   "id": "8b1f5f35",
   "metadata": {},
   "outputs": [],
   "source": [
    "msgarch_lstm_preds = univariate_lstm_preds_shift(scaled_rv_msgarch, obs_test, d, h, epochs, units, nodes, verbose, LR, activation_lstm, rv_msgarch, shift)\n",
    "msgarch_lstm_preds_arch = generate_2_forecasts_hybrid_shift(scaled_rv_msgarch, scaled_filt_arch[49:], obs_test, start, d, epochs, units, nodes, LR, activation_lstm, rv_msgarch, h, shift)\n",
    "msgarch_lstm_preds_garch = generate_2_forecasts_hybrid_shift(scaled_rv_msgarch, scaled_filt_garch[49:], obs_test, start, d, epochs, units, nodes, LR, activation_lstm, rv_msgarch, h, shift)\n",
    "msgarch_lstm_preds_egarch = generate_2_forecasts_hybrid_shift(scaled_rv_msgarch, scaled_filt_egarch[49:], obs_test, start, d, epochs, units, nodes, LR, activation_lstm, rv_msgarch, h, shift)\n",
    "msgarch_lstm_preds_gjrgarch = generate_2_forecasts_hybrid_shift(scaled_rv_msgarch, scaled_filt_gjrgarch[49:], obs_test, start, d, epochs, units, nodes, LR, activation_lstm, rv_msgarch, h, shift)\n",
    "msgarch_lstm_preds_msgarch = generate_2_forecasts_hybrid_shift(scaled_rv_msgarch, scaled_filt_msgarch[49:], obs_test, start, d, epochs, units, nodes, LR, activation_lstm, rv_msgarch, h, shift)\n",
    "\n",
    "# Retrieving every h-th sequence, for h-th step ahead prediction evaluation\n",
    "msgarch_lstm_preds_h = create_h_step_forecasts(msgarch_lstm_preds, h, obs_test)\n",
    "msgarch_lstm_preds_arch_h = create_h_step_forecasts(msgarch_lstm_preds_arch, h, obs_test)\n",
    "msgarch_lstm_preds_garch_h = create_h_step_forecasts(msgarch_lstm_preds_garch, h, obs_test)\n",
    "msgarch_lstm_preds_egarch_h = create_h_step_forecasts(msgarch_lstm_preds_egarch, h, obs_test)\n",
    "msgarch_lstm_preds_gjrgarch_h = create_h_step_forecasts(msgarch_lstm_preds_gjrgarch, h, obs_test)\n",
    "msgarch_lstm_preds_msgarch_h = create_h_step_forecasts(msgarch_lstm_preds_msgarch, h, obs_test)"
   ]
  },
  {
   "cell_type": "code",
   "execution_count": null,
   "id": "26272e28",
   "metadata": {},
   "outputs": [],
   "source": [
    "# Mean squared errors\n",
    "print('MSE: LSTM & hybrid models (24-step ahead)')\n",
    "print(mse(msgarch_lstm_preds_h, sim_msgarch_condvol[(len(sim_msgarch_condvol)-obs_test):len(sim_msgarch_condvol)]))\n",
    "print(mse(msgarch_lstm_preds_arch_h, sim_msgarch_condvol[(len(sim_msgarch_condvol)-obs_test):len(sim_msgarch_condvol)]))\n",
    "print(mse(msgarch_lstm_preds_garch_h, sim_msgarch_condvol[(len(sim_msgarch_condvol)-obs_test):len(sim_msgarch_condvol)]))\n",
    "print(mse(msgarch_lstm_preds_egarch_h, sim_msgarch_condvol[(len(sim_msgarch_condvol)-obs_test):len(sim_msgarch_condvol)]))\n",
    "print(mse(msgarch_lstm_preds_gjrgarch_h, sim_msgarch_condvol[(len(sim_msgarch_condvol)-obs_test):len(sim_msgarch_condvol)]))\n",
    "print(mse(msgarch_lstm_preds_msgarch_h, sim_msgarch_condvol[(len(sim_msgarch_condvol)-obs_test):len(sim_msgarch_condvol)]))\n",
    "\n",
    "# Mean absolute errors\n",
    "print('MAE: LSTM & hybrid models (24-step ahead)')\n",
    "print(mae(msgarch_lstm_preds_h, sim_msgarch_condvol[(len(sim_msgarch_condvol)-obs_test):len(sim_msgarch_condvol)]))\n",
    "print(mae(msgarch_lstm_preds_arch_h, sim_msgarch_condvol[(len(sim_msgarch_condvol)-obs_test):len(sim_msgarch_condvol)]))\n",
    "print(mae(msgarch_lstm_preds_garch_h, sim_msgarch_condvol[(len(sim_msgarch_condvol)-obs_test):len(sim_msgarch_condvol)]))\n",
    "print(mae(msgarch_lstm_preds_egarch_h, sim_msgarch_condvol[(len(sim_msgarch_condvol)-obs_test):len(sim_msgarch_condvol)]))\n",
    "print(mae(msgarch_lstm_preds_gjrgarch_h, sim_msgarch_condvol[(len(sim_msgarch_condvol)-obs_test):len(sim_msgarch_condvol)]))\n",
    "print(mae(msgarch_lstm_preds_msgarch_h, sim_msgarch_condvol[(len(sim_msgarch_condvol)-obs_test):len(sim_msgarch_condvol)]))\n",
    "\n",
    "# Realized variance errors\n",
    "print('MSE & MAE: realized volatility forecasts (24-step ahead)')\n",
    "print(mse(rv_msgarch[(len(rv_garch)-obs_test-24):(len(rv_garch)-24)],sim_msgarch_condvol[(len(sim_msgarch_condvol)-obs_test):len(sim_msgarch_condvol)]))\n",
    "print(mae(rv_msgarch[(len(rv_garch)-obs_test-24):(len(rv_garch)-24)],sim_msgarch_condvol[(len(sim_msgarch_condvol)-obs_test):len(sim_msgarch_condvol)]))"
   ]
  },
  {
   "cell_type": "code",
   "execution_count": null,
   "id": "861e9b0c",
   "metadata": {},
   "outputs": [],
   "source": []
  },
  {
   "cell_type": "code",
   "execution_count": null,
   "id": "a4761be0",
   "metadata": {},
   "outputs": [],
   "source": []
  }
 ],
 "metadata": {
  "kernelspec": {
   "display_name": "Python 3 (ipykernel)",
   "language": "python",
   "name": "python3"
  },
  "language_info": {
   "codemirror_mode": {
    "name": "ipython",
    "version": 3
   },
   "file_extension": ".py",
   "mimetype": "text/x-python",
   "name": "python",
   "nbconvert_exporter": "python",
   "pygments_lexer": "ipython3",
   "version": "3.9.13"
  },
  "vscode": {
   "interpreter": {
    "hash": "31f2aee4e71d21fbe5cf8b01ff0e069b9275f58929596ceb00d14d90e3e16cd6"
   }
  }
 },
 "nbformat": 4,
 "nbformat_minor": 5
}
